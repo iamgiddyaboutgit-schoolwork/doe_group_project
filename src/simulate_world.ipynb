{
 "cells": [
  {
   "cell_type": "code",
   "execution_count": 88,
   "metadata": {},
   "outputs": [],
   "source": [
    "from pathlib import Path\n",
    "\n",
    "import networkx as nx\n",
    "from pyvis.network import Network\n",
    "import numpy as np\n",
    "from scipy import stats"
   ]
  },
  {
   "cell_type": "code",
   "execution_count": 127,
   "metadata": {},
   "outputs": [],
   "source": [
    "NUM_WORLD_LOCATIONS = 100"
   ]
  },
  {
   "cell_type": "code",
   "execution_count": null,
   "metadata": {},
   "outputs": [],
   "source": [
    "# Modify this as more people are born.\n",
    "last_person_id = []"
   ]
  },
  {
   "cell_type": "code",
   "execution_count": null,
   "metadata": {},
   "outputs": [],
   "source": [
    "class Person:\n",
    "    def __init__(\n",
    "        self, \n",
    "        person_id:int, \n",
    "        birth_year:int, \n",
    "        death_year:int,\n",
    "        health:int,\n",
    "        wealth:int,\n",
    "        material_culture:int,\n",
    "        religion:int,\n",
    "        fertility:int,\n",
    "        maternal_chr_1_segment:str,\n",
    "        paternal_chr_1_segment:str,\n",
    "        maternal_chr_2_segment:str,\n",
    "        paternal_chr_2_segment:str,\n",
    "        parents:list,\n",
    "        siblings:list,\n",
    "        spouses:list,\n",
    "        children:list\n",
    "    ):\n",
    "        # The underscores below indicate read-only attributes.\n",
    "        self._person_id = person_id\n",
    "\n",
    "        # Genetic recombination allows for variation\n",
    "        # in the progeny's genetic code.\n",
    "        self._autosomal_segment_1\n",
    "        \n",
    "    @property\n",
    "    def health(self):\n",
    "        return self._health\n",
    "    \n",
    "    @health.setter\n",
    "    def health(self, value):\n",
    "        self._health = value"
   ]
  },
  {
   "cell_type": "code",
   "execution_count": null,
   "metadata": {},
   "outputs": [],
   "source": [
    "class Male(Person):\n",
    "    def __init__(\n",
    "        self, \n",
    "        maternal_chr_x_segment:str,\n",
    "        chr_y_segment:str\n",
    "    ):\n",
    "        pass"
   ]
  },
  {
   "cell_type": "code",
   "execution_count": null,
   "metadata": {},
   "outputs": [],
   "source": [
    "class Female(Person):\n",
    "    def __init__(\n",
    "        self, \n",
    "        maternal_chr_x_segment:str,\n",
    "        paternal_chr_x_segment:str\n",
    "    ):\n",
    "        pass"
   ]
  },
  {
   "cell_type": "code",
   "execution_count": 128,
   "metadata": {},
   "outputs": [],
   "source": [
    "world = Network(\n",
    "    directed=True,\n",
    "    neighborhood_highlight=True, \n",
    "    select_menu=True, \n",
    "    filter_menu=True,\n",
    "    cdn_resources=\"in_line\"\n",
    ")\n",
    "\n",
    "pre_world = nx.connected_watts_strogatz_graph(\n",
    "    n=NUM_WORLD_LOCATIONS,\n",
    "    k=5,\n",
    "    p=0.5\n",
    ")"
   ]
  },
  {
   "cell_type": "code",
   "execution_count": 129,
   "metadata": {},
   "outputs": [],
   "source": [
    "for (v1, v2, weight) in pre_world.edges.data('weight'):\n",
    "    # https://trenton3983.github.io/files/projects/2020-05-21_intro_to_network_analysis_in_python/2020-05-21_intro_to_network_analysis_in_python.html\n",
    "    # https://stackoverflow.com/questions/40128692/networkx-how-to-add-weights-to-an-existing-g-edges\n",
    "\n",
    "    # Here, the weights represent the ease of travelling between nodes.\n",
    "    # A high weight indicates that travel is easy.\n",
    "    pre_world[v1][v2][\"weight\"] = stats.expon.rvs(scale=1)"
   ]
  },
  {
   "cell_type": "code",
   "execution_count": 130,
   "metadata": {},
   "outputs": [],
   "source": [
    "pre_world = pre_world.to_directed()"
   ]
  },
  {
   "cell_type": "code",
   "execution_count": 131,
   "metadata": {},
   "outputs": [],
   "source": [
    "for v1 in range(NUM_WORLD_LOCATIONS - 1):\n",
    "    for v2 in range(v1 + 1, NUM_WORLD_LOCATIONS):\n",
    "        current_edge_data = pre_world.get_edge_data(v1, v2)\n",
    "        if current_edge_data is None:\n",
    "            # There is no need to update current_weight.\n",
    "            continue\n",
    "\n",
    "        # Extract weight attribute\n",
    "        current_weight = current_edge_data[\"weight\"]\n",
    "        if current_weight < 1:\n",
    "            # Make the ease of travel different\n",
    "            # for one of the edges connecting the same\n",
    "            # pair of nodes to simulate ocean currents.\n",
    "            pre_world[v1][v2][\"weight\"] = stats.expon.rvs(scale=0.2)\n"
   ]
  },
  {
   "cell_type": "code",
   "execution_count": 136,
   "metadata": {},
   "outputs": [],
   "source": [
    "world.from_nx(nx_graph=pre_world, show_edge_weights=True)\n",
    "world.show(\"world.html\")"
   ]
  }
 ],
 "metadata": {
  "kernelspec": {
   "display_name": "doe_group_project",
   "language": "python",
   "name": "python3"
  },
  "language_info": {
   "codemirror_mode": {
    "name": "ipython",
    "version": 3
   },
   "file_extension": ".py",
   "mimetype": "text/x-python",
   "name": "python",
   "nbconvert_exporter": "python",
   "pygments_lexer": "ipython3",
   "version": "3.12.0"
  }
 },
 "nbformat": 4,
 "nbformat_minor": 2
}
