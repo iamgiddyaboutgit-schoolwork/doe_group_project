{
 "cells": [
  {
   "cell_type": "code",
   "execution_count": 178,
   "metadata": {},
   "outputs": [],
   "source": [
    "from pathlib import Path\n",
    "\n",
    "import networkx as nx\n",
    "from pyvis.network import Network\n",
    "import numpy as np\n",
    "from scipy import stats"
   ]
  },
  {
   "cell_type": "markdown",
   "metadata": {},
   "source": [
    "The response variable is total population size after SIMULATION_YEARS."
   ]
  },
  {
   "cell_type": "code",
   "execution_count": 187,
   "metadata": {},
   "outputs": [],
   "source": [
    "NUM_WORLD_LOCATIONS = 100\n",
    "SIMULATION_YEARS = 10000\n",
    "INITIAL_POPULATION_PROPORTION = 10000 \n",
    "BIOMES = [\n",
    "    \"tropical and subtropical moist broadleaf forests\",\n",
    "    \"tropical and subtropical dry broadleaf forests\",\n",
    "    \"tropical and subtropical coniferous forests\",\n",
    "    \"temperate broadleaf and mixed forests\",\n",
    "    \"temperate coniferous forests\",\n",
    "    \"boreal forests/taiga\",\n",
    "    \"tropical and subtropical grasslands, savannas, and shrublands\",\n",
    "    \"temperate grasslands, savannas, and shrublands\",\n",
    "    \"flooded grasslands and savannas\",\n",
    "    \"montane grasslands and shrublands\",\n",
    "    \"tundra\",\n",
    "    \"Mediterranean forests, woodlands, and scrub or sclerophyll forests\",\n",
    "    \"deserts and xeric shrublands\",\n",
    "    \"mangrove\"\n",
    "]"
   ]
  },
  {
   "cell_type": "code",
   "execution_count": 194,
   "metadata": {},
   "outputs": [
    {
     "data": {
      "text/plain": [
       "NodeDataView({0: {'biome': 'tropical and subtropical moist broadleaf forests'}, 1: {'biome': 'tropical and subtropical dry broadleaf forests'}, 2: {'biome': 'tropical and subtropical coniferous forests'}, 3: {'biome': 'temperate broadleaf and mixed forests'}, 4: {'biome': 'temperate coniferous forests'}, 5: {'biome': 'boreal forests/taiga'}, 6: {'biome': 'tropical and subtropical grasslands, savannas, and shrublands'}, 7: {'biome': 'temperate grasslands, savannas, and shrublands'}, 8: {'biome': 'flooded grasslands and savannas'}, 9: {'biome': 'montane grasslands and shrublands'}, 10: {'biome': 'tundra'}, 11: {'biome': 'Mediterranean forests, woodlands, and scrub or sclerophyll forests'}, 12: {'biome': 'deserts and xeric shrublands'}, 13: {'biome': 'mangrove'}})"
      ]
     },
     "execution_count": 194,
     "metadata": {},
     "output_type": "execute_result"
    }
   ],
   "source": [
    "biomes = Network(\n",
    "    directed=True,\n",
    "    neighborhood_highlight=True, \n",
    "    select_menu=True, \n",
    "    filter_menu=True,\n",
    "    cdn_resources=\"in_line\"\n",
    ")\n",
    "\n",
    "pre_biomes = nx.Graph()\n",
    "\n",
    "# https://stackoverflow.com/a/47555011/8423001\n",
    "nodes_and_biomes_dict = {node_id: BIOMES[node_id] for node_id in range(len(BIOMES))}\n",
    "\n",
    "pre_biomes.add_nodes_from(\n",
    "    [(node, {\"biome\": attribute}) \n",
    "        for (node, attribute) \n",
    "        in nodes_and_biomes_dict.items()\n",
    "    ] \n",
    ")\n",
    "\n",
    "pre_biomes.add_edges_from(\n",
    "    [\n",
    "        (0, 1),\n",
    "        (0, 2),\n",
    "        (0, 3),\n",
    "        (0, 4),\n",
    "        (0, 6),\n",
    "        (0, 9),\n",
    "        (0, 12),\n",
    "        (0, 13),\n",
    "        (1, 2),\n",
    "        (1, 6),\n",
    "        (1, 8),\n",
    "        (1, 9),\n",
    "        (1, 12),\n",
    "        (1, 13),\n",
    "        (2, 3),\n",
    "        (2, 4),\n",
    "        (2, 6),\n",
    "        (2, 8),\n",
    "        (2, 9),\n",
    "        (2, 12),\n",
    "        (2, 13),\n",
    "        (3, 4),\n",
    "        (3, 5),\n",
    "        (3, 6),\n",
    "        (3, 7),\n",
    "        (3, 8),\n",
    "        (3, 9),\n",
    "        (3, 11),\n",
    "        (3, 12),\n",
    "        (3, 13),\n",
    "        (4, 5),\n",
    "        (4, 6),\n",
    "        (4, 7),\n",
    "        (4, 8),\n",
    "        (4, 9),\n",
    "        (4, 10),\n",
    "        (4, 11),\n",
    "        (4, 12),\n",
    "        (4, 13),\n",
    "        (5, 7),\n",
    "        (5, 8),\n",
    "        (5, 9),\n",
    "        (5, 10),\n",
    "        (6, 7),\n",
    "        (6, 8),\n",
    "        (6, 9),\n",
    "        (6, 12),\n",
    "        (6, 13),\n",
    "        (7, 8),\n",
    "        (7, 9),\n",
    "        (7, 11),\n",
    "        (7, 12),\n",
    "        (8, 9),\n",
    "        (8, 11),\n",
    "        (8, 12),\n",
    "        (8, 13),\n",
    "        (9, 11),\n",
    "        (9, 12),\n",
    "        (9, 13),\n",
    "        (11, 12),\n",
    "        (11, 13),\n",
    "        (12, 13)\n",
    "    ]\n",
    ")"
   ]
  },
  {
   "cell_type": "code",
   "execution_count": 180,
   "metadata": {},
   "outputs": [],
   "source": [
    "world = Network(\n",
    "    directed=True,\n",
    "    neighborhood_highlight=True, \n",
    "    select_menu=True, \n",
    "    filter_menu=True,\n",
    "    cdn_resources=\"in_line\"\n",
    ")\n",
    "\n",
    "pre_world = nx.connected_watts_strogatz_graph(\n",
    "    n=NUM_WORLD_LOCATIONS,\n",
    "    k=5,\n",
    "    p=0.5\n",
    ")"
   ]
  },
  {
   "cell_type": "code",
   "execution_count": 181,
   "metadata": {},
   "outputs": [],
   "source": [
    "for (v1, v2, weight) in pre_world.edges.data('weight'):\n",
    "    # https://trenton3983.github.io/files/projects/2020-05-21_intro_to_network_analysis_in_python/2020-05-21_intro_to_network_analysis_in_python.html\n",
    "    # https://stackoverflow.com/questions/40128692/networkx-how-to-add-weights-to-an-existing-g-edges\n",
    "\n",
    "    # Here, the weights represent the ease of travelling between nodes.\n",
    "    # A high weight indicates that travel is easy.\n",
    "    pre_world[v1][v2][\"weight\"] = stats.expon.rvs(scale=1)\n",
    "\n",
    "# Make the graph directed to indicate\n",
    "# allowable population movements.\n",
    "pre_world = pre_world.to_directed()"
   ]
  },
  {
   "cell_type": "code",
   "execution_count": 182,
   "metadata": {},
   "outputs": [],
   "source": [
    "# Skip the last row because we only care about\n",
    "# the upper triangle exclusive of th main diagonal\n",
    "# of the adjacency matrix.\n",
    "for v1 in range(NUM_WORLD_LOCATIONS - 1):\n",
    "    for v2 in range(v1 + 1, NUM_WORLD_LOCATIONS):\n",
    "        current_edge_data = pre_world.get_edge_data(v1, v2)\n",
    "        if current_edge_data is None:\n",
    "            # There is no need to update current_weight.\n",
    "            continue\n",
    "\n",
    "        # Extract weight attribute\n",
    "        current_weight = current_edge_data[\"weight\"]\n",
    "        if current_weight < 1:\n",
    "            # Make the ease of travel different\n",
    "            # for one of the edges connecting the same\n",
    "            # pair of nodes to simulate ocean currents.\n",
    "            pre_world[v1][v2][\"weight\"] = stats.expon.rvs(scale=0.2)\n"
   ]
  },
  {
   "cell_type": "code",
   "execution_count": 183,
   "metadata": {},
   "outputs": [],
   "source": [
    "betweenness_centralities = nx.betweenness_centrality(\n",
    "    G=pre_world,\n",
    "    weight=\"weight\"\n",
    ")\n",
    "\n",
    "# Get a node with a maximal betweenness centrality.\n",
    "# This node will hold our starting population.\n",
    "# https://stackoverflow.com/a/280156/8423001\n",
    "starting_node = max(betweenness_centralities, key=betweenness_centralities.get)"
   ]
  },
  {
   "cell_type": "code",
   "execution_count": 184,
   "metadata": {},
   "outputs": [],
   "source": [
    "# Loop through nodes and set initial parameters.\n",
    "for node in nx.nodes(G=pre_world):\n",
    "    nx.set_node_attributes(\n",
    "        G=pre_world, \n",
    "        values={node: {\"carrying_capacity\": 1000000}}\n",
    "    )"
   ]
  },
  {
   "cell_type": "code",
   "execution_count": 185,
   "metadata": {},
   "outputs": [],
   "source": [
    "world.from_nx(nx_graph=pre_world, show_edge_weights=True)\n",
    "world.show(\"world.html\")"
   ]
  }
 ],
 "metadata": {
  "kernelspec": {
   "display_name": "doe_group_project",
   "language": "python",
   "name": "python3"
  },
  "language_info": {
   "codemirror_mode": {
    "name": "ipython",
    "version": 3
   },
   "file_extension": ".py",
   "mimetype": "text/x-python",
   "name": "python",
   "nbconvert_exporter": "python",
   "pygments_lexer": "ipython3",
   "version": "3.12.0"
  }
 },
 "nbformat": 4,
 "nbformat_minor": 2
}
