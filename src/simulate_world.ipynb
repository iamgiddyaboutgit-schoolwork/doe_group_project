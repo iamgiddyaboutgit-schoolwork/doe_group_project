{
 "cells": [
  {
   "cell_type": "markdown",
   "metadata": {},
   "source": [
    "# Human Population Size on an Earth-like Planet--a Computer Experiment"
   ]
  },
  {
   "cell_type": "code",
   "execution_count": 1,
   "metadata": {},
   "outputs": [],
   "source": [
    "from pathlib import Path\n",
    "import sys\n",
    "\n",
    "import networkx as nx\n",
    "from pyvis.network import Network\n",
    "import numpy as np\n",
    "from scipy import stats\n",
    "# from pert import PERT\n",
    "import plotly.express as px"
   ]
  },
  {
   "cell_type": "code",
   "execution_count": null,
   "metadata": {},
   "outputs": [],
   "source": [
    "rng = np.random.default_rng()"
   ]
  },
  {
   "cell_type": "markdown",
   "metadata": {},
   "source": [
    "The response variable is total population size after SIMULATION_YEARS."
   ]
  },
  {
   "cell_type": "code",
   "execution_count": 2,
   "metadata": {},
   "outputs": [
    {
     "name": "stdout",
     "output_type": "stream",
     "text": [
      "INITIAL_AVG_CARRYING_CAPACITY_PER_LOCATION: 11453780.0\n"
     ]
    }
   ],
   "source": [
    "# https://en.wikipedia.org/wiki/Global_200\n",
    "# The WWF has identified 142 terrestrial ecoregions.\n",
    "# Change NUM_WORLD_LOCATIONS to 37067 to get each location \n",
    "# about the size of Rhode Island (based on the total\n",
    "# land area of the earth).\n",
    "# However, don't try to visualize this many nodes \n",
    "# because it will take forever and not look very good.\n",
    "NUM_WORLD_LOCATIONS = 100\n",
    "SIMULATION_YEARS = 10000\n",
    "INITIAL_POPULATION_PROPORTION = 0.0001\n",
    "# TOTAL_LAND_AREA is in square miles. \n",
    "TOTAL_LAND_AREA = 57268900 \n",
    "# The average maximum sustainable population density \n",
    "# (per square mile) on the planet for a hunter-gatherer society.\n",
    "# https://en.wikipedia.org/wiki/Hunter-gatherer#:~:text=One%20group%2C%20the%20Chumash%2C%20had,21.6%20persons%20per%20square%20mile.\n",
    "INITIAL_MAX_POP_DENSITY = 20\n",
    "INITIAL_AVG_CARRYING_CAPACITY_PER_LOCATION = (INITIAL_MAX_POP_DENSITY * TOTAL_LAND_AREA) / NUM_WORLD_LOCATIONS\n",
    "\n",
    "print(\n",
    "    f\"INITIAL_AVG_CARRYING_CAPACITY_PER_LOCATION: {INITIAL_AVG_CARRYING_CAPACITY_PER_LOCATION}\"\n",
    ")\n",
    "\n",
    "# https://en.wikipedia.org/wiki/Global_200#Global_200:_Terrestrial\n",
    "BIOMES = [\n",
    "    \"tropical and subtropical moist broadleaf forests\",\n",
    "    \"tropical and subtropical dry broadleaf forests\", \n",
    "    \"tropical and subtropical coniferous forests\",\n",
    "    \"temperate broadleaf and mixed forests\",\n",
    "    \"temperate coniferous forests\",\n",
    "    \"boreal forests/taiga\",\n",
    "    \"tropical and subtropical grasslands, savannas, and shrublands\",\n",
    "    \"temperate grasslands, savannas, and shrublands\",\n",
    "    \"flooded grasslands and savannas\",\n",
    "    \"montane grasslands and shrublands\",\n",
    "    \"tundra\",\n",
    "    \"Mediterranean forests, woodlands, and scrub or sclerophyll forests\",\n",
    "    \"deserts and xeric shrublands\",\n",
    "    \"mangrove\"\n",
    "]"
   ]
  },
  {
   "cell_type": "code",
   "execution_count": 3,
   "metadata": {},
   "outputs": [],
   "source": [
    "# Associate each biome with a color.\n",
    "my_biome_colors = px.colors.qualitative.Prism\n",
    "my_biome_colors.extend(px.colors.qualitative.Pastel2)"
   ]
  },
  {
   "cell_type": "code",
   "execution_count": 4,
   "metadata": {},
   "outputs": [
    {
     "data": {
      "text/plain": [
       "{'tropical and subtropical moist broadleaf forests': 'rgb(95, 70, 144)',\n",
       " 'tropical and subtropical dry broadleaf forests': 'rgb(29, 105, 150)',\n",
       " 'tropical and subtropical coniferous forests': 'rgb(56, 166, 165)',\n",
       " 'temperate broadleaf and mixed forests': 'rgb(15, 133, 84)',\n",
       " 'temperate coniferous forests': 'rgb(115, 175, 72)',\n",
       " 'boreal forests/taiga': 'rgb(237, 173, 8)',\n",
       " 'tropical and subtropical grasslands, savannas, and shrublands': 'rgb(225, 124, 5)',\n",
       " 'temperate grasslands, savannas, and shrublands': 'rgb(204, 80, 62)',\n",
       " 'flooded grasslands and savannas': 'rgb(148, 52, 110)',\n",
       " 'montane grasslands and shrublands': 'rgb(111, 64, 112)',\n",
       " 'tundra': 'rgb(102, 102, 102)',\n",
       " 'Mediterranean forests, woodlands, and scrub or sclerophyll forests': 'rgb(179,226,205)',\n",
       " 'deserts and xeric shrublands': 'rgb(253,205,172)',\n",
       " 'mangrove': 'rgb(203,213,232)'}"
      ]
     },
     "execution_count": 4,
     "metadata": {},
     "output_type": "execute_result"
    }
   ],
   "source": [
    "# Before loop\n",
    "biomes_with_colors = {}\n",
    "c = 0\n",
    "for biome in BIOMES:\n",
    "    # Add key-value pair\n",
    "    biomes_with_colors[biome] = my_biome_colors[c]\n",
    "    # Prep for next iteration\n",
    "    c += 1\n",
    "\n",
    "biomes_with_colors"
   ]
  },
  {
   "cell_type": "code",
   "execution_count": 5,
   "metadata": {},
   "outputs": [
    {
     "data": {
      "text/plain": [
       "{0: {'biome': 'tropical and subtropical moist broadleaf forests',\n",
       "  'color': 'rgb(95, 70, 144)'},\n",
       " 1: {'biome': 'tropical and subtropical dry broadleaf forests',\n",
       "  'color': 'rgb(29, 105, 150)'},\n",
       " 2: {'biome': 'tropical and subtropical coniferous forests',\n",
       "  'color': 'rgb(56, 166, 165)'},\n",
       " 3: {'biome': 'temperate broadleaf and mixed forests',\n",
       "  'color': 'rgb(15, 133, 84)'},\n",
       " 4: {'biome': 'temperate coniferous forests', 'color': 'rgb(115, 175, 72)'},\n",
       " 5: {'biome': 'boreal forests/taiga', 'color': 'rgb(237, 173, 8)'},\n",
       " 6: {'biome': 'tropical and subtropical grasslands, savannas, and shrublands',\n",
       "  'color': 'rgb(225, 124, 5)'},\n",
       " 7: {'biome': 'temperate grasslands, savannas, and shrublands',\n",
       "  'color': 'rgb(204, 80, 62)'},\n",
       " 8: {'biome': 'flooded grasslands and savannas', 'color': 'rgb(148, 52, 110)'},\n",
       " 9: {'biome': 'montane grasslands and shrublands',\n",
       "  'color': 'rgb(111, 64, 112)'},\n",
       " 10: {'biome': 'tundra', 'color': 'rgb(102, 102, 102)'},\n",
       " 11: {'biome': 'Mediterranean forests, woodlands, and scrub or sclerophyll forests',\n",
       "  'color': 'rgb(179,226,205)'},\n",
       " 12: {'biome': 'deserts and xeric shrublands', 'color': 'rgb(253,205,172)'},\n",
       " 13: {'biome': 'mangrove', 'color': 'rgb(203,213,232)'}}"
      ]
     },
     "execution_count": 5,
     "metadata": {},
     "output_type": "execute_result"
    }
   ],
   "source": [
    "pre_biomes_node_attributes = {}\n",
    "for node_id, biome in enumerate(BIOMES):\n",
    "    pre_biomes_node_attributes[node_id] = {\"biome\": biome, \"color\": biomes_with_colors[biome]}\n",
    "pre_biomes_node_attributes"
   ]
  },
  {
   "cell_type": "code",
   "execution_count": null,
   "metadata": {},
   "outputs": [],
   "source": [
    "# We actually don't care about making the PyVis graph\n",
    "# for just the biomes, so delete this part later.\n",
    "biomes = Network(\n",
    "    directed=False,\n",
    "    neighborhood_highlight=False, \n",
    "    select_menu=True, \n",
    "    filter_menu=True,\n",
    "    # https://pyvis.readthedocs.io/en/latest/tutorial.html\n",
    "    bgcolor=\"#222222\", \n",
    "    font_color=\"white\",\n",
    "    cdn_resources=\"in_line\"\n",
    ")\n",
    "\n",
    "pre_biomes = nx.Graph()\n",
    "\n",
    "# https://stackoverflow.com/a/47555011/8423001\n",
    "pre_biomes.add_nodes_from(\n",
    "    # pre_biomes_node_attributes\n",
    "    [(node, attribute_dict) \n",
    "        for (node, attribute_dict) \n",
    "        in pre_biomes_node_attributes.items()\n",
    "    ] \n",
    ")\n",
    "\n",
    "# For all vertices a and b in pre_biomes, a and b\n",
    "# are adjacent if a and b are geographically adjacent\n",
    "# when looking at a map of biomes on Earth. \n",
    "pre_biomes.add_edges_from(\n",
    "    [\n",
    "        (0, 1),\n",
    "        (0, 2),\n",
    "        (0, 3),\n",
    "        (0, 4),\n",
    "        (0, 6),\n",
    "        (0, 9),\n",
    "        (0, 12),\n",
    "        (0, 13),\n",
    "        (1, 2),\n",
    "        (1, 6),\n",
    "        (1, 8),\n",
    "        (1, 9),\n",
    "        (1, 12),\n",
    "        (1, 13),\n",
    "        (2, 3),\n",
    "        (2, 4),\n",
    "        (2, 6),\n",
    "        (2, 8),\n",
    "        (2, 9),\n",
    "        (2, 12),\n",
    "        (2, 13),\n",
    "        (3, 4),\n",
    "        (3, 5),\n",
    "        (3, 6),\n",
    "        (3, 7),\n",
    "        (3, 8),\n",
    "        (3, 9),\n",
    "        (3, 11),\n",
    "        (3, 12),\n",
    "        (3, 13),\n",
    "        (4, 5),\n",
    "        (4, 6),\n",
    "        (4, 7),\n",
    "        (4, 8),\n",
    "        (4, 9),\n",
    "        (4, 10),\n",
    "        (4, 11),\n",
    "        (4, 12),\n",
    "        (4, 13),\n",
    "        (5, 7),\n",
    "        (5, 8),\n",
    "        (5, 9),\n",
    "        (5, 10),\n",
    "        (6, 7),\n",
    "        (6, 8),\n",
    "        (6, 9),\n",
    "        (6, 12),\n",
    "        (6, 13),\n",
    "        (7, 8),\n",
    "        (7, 9),\n",
    "        (7, 11),\n",
    "        (7, 12),\n",
    "        (8, 9),\n",
    "        (8, 11),\n",
    "        (8, 12),\n",
    "        (8, 13),\n",
    "        (9, 11),\n",
    "        (9, 12),\n",
    "        (9, 13),\n",
    "        (11, 12),\n",
    "        (11, 13),\n",
    "        (12, 13)\n",
    "    ]\n",
    ")"
   ]
  },
  {
   "cell_type": "code",
   "execution_count": null,
   "metadata": {},
   "outputs": [],
   "source": [
    "# https://github.com/WestHealth/pyvis/issues/45\n",
    "# PyVis does not inherit all properties from Networkx object!\n",
    "biomes.from_nx(nx_graph=pre_biomes)"
   ]
  },
  {
   "cell_type": "code",
   "execution_count": null,
   "metadata": {},
   "outputs": [],
   "source": [
    "biomes.show(\"biomes.html\")"
   ]
  },
  {
   "cell_type": "code",
   "execution_count": 6,
   "metadata": {},
   "outputs": [],
   "source": [
    "world = Network(\n",
    "    directed=True,\n",
    "    neighborhood_highlight=True, \n",
    "    select_menu=False, \n",
    "    filter_menu=False,\n",
    "    cdn_resources=\"in_line\"\n",
    ")\n",
    "\n",
    "pre_world = nx.connected_watts_strogatz_graph(\n",
    "    n=NUM_WORLD_LOCATIONS,\n",
    "    k=5,\n",
    "    p=0.5\n",
    ")"
   ]
  },
  {
   "cell_type": "code",
   "execution_count": null,
   "metadata": {},
   "outputs": [],
   "source": [
    "# Make edge weights between the world locations\n",
    "# to represent the ease of travel between those locations.\n",
    "for (v1, v2, weight) in pre_world.edges.data('weight'):\n",
    "    # https://trenton3983.github.io/files/projects/2020-05-21_intro_to_network_analysis_in_python/2020-05-21_intro_to_network_analysis_in_python.html\n",
    "    # https://stackoverflow.com/questions/40128692/networkx-how-to-add-weights-to-an-existing-g-edges\n",
    "\n",
    "    # Here, the weights represent the ease of travelling between nodes.\n",
    "    # A high weight indicates that travel is easy.\n",
    "    pre_world[v1][v2][\"weight\"] = stats.expon.rvs(scale=1)\n",
    "\n",
    "# Make the graph directed to indicate\n",
    "# allowable population movements.\n",
    "pre_world = pre_world.to_directed()"
   ]
  },
  {
   "cell_type": "code",
   "execution_count": null,
   "metadata": {},
   "outputs": [],
   "source": [
    "# Skip the last row because we only care about\n",
    "# the upper triangle exclusive of the main diagonal\n",
    "# of the adjacency matrix.\n",
    "for v1 in range(NUM_WORLD_LOCATIONS - 1):\n",
    "    for v2 in range(v1 + 1, NUM_WORLD_LOCATIONS):\n",
    "        current_edge_data = pre_world.get_edge_data(v1, v2)\n",
    "        if current_edge_data is None:\n",
    "            # There is no need to update current_weight.\n",
    "            continue\n",
    "\n",
    "        # Extract weight attribute\n",
    "        current_weight = current_edge_data[\"weight\"]\n",
    "        if current_weight < 1:\n",
    "            # Make the ease of travel different\n",
    "            # for one of the edges connecting the same\n",
    "            # pair of nodes to simulate ocean currents.\n",
    "            pre_world[v1][v2][\"weight\"] = stats.expon.rvs(scale=0.2)\n"
   ]
  },
  {
   "cell_type": "code",
   "execution_count": null,
   "metadata": {},
   "outputs": [],
   "source": [
    "pre_world_betweenness_centralities = nx.betweenness_centrality(\n",
    "    G=pre_world,\n",
    "    weight=\"weight\"\n",
    ")\n",
    "\n",
    "pre_biomes_betweenness_centralities = nx.betweenness_centrality(\n",
    "    G=pre_biomes\n",
    ")\n",
    "\n",
    "# Get a node with a maximal betweenness centrality.\n",
    "# This node will hold our starting population.\n",
    "# https://stackoverflow.com/a/280156/8423001\n",
    "starting_node = max(\n",
    "    pre_world_betweenness_centralities, \n",
    "    key=pre_world_betweenness_centralities.get\n",
    ")\n",
    "\n",
    "starting_node_biome_id = max(\n",
    "    pre_biomes_betweenness_centralities, \n",
    "    key=pre_biomes_betweenness_centralities.get\n",
    ")\n",
    "\n",
    "starting_node_biome = BIOMES[starting_node_biome_id]"
   ]
  },
  {
   "cell_type": "code",
   "execution_count": null,
   "metadata": {},
   "outputs": [],
   "source": [
    "sorted(list(pre_biomes_betweenness_centralities.values()))"
   ]
  },
  {
   "cell_type": "code",
   "execution_count": null,
   "metadata": {},
   "outputs": [],
   "source": [
    "# https://stackoverflow.com/a/3071441/8423001\n",
    "(\n",
    "    stats.rankdata(\n",
    "        a=list(pre_biomes_betweenness_centralities.values()),\n",
    "        method=\"dense\"\n",
    "    )\n",
    "    # Because the ranks start at 1 but Python is 0-indexed,\n",
    "    # subtract 1.\n",
    "    - 1\n",
    ")"
   ]
  },
  {
   "cell_type": "code",
   "execution_count": null,
   "metadata": {},
   "outputs": [],
   "source": [
    "sum(np.array(list(pre_biomes_betweenness_centralities.values())) <= 0.01)"
   ]
  },
  {
   "cell_type": "code",
   "execution_count": null,
   "metadata": {},
   "outputs": [],
   "source": [
    "stats.rankdata(\n",
    "        a=[-2, 0, 3, 3, 3],\n",
    "        method=\"max\"\n",
    "    )"
   ]
  },
  {
   "cell_type": "code",
   "execution_count": null,
   "metadata": {},
   "outputs": [],
   "source": [
    "# def stochastic_func(\n",
    "#     x,\n",
    "#     b,\n",
    "#     corr\n",
    "# ):\n",
    "#     rng = np.random.default_rng()\n",
    "#     std_x = np.std(x)\n",
    "#     if std_x == 0:\n",
    "#         y = rng.choice(np.arange(b + 1))\n",
    "#     else:\n",
    "#         x_normalized = (x - np.mean(x))/np.std(x)\n",
    " \n",
    "#         y_normalized = corr * x_normalized\n",
    "#         std_ints = np.std(np.arange(b + 1))\n",
    "#         mean_ints = (1 + b)/2\n",
    "#         y = y_normalized * std_ints + mean_ints\n",
    "#     return y"
   ]
  },
  {
   "cell_type": "markdown",
   "metadata": {},
   "source": [
    "Copula Stuff"
   ]
  },
  {
   "cell_type": "code",
   "execution_count": null,
   "metadata": {},
   "outputs": [],
   "source": [
    "def gaussian_copula(*args, **kwargs):\n",
    "    \"\"\"Get the value of a Gaussian Copula.\"\"\"\n",
    "    # https://en.wikipedia.org/wiki/Copula_(probability_theory)#Gaussian_copula\n",
    "    # Arguments provided via position should be \n",
    "    # real numbers in [0, 1].  \n",
    "    # kwargs should contain a key=value combination\n",
    "    # where the key is cov.\n",
    "    #\n",
    "    # The multivariate_normal.cdf returns nan when the corresponding\n",
    "    # probability law is at least two dimensional and at least one of \n",
    "    # the values supplied to x is -inf.  However, we think that it is\n",
    "    # reasonable for it just to return 0 instead of nan.\n",
    "    x = stats.norm.ppf(q=args)\n",
    "    if (x == float(\"-inf\")).any():\n",
    "        cdf = 0\n",
    "    else:\n",
    "        cdf = stats.multivariate_normal.cdf(\n",
    "            x=stats.norm.ppf(q=args),\n",
    "            mean=np.zeros(shape=len(args)),\n",
    "            allow_singular=True,\n",
    "            **kwargs      \n",
    "        )\n",
    "\n",
    "    return cdf"
   ]
  },
  {
   "cell_type": "code",
   "execution_count": null,
   "metadata": {},
   "outputs": [],
   "source": [
    "def bivariate_discrete_copula_pmf(C, u:int, v:int, R:int, S:int, **kwargs) -> float:\n",
    "    \"\"\"Get the value of the probability mass function\n",
    "    at (u, v) using the copula function C.\n",
    "\n",
    "    source: https://doi.org/10.1515/demo-2020-0022\n",
    "    see: equation 7.1\n",
    "    \"\"\"\n",
    "    if (u < 0) or (u > (R - 1)):\n",
    "        raise ValueError(\"u must be in {0, 1, ..., R - 1}\")\n",
    "    if (v < 0) or (v > (S - 1)):\n",
    "        raise ValueError(\"v must be in {0, 1, ..., S - 1}\")\n",
    "\n",
    "    pmf = C((u + 1)/R, (v + 1)/S, **kwargs) \\\n",
    "        - C(u/R, (v + 1)/S, **kwargs) \\\n",
    "        - C((u + 1)/R, v/S, **kwargs) \\\n",
    "        + C(u/R, v/S, **kwargs)\n",
    "    \n",
    "    if (pmf < (0 - sys.float_info.epsilon)) or (pmf > (1 + sys.float_info.epsilon)):\n",
    "        raise RuntimeError(\"C appears to be an invalid copula.\")\n",
    "    \n",
    "    return pmf"
   ]
  },
  {
   "cell_type": "code",
   "execution_count": null,
   "metadata": {},
   "outputs": [],
   "source": [
    "def make_conditional_pmf(C, R:int, S:int, **kwargs):\n",
    "    \"\"\"Make conditional PMF array.  \n",
    "    \n",
    "    For all u in {0, 1, ..., R - 1},\n",
    "    determine the conditional distribution:\n",
    "    P(V=v|U=u).\n",
    "    Save this as a two-dimensional array\n",
    "    where the (i, j) entry in the array\n",
    "    represents P(V=j|U=i).\n",
    "\n",
    "    Args:\n",
    "        C: function. This is the function for a copula.\n",
    "\n",
    "        **kwargs: additional name=value pairs that can\n",
    "            be passed to C.\n",
    "  \n",
    "    Returns:\n",
    "        numpy.ndarray.    \n",
    "    \"\"\"\n",
    "    \n",
    "    conditional_pmf_array = np.empty(shape=(R, S))\n",
    "    for u in range(R):\n",
    "        for v in range(S):\n",
    "            # Save a preliminary value.\n",
    "            conditional_pmf_array[u, v] = bivariate_discrete_copula_pmf(\n",
    "                C=gaussian_copula, \n",
    "                u=u, \n",
    "                v=v, \n",
    "                R=R, \n",
    "                S=S, \n",
    "                **kwargs\n",
    "            )\n",
    "        # Now, after getting part of the array filled out,\n",
    "        # do some rescaling to make sure we are\n",
    "        # constructing a valid probability distribution.\n",
    "        probs_as_ints = (conditional_pmf_array[u, :] * (2 ** (32 - 1))).astype(np.int32)\n",
    "        probs_as_probs = (probs_as_ints / probs_as_ints.sum())\n",
    "        conditional_pmf_array[u, :] = probs_as_probs\n",
    "\n",
    "    return conditional_pmf_array"
   ]
  },
  {
   "cell_type": "code",
   "execution_count": null,
   "metadata": {},
   "outputs": [],
   "source": [
    "num_biomes = len(BIOMES)\n",
    "corr = np.array([\n",
    "    [1, 0.9],\n",
    "    [0.9, 1]\n",
    "])\n",
    "\n",
    "conditional_pmf = make_conditional_pmf(\n",
    "    C=gaussian_copula,\n",
    "    R=NUM_WORLD_LOCATIONS,\n",
    "    S=num_biomes,\n",
    "    cov=corr\n",
    ")"
   ]
  },
  {
   "cell_type": "code",
   "execution_count": null,
   "metadata": {},
   "outputs": [],
   "source": [
    "def get_correlated_ranks(\n",
    "    conditional_pmf,\n",
    "    rng\n",
    "):\n",
    "    \"\"\"Given a bivariate conditional_pmf formatted\n",
    "    as an array, return 0-index-based ranks.\n",
    "\n",
    "    Args:\n",
    "        conditional_pmf: numpy.ndarray\n",
    "        rng: numpy.random._generator.Generator\n",
    "    \n",
    "    Returns:\n",
    "        numpy.ndarray. The order of the elements\n",
    "        in the 1-dimensional array is significant.\n",
    "    \"\"\"\n",
    "    conditional_pmf_shape = conditional_pmf.shape\n",
    "    num_x_ranks = conditional_pmf_shape[0]\n",
    "    num_y_ranks = conditional_pmf_shape[1]\n",
    "\n",
    "    if num_x_ranks < num_y_ranks:\n",
    "        raise NotImplementedError(\n",
    "\"num_y_ranks must be <= num_x_ranks\\n \\\n",
    "Please make sure that conditional_pmf has a \\\n",
    "number of rows greater than or equal to its \\\n",
    "number of columns.  Also, make sure that \\\n",
    "each row is a valid probability distribution.\"\n",
    "        )  \n",
    "      \n",
    "    y_ranks = np.empty(shape=num_x_ranks, dtype=int)\n",
    "    \n",
    "    # Before loop\n",
    "    is_surjective = False\n",
    "\n",
    "    # Repeatedly generate possible realizations of \n",
    "    # ranks for the Y random variable\n",
    "    # until surjectivity is achieved.\n",
    "    while is_surjective is False:\n",
    "        for x_rank in range(num_x_ranks):\n",
    "            # Choose y_ranks[x_rank] based on \n",
    "            # the conditional PMF for \n",
    "            # the current value of x_rank.\n",
    "            y_ranks[x_rank] = rng.choice(\n",
    "                # Choose from all of the possible\n",
    "                # Y ranks.\n",
    "                a=num_y_ranks, \n",
    "                # Weight the choice according to\n",
    "                # the conditional_pmf.\n",
    "                p=conditional_pmf[x_rank, :], \n",
    "                size=1,\n",
    "                replace=True,\n",
    "                shuffle=False\n",
    "            ).item()\n",
    "\n",
    "        # Test for surjectivity after building out y_ranks\n",
    "        is_surjective = bool(\n",
    "            np.isin(\n",
    "                element=np.arange(num_y_ranks), \n",
    "                test_elements=y_ranks\n",
    "            ).all()\n",
    "        )\n",
    "\n",
    "    return y_ranks"
   ]
  },
  {
   "cell_type": "code",
   "execution_count": null,
   "metadata": {},
   "outputs": [],
   "source": [
    "biome_indices_for_world_locations = get_correlated_ranks(\n",
    "    conditional_pmf=conditional_pmf,\n",
    "    rng=rng\n",
    ")\n",
    "\n",
    "biomes_for_world_locations = [BIOMES[b] for b in biome_indices_for_world_locations]"
   ]
  },
  {
   "cell_type": "code",
   "execution_count": null,
   "metadata": {},
   "outputs": [],
   "source": [
    "# https://realpython.com/iterate-through-dictionary-python/#iterating-through-dictionaries-comprehension-examples\n",
    "{n: {\"biome\": biomes_for_world_locations[n]} for n in range(NUM_WORLD_LOCATIONS)}"
   ]
  },
  {
   "cell_type": "code",
   "execution_count": null,
   "metadata": {},
   "outputs": [],
   "source": [
    "# We plan on assigning biomes to the nodes in our world.\n",
    "# But, we must consider that some biomes are more likely\n",
    "# to be connected.  Thus, we assign the biomes randomly\n",
    "# while taking account of the betweenness centralities.\n",
    "# With probability 0.5, we assign neighbors the same\n",
    "# biome, while with probability 0.5, we assign neighbors\n",
    "# a new biome of similar betweenness centrality.\n",
    "1.0 / NUM_WORLD_LOCATIONS\n",
    "sorted(pre_biomes_betweenness_centralities.values())\n",
    "# Given a value of the ECDF of pre_world_betweenness_centralities\n",
    "# generate an appropriately positioned random rank\n",
    "# within pre_biomes_betweenness_centralities.\n",
    "# First, rank the pre_world_betweenness_centralities.\n",
    "sorted(pre_world_betweenness_centralities.values())\n",
    "# Second, find the find the value of the ECDF for each rank."
   ]
  },
  {
   "cell_type": "code",
   "execution_count": null,
   "metadata": {},
   "outputs": [],
   "source": [
    "np.quantile(\n",
    "    a=list(pre_world_betweenness_centralities.values()),\n",
    "    q=0.5\n",
    ")"
   ]
  },
  {
   "cell_type": "code",
   "execution_count": null,
   "metadata": {},
   "outputs": [],
   "source": [
    "for id in pre_biomes.neighbors(starting_node_biome_id):\n",
    "    print(id)"
   ]
  },
  {
   "cell_type": "code",
   "execution_count": null,
   "metadata": {},
   "outputs": [],
   "source": [
    "# Loop through nodes and set initial parameters.\n",
    "for node in nx.nodes(G=pre_world):\n",
    "    nx.set_node_attributes(\n",
    "        G=pre_world, \n",
    "        # https://realpython.com/iterate-through-dictionary-python/#iterating-through-dictionaries-comprehension-examples\n",
    "        values={n: {\"biome\": biomes_for_world_locations[n]} for n in range(NUM_WORLD_LOCATIONS)}\n",
    "        # {\n",
    "        #     node: {\"carrying_capacity\": 1000000},\n",
    "        # }\n",
    "    )"
   ]
  },
  {
   "cell_type": "code",
   "execution_count": null,
   "metadata": {},
   "outputs": [],
   "source": [
    "# https://github.com/WestHealth/pyvis/issues/48\n",
    "world_layout = nx.spring_layout(G=pre_world, iterations=1, threshold=0.01)"
   ]
  },
  {
   "cell_type": "code",
   "execution_count": null,
   "metadata": {},
   "outputs": [],
   "source": [
    "world.from_nx(nx_graph=pre_world, show_edge_weights=True)\n",
    "for node in world.nodes:\n",
    "    node[\"x\"] = world_layout[node[\"id\"]][0] * 1000\n",
    "    node[\"y\"] = world_layout[node[\"id\"]][1] * 1000\n",
    "world.toggle_physics(False)\n",
    "world.show(\"fast_world.html\")"
   ]
  },
  {
   "cell_type": "code",
   "execution_count": null,
   "metadata": {},
   "outputs": [],
   "source": [
    "world.from_nx(nx_graph=pre_world, show_edge_weights=True)\n",
    "world.show(\"world.html\")"
   ]
  },
  {
   "cell_type": "markdown",
   "metadata": {},
   "source": []
  }
 ],
 "metadata": {
  "kernelspec": {
   "display_name": "doe_group_project",
   "language": "python",
   "name": "python3"
  },
  "language_info": {
   "codemirror_mode": {
    "name": "ipython",
    "version": 3
   },
   "file_extension": ".py",
   "mimetype": "text/x-python",
   "name": "python",
   "nbconvert_exporter": "python",
   "pygments_lexer": "ipython3",
   "version": "3.11.6"
  }
 },
 "nbformat": 4,
 "nbformat_minor": 2
}
