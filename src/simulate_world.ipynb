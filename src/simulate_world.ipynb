{
 "cells": [
  {
   "cell_type": "markdown",
   "metadata": {},
   "source": [
    "# Human Population Size on an Earth-like Planet--a Computer Experiment"
   ]
  },
  {
   "cell_type": "code",
   "execution_count": 33,
   "metadata": {},
   "outputs": [],
   "source": [
    "from pathlib import Path\n",
    "import sys\n",
    "\n",
    "import networkx as nx\n",
    "from pyvis.network import Network\n",
    "import numpy as np\n",
    "from scipy import stats\n",
    "from pert import PERT\n",
    "import plotly.express as px\n"
   ]
  },
  {
   "cell_type": "code",
   "execution_count": 2,
   "metadata": {},
   "outputs": [],
   "source": [
    "rng = np.random.default_rng()"
   ]
  },
  {
   "cell_type": "markdown",
   "metadata": {},
   "source": [
    "The response variable is total population size after SIMULATION_YEARS."
   ]
  },
  {
   "cell_type": "code",
   "execution_count": null,
   "metadata": {},
   "outputs": [],
   "source": [
    "NUM_WORLD_LOCATIONS = 100\n",
    "SIMULATION_YEARS = 10000\n",
    "INITIAL_POPULATION_PROPORTION = 0.0001\n",
    "# square miles \n",
    "TOTAL_LAND_AREA = 57268900 \n",
    "# The average maximum sustainable population density \n",
    "# (per square mile) on the planet for a hunter-gatherer society.\n",
    "# https://en.wikipedia.org/wiki/Hunter-gatherer#:~:text=One%20group%2C%20the%20Chumash%2C%20had,21.6%20persons%20per%20square%20mile.\n",
    "INITIAL_MAX_POP_DENSITY = 20\n",
    "INITIAL_AVG_CARRYING_CAPACITY_PER_LOCATION = (INITIAL_MAX_POP_DENSITY * TOTAL_LAND_AREA) / NUM_WORLD_LOCATIONS\n",
    "\n",
    "print(\n",
    "    f\"INITIAL_AVG_CARRYING_CAPACITY_PER_LOCATION: {INITIAL_AVG_CARRYING_CAPACITY_PER_LOCATION}\"\n",
    ")\n",
    "\n",
    "BIOMES = [\n",
    "    \"tropical and subtropical moist broadleaf forests\",\n",
    "    \"tropical and subtropical dry broadleaf forests\",\n",
    "    \"tropical and subtropical coniferous forests\",\n",
    "    \"temperate broadleaf and mixed forests\",\n",
    "    \"temperate coniferous forests\",\n",
    "    \"boreal forests/taiga\",\n",
    "    \"tropical and subtropical grasslands, savannas, and shrublands\",\n",
    "    \"temperate grasslands, savannas, and shrublands\",\n",
    "    \"flooded grasslands and savannas\",\n",
    "    \"montane grasslands and shrublands\",\n",
    "    \"tundra\",\n",
    "    \"Mediterranean forests, woodlands, and scrub or sclerophyll forests\",\n",
    "    \"deserts and xeric shrublands\",\n",
    "    \"mangrove\"\n",
    "]"
   ]
  },
  {
   "cell_type": "code",
   "execution_count": null,
   "metadata": {},
   "outputs": [],
   "source": [
    "biomes = Network(\n",
    "    directed=False,\n",
    "    neighborhood_highlight=False, \n",
    "    select_menu=True, \n",
    "    filter_menu=True,\n",
    "    cdn_resources=\"in_line\"\n",
    ")\n",
    "\n",
    "pre_biomes = nx.Graph()\n",
    "\n",
    "# https://stackoverflow.com/a/47555011/8423001\n",
    "nodes_and_biomes_dict = {node_id: BIOMES[node_id] for node_id in range(len(BIOMES))}\n",
    "\n",
    "pre_biomes.add_nodes_from(\n",
    "    [(node, {\"biome\": attribute}) \n",
    "        for (node, attribute) \n",
    "        in nodes_and_biomes_dict.items()\n",
    "    ] \n",
    ")\n",
    "\n",
    "pre_biomes.add_edges_from(\n",
    "    [\n",
    "        (0, 1),\n",
    "        (0, 2),\n",
    "        (0, 3),\n",
    "        (0, 4),\n",
    "        (0, 6),\n",
    "        (0, 9),\n",
    "        (0, 12),\n",
    "        (0, 13),\n",
    "        (1, 2),\n",
    "        (1, 6),\n",
    "        (1, 8),\n",
    "        (1, 9),\n",
    "        (1, 12),\n",
    "        (1, 13),\n",
    "        (2, 3),\n",
    "        (2, 4),\n",
    "        (2, 6),\n",
    "        (2, 8),\n",
    "        (2, 9),\n",
    "        (2, 12),\n",
    "        (2, 13),\n",
    "        (3, 4),\n",
    "        (3, 5),\n",
    "        (3, 6),\n",
    "        (3, 7),\n",
    "        (3, 8),\n",
    "        (3, 9),\n",
    "        (3, 11),\n",
    "        (3, 12),\n",
    "        (3, 13),\n",
    "        (4, 5),\n",
    "        (4, 6),\n",
    "        (4, 7),\n",
    "        (4, 8),\n",
    "        (4, 9),\n",
    "        (4, 10),\n",
    "        (4, 11),\n",
    "        (4, 12),\n",
    "        (4, 13),\n",
    "        (5, 7),\n",
    "        (5, 8),\n",
    "        (5, 9),\n",
    "        (5, 10),\n",
    "        (6, 7),\n",
    "        (6, 8),\n",
    "        (6, 9),\n",
    "        (6, 12),\n",
    "        (6, 13),\n",
    "        (7, 8),\n",
    "        (7, 9),\n",
    "        (7, 11),\n",
    "        (7, 12),\n",
    "        (8, 9),\n",
    "        (8, 11),\n",
    "        (8, 12),\n",
    "        (8, 13),\n",
    "        (9, 11),\n",
    "        (9, 12),\n",
    "        (9, 13),\n",
    "        (11, 12),\n",
    "        (11, 13),\n",
    "        (12, 13)\n",
    "    ]\n",
    ")"
   ]
  },
  {
   "cell_type": "code",
   "execution_count": null,
   "metadata": {},
   "outputs": [],
   "source": [
    "# biomes.from_nx(nx_graph=pre_biomes)\n",
    "# biomes.show(\"biomes.html\")"
   ]
  },
  {
   "cell_type": "code",
   "execution_count": null,
   "metadata": {},
   "outputs": [],
   "source": [
    "world = Network(\n",
    "    directed=True,\n",
    "    neighborhood_highlight=True, \n",
    "    select_menu=True, \n",
    "    filter_menu=True,\n",
    "    cdn_resources=\"in_line\"\n",
    ")\n",
    "\n",
    "pre_world = nx.connected_watts_strogatz_graph(\n",
    "    n=NUM_WORLD_LOCATIONS,\n",
    "    k=5,\n",
    "    p=0.5\n",
    ")"
   ]
  },
  {
   "cell_type": "code",
   "execution_count": null,
   "metadata": {},
   "outputs": [],
   "source": [
    "for (v1, v2, weight) in pre_world.edges.data('weight'):\n",
    "    # https://trenton3983.github.io/files/projects/2020-05-21_intro_to_network_analysis_in_python/2020-05-21_intro_to_network_analysis_in_python.html\n",
    "    # https://stackoverflow.com/questions/40128692/networkx-how-to-add-weights-to-an-existing-g-edges\n",
    "\n",
    "    # Here, the weights represent the ease of travelling between nodes.\n",
    "    # A high weight indicates that travel is easy.\n",
    "    pre_world[v1][v2][\"weight\"] = stats.expon.rvs(scale=1)\n",
    "\n",
    "# Make the graph directed to indicate\n",
    "# allowable population movements.\n",
    "pre_world = pre_world.to_directed()"
   ]
  },
  {
   "cell_type": "code",
   "execution_count": null,
   "metadata": {},
   "outputs": [],
   "source": [
    "# Skip the last row because we only care about\n",
    "# the upper triangle exclusive of th main diagonal\n",
    "# of the adjacency matrix.\n",
    "for v1 in range(NUM_WORLD_LOCATIONS - 1):\n",
    "    for v2 in range(v1 + 1, NUM_WORLD_LOCATIONS):\n",
    "        current_edge_data = pre_world.get_edge_data(v1, v2)\n",
    "        if current_edge_data is None:\n",
    "            # There is no need to update current_weight.\n",
    "            continue\n",
    "\n",
    "        # Extract weight attribute\n",
    "        current_weight = current_edge_data[\"weight\"]\n",
    "        if current_weight < 1:\n",
    "            # Make the ease of travel different\n",
    "            # for one of the edges connecting the same\n",
    "            # pair of nodes to simulate ocean currents.\n",
    "            pre_world[v1][v2][\"weight\"] = stats.expon.rvs(scale=0.2)\n"
   ]
  },
  {
   "cell_type": "code",
   "execution_count": null,
   "metadata": {},
   "outputs": [],
   "source": [
    "pre_world_betweenness_centralities = nx.betweenness_centrality(\n",
    "    G=pre_world,\n",
    "    weight=\"weight\"\n",
    ")\n",
    "\n",
    "pre_biomes_betweenness_centralities = nx.betweenness_centrality(\n",
    "    G=pre_biomes\n",
    ")\n",
    "\n",
    "# Get a node with a maximal betweenness centrality.\n",
    "# This node will hold our starting population.\n",
    "# https://stackoverflow.com/a/280156/8423001\n",
    "starting_node = max(\n",
    "    pre_world_betweenness_centralities, \n",
    "    key=pre_world_betweenness_centralities.get\n",
    ")\n",
    "\n",
    "starting_node_biome_id = max(\n",
    "    pre_biomes_betweenness_centralities, \n",
    "    key=pre_biomes_betweenness_centralities.get\n",
    ")\n",
    "\n",
    "starting_node_biome = BIOMES[starting_node_biome_id]"
   ]
  },
  {
   "cell_type": "code",
   "execution_count": null,
   "metadata": {},
   "outputs": [],
   "source": [
    "sorted(list(pre_biomes_betweenness_centralities.values()))"
   ]
  },
  {
   "cell_type": "code",
   "execution_count": null,
   "metadata": {},
   "outputs": [],
   "source": [
    "# https://stackoverflow.com/a/3071441/8423001\n",
    "(\n",
    "    stats.rankdata(\n",
    "        a=list(pre_biomes_betweenness_centralities.values()),\n",
    "        method=\"max\"\n",
    "    )\n",
    "    # Because the ranks start at 1 but Python is 0-indexed,\n",
    "    # subtract 1.\n",
    "    - 1\n",
    ")"
   ]
  },
  {
   "cell_type": "code",
   "execution_count": null,
   "metadata": {},
   "outputs": [],
   "source": [
    "sum(np.array(list(pre_biomes_betweenness_centralities.values())) <= 0.01)"
   ]
  },
  {
   "cell_type": "code",
   "execution_count": null,
   "metadata": {},
   "outputs": [],
   "source": [
    "stats.rankdata(\n",
    "        a=[-2, 0, 3, 3, 3],\n",
    "        method=\"max\"\n",
    "    )"
   ]
  },
  {
   "cell_type": "code",
   "execution_count": null,
   "metadata": {},
   "outputs": [],
   "source": [
    "np.arange(5) * 10\n"
   ]
  },
  {
   "cell_type": "code",
   "execution_count": null,
   "metadata": {},
   "outputs": [],
   "source": [
    "def stochastic_func(\n",
    "    x,\n",
    "    b,\n",
    "    corr\n",
    "):\n",
    "    rng = np.random.default_rng()\n",
    "    std_x = np.std(x)\n",
    "    if std_x == 0:\n",
    "        y = rng.choice(np.arange(b + 1))\n",
    "    else:\n",
    "        x_normalized = (x - np.mean(x))/np.std(x)\n",
    " \n",
    "        y_normalized = corr * x_normalized\n",
    "        std_ints = np.std(np.arange(b + 1))\n",
    "        mean_ints = (1 + b)/2\n",
    "        y = y_normalized * std_ints + mean_ints\n",
    "    return y"
   ]
  },
  {
   "cell_type": "markdown",
   "metadata": {},
   "source": [
    "Copula Stuff"
   ]
  },
  {
   "cell_type": "code",
   "execution_count": 230,
   "metadata": {},
   "outputs": [],
   "source": [
    "def gaussian_copula(*args, **kwargs):\n",
    "    # https://en.wikipedia.org/wiki/Copula_(probability_theory)#Gaussian_copula\n",
    "    # Arguments provided via position should be \n",
    "    # real numbers in [0, 1].  \n",
    "    # kwargs should contain a key=value combination\n",
    "    # where the key is cov.\n",
    "    #\n",
    "    # The multivariate_normal.cdf returns nan when the corresponding\n",
    "    # probability law is at least two dimensional and at least one of \n",
    "    # the values supplied to x is -inf.  However, we think that it is\n",
    "    # reasonable for it just to return 0 instead of nan.\n",
    "    x = stats.norm.ppf(q=args)\n",
    "    if (x == float(\"-inf\")).any():\n",
    "        cdf = 0\n",
    "    else:\n",
    "        cdf = stats.multivariate_normal.cdf(\n",
    "            x=stats.norm.ppf(q=args),\n",
    "            mean=np.zeros(shape=len(args)),\n",
    "            allow_singular=True,\n",
    "            **kwargs      \n",
    "        )\n",
    "\n",
    "    return cdf"
   ]
  },
  {
   "cell_type": "code",
   "execution_count": 232,
   "metadata": {},
   "outputs": [],
   "source": [
    "def bivariate_discrete_copula_pmf(C, u:int, v:int, R:int, S:int, **kwargs) -> float:\n",
    "    \"\"\"Get the value of the copula probability mass function\n",
    "    at (u, v) for the copula function C.\n",
    "\n",
    "    source: https://doi.org/10.1515/demo-2020-0022\n",
    "    see: equation 7.1\n",
    "    \"\"\"\n",
    "    if (u < 0) or (u > (R - 1)):\n",
    "        raise ValueError(\"u must be in {0, 1, ..., R - 1}\")\n",
    "    if (v < 0) or (v > (S - 1)):\n",
    "        raise ValueError(\"v must be in {0, 1, ..., S - 1}\")\n",
    "\n",
    "    pmf = C((u + 1)/R, (v + 1)/S, **kwargs) \\\n",
    "        - C(u/R, (v + 1)/S, **kwargs) \\\n",
    "        - C((u + 1)/R, v/S, **kwargs) \\\n",
    "        + C(u/R, v/S, **kwargs)\n",
    "    \n",
    "    if (pmf < (0 - sys.float_info.epsilon)) or (pmf > (1 + sys.float_info.epsilon)):\n",
    "        raise RuntimeError(\"C appears to be an invalid copula.\")\n",
    "    \n",
    "    return pmf"
   ]
  },
  {
   "cell_type": "code",
   "execution_count": 250,
   "metadata": {},
   "outputs": [],
   "source": [
    "# Draw u from a discrete uniform distribution\n",
    "# with parameters 0 and R - 1.\n",
    "# Choose v based on the conditional PMF for \n",
    "# the value of u that was picked.\n",
    "R = 20\n",
    "S = 12\n",
    "corr_mat = np.array([\n",
    "    [1, -0.75],\n",
    "    [-0.75, 1]\n",
    "])\n",
    "times = 100\n",
    "us_and_vs = np.empty(shape=(times, 2))\n",
    "for j in range(times):\n",
    "    u = rng.integers(low=0, high=R, endpoint=False)\n",
    "    probs = np.empty(shape=S)\n",
    "    for possible_v in range(S):\n",
    "        probs[possible_v] = bivariate_discrete_copula_pmf(C=gaussian_copula, u=u, v=possible_v, R=R, S=S, cov=corr_mat)\n",
    "        # print(f\"probs[possible_v]: {probs[possible_v]},   u: {u}   v: {possible_v}\")\n",
    "    probs_as_ints = (probs * (2 ** (32 - 1))).astype(np.int32)\n",
    "    probs_as_probs = (probs_as_ints / probs_as_ints.sum())\n",
    "    v = rng.choice(a=S, p=probs_as_probs)\n",
    "    us_and_vs[j, 0] = u\n",
    "    us_and_vs[j, 1] = v"
   ]
  },
  {
   "cell_type": "code",
   "execution_count": 251,
   "metadata": {},
   "outputs": [
    {
     "data": {
      "text/plain": [
       "array([[ 0., 11.],\n",
       "       [ 6.,  6.],\n",
       "       [19.,  0.],\n",
       "       [13.,  6.],\n",
       "       [ 9.,  9.],\n",
       "       [10., 11.],\n",
       "       [ 3., 11.],\n",
       "       [16., 10.],\n",
       "       [ 6.,  5.],\n",
       "       [16.,  4.],\n",
       "       [ 2., 11.],\n",
       "       [ 7.,  9.],\n",
       "       [12.,  1.],\n",
       "       [19.,  0.],\n",
       "       [15.,  1.],\n",
       "       [11.,  2.],\n",
       "       [ 3., 10.],\n",
       "       [13.,  9.],\n",
       "       [19.,  0.],\n",
       "       [12., 10.],\n",
       "       [12.,  8.],\n",
       "       [13.,  7.],\n",
       "       [ 3.,  9.],\n",
       "       [ 5.,  9.],\n",
       "       [ 2.,  7.],\n",
       "       [ 0., 10.],\n",
       "       [ 5., 10.],\n",
       "       [13.,  5.],\n",
       "       [16.,  5.]])"
      ]
     },
     "execution_count": 251,
     "metadata": {},
     "output_type": "execute_result"
    }
   ],
   "source": [
    "us_and_vs[1:30, :]"
   ]
  },
  {
   "cell_type": "code",
   "execution_count": 252,
   "metadata": {},
   "outputs": [
    {
     "data": {
      "application/vnd.plotly.v1+json": {
       "config": {
        "plotlyServerURL": "https://plot.ly"
       },
       "data": [
        {
         "coloraxis": "coloraxis",
         "hovertemplate": "x=%{x}<br>y=%{y}<br>count=%{z}<extra></extra>",
         "name": "",
         "type": "histogram2d",
         "x": [
          2,
          0,
          6,
          19,
          13,
          9,
          10,
          3,
          16,
          6,
          16,
          2,
          7,
          12,
          19,
          15,
          11,
          3,
          13,
          19,
          12,
          12,
          13,
          3,
          5,
          2,
          0,
          5,
          13,
          16,
          9,
          3,
          12,
          4,
          0,
          12,
          3,
          11,
          13,
          8,
          1,
          2,
          1,
          6,
          16,
          13,
          1,
          11,
          4,
          18,
          16,
          0,
          3,
          11,
          18,
          1,
          3,
          14,
          0,
          0,
          13,
          0,
          1,
          15,
          10,
          18,
          5,
          4,
          3,
          15,
          18,
          8,
          15,
          6,
          6,
          10,
          11,
          13,
          11,
          9,
          7,
          15,
          8,
          9,
          8,
          2,
          7,
          1,
          17,
          2,
          19,
          16,
          15,
          3,
          0,
          7,
          1,
          12,
          10,
          6
         ],
         "xaxis": "x",
         "xbingroup": "x",
         "y": [
          3,
          11,
          6,
          0,
          6,
          9,
          11,
          11,
          10,
          5,
          4,
          11,
          9,
          1,
          0,
          1,
          2,
          10,
          9,
          0,
          10,
          8,
          7,
          9,
          9,
          7,
          10,
          10,
          5,
          5,
          6,
          11,
          3,
          6,
          11,
          2,
          11,
          1,
          6,
          2,
          6,
          10,
          11,
          5,
          3,
          2,
          8,
          5,
          8,
          3,
          2,
          11,
          10,
          5,
          6,
          9,
          8,
          1,
          11,
          10,
          6,
          11,
          6,
          3,
          10,
          2,
          7,
          9,
          4,
          2,
          0,
          6,
          0,
          9,
          11,
          3,
          9,
          9,
          0,
          3,
          3,
          4,
          3,
          9,
          7,
          10,
          3,
          8,
          0,
          6,
          2,
          1,
          2,
          11,
          11,
          4,
          11,
          2,
          10,
          6
         ],
         "yaxis": "y",
         "ybingroup": "y"
        },
        {
         "alignmentgroup": "True",
         "bingroup": "x",
         "hovertemplate": "x=%{x}<br>count=%{y}<extra></extra>",
         "legendgroup": "",
         "marker": {
          "color": "#0d0887"
         },
         "name": "",
         "offsetgroup": "",
         "opacity": 0.5,
         "showlegend": false,
         "type": "histogram",
         "x": [
          2,
          0,
          6,
          19,
          13,
          9,
          10,
          3,
          16,
          6,
          16,
          2,
          7,
          12,
          19,
          15,
          11,
          3,
          13,
          19,
          12,
          12,
          13,
          3,
          5,
          2,
          0,
          5,
          13,
          16,
          9,
          3,
          12,
          4,
          0,
          12,
          3,
          11,
          13,
          8,
          1,
          2,
          1,
          6,
          16,
          13,
          1,
          11,
          4,
          18,
          16,
          0,
          3,
          11,
          18,
          1,
          3,
          14,
          0,
          0,
          13,
          0,
          1,
          15,
          10,
          18,
          5,
          4,
          3,
          15,
          18,
          8,
          15,
          6,
          6,
          10,
          11,
          13,
          11,
          9,
          7,
          15,
          8,
          9,
          8,
          2,
          7,
          1,
          17,
          2,
          19,
          16,
          15,
          3,
          0,
          7,
          1,
          12,
          10,
          6
         ],
         "xaxis": "x3",
         "yaxis": "y3"
        },
        {
         "alignmentgroup": "True",
         "bingroup": "y",
         "hovertemplate": "y=%{y}<br>count=%{x}<extra></extra>",
         "legendgroup": "",
         "marker": {
          "color": "#0d0887"
         },
         "name": "",
         "offsetgroup": "",
         "opacity": 0.5,
         "showlegend": false,
         "type": "histogram",
         "xaxis": "x2",
         "y": [
          3,
          11,
          6,
          0,
          6,
          9,
          11,
          11,
          10,
          5,
          4,
          11,
          9,
          1,
          0,
          1,
          2,
          10,
          9,
          0,
          10,
          8,
          7,
          9,
          9,
          7,
          10,
          10,
          5,
          5,
          6,
          11,
          3,
          6,
          11,
          2,
          11,
          1,
          6,
          2,
          6,
          10,
          11,
          5,
          3,
          2,
          8,
          5,
          8,
          3,
          2,
          11,
          10,
          5,
          6,
          9,
          8,
          1,
          11,
          10,
          6,
          11,
          6,
          3,
          10,
          2,
          7,
          9,
          4,
          2,
          0,
          6,
          0,
          9,
          11,
          3,
          9,
          9,
          0,
          3,
          3,
          4,
          3,
          9,
          7,
          10,
          3,
          8,
          0,
          6,
          2,
          1,
          2,
          11,
          11,
          4,
          11,
          2,
          10,
          6
         ],
         "yaxis": "y2"
        }
       ],
       "layout": {
        "barmode": "overlay",
        "coloraxis": {
         "colorbar": {
          "title": {
           "text": "count"
          }
         },
         "colorscale": [
          [
           0,
           "#0d0887"
          ],
          [
           0.1111111111111111,
           "#46039f"
          ],
          [
           0.2222222222222222,
           "#7201a8"
          ],
          [
           0.3333333333333333,
           "#9c179e"
          ],
          [
           0.4444444444444444,
           "#bd3786"
          ],
          [
           0.5555555555555556,
           "#d8576b"
          ],
          [
           0.6666666666666666,
           "#ed7953"
          ],
          [
           0.7777777777777778,
           "#fb9f3a"
          ],
          [
           0.8888888888888888,
           "#fdca26"
          ],
          [
           1,
           "#f0f921"
          ]
         ]
        },
        "legend": {
         "tracegroupgap": 0
        },
        "margin": {
         "t": 60
        },
        "template": {
         "data": {
          "bar": [
           {
            "error_x": {
             "color": "#2a3f5f"
            },
            "error_y": {
             "color": "#2a3f5f"
            },
            "marker": {
             "line": {
              "color": "#E5ECF6",
              "width": 0.5
             },
             "pattern": {
              "fillmode": "overlay",
              "size": 10,
              "solidity": 0.2
             }
            },
            "type": "bar"
           }
          ],
          "barpolar": [
           {
            "marker": {
             "line": {
              "color": "#E5ECF6",
              "width": 0.5
             },
             "pattern": {
              "fillmode": "overlay",
              "size": 10,
              "solidity": 0.2
             }
            },
            "type": "barpolar"
           }
          ],
          "carpet": [
           {
            "aaxis": {
             "endlinecolor": "#2a3f5f",
             "gridcolor": "white",
             "linecolor": "white",
             "minorgridcolor": "white",
             "startlinecolor": "#2a3f5f"
            },
            "baxis": {
             "endlinecolor": "#2a3f5f",
             "gridcolor": "white",
             "linecolor": "white",
             "minorgridcolor": "white",
             "startlinecolor": "#2a3f5f"
            },
            "type": "carpet"
           }
          ],
          "choropleth": [
           {
            "colorbar": {
             "outlinewidth": 0,
             "ticks": ""
            },
            "type": "choropleth"
           }
          ],
          "contour": [
           {
            "colorbar": {
             "outlinewidth": 0,
             "ticks": ""
            },
            "colorscale": [
             [
              0,
              "#0d0887"
             ],
             [
              0.1111111111111111,
              "#46039f"
             ],
             [
              0.2222222222222222,
              "#7201a8"
             ],
             [
              0.3333333333333333,
              "#9c179e"
             ],
             [
              0.4444444444444444,
              "#bd3786"
             ],
             [
              0.5555555555555556,
              "#d8576b"
             ],
             [
              0.6666666666666666,
              "#ed7953"
             ],
             [
              0.7777777777777778,
              "#fb9f3a"
             ],
             [
              0.8888888888888888,
              "#fdca26"
             ],
             [
              1,
              "#f0f921"
             ]
            ],
            "type": "contour"
           }
          ],
          "contourcarpet": [
           {
            "colorbar": {
             "outlinewidth": 0,
             "ticks": ""
            },
            "type": "contourcarpet"
           }
          ],
          "heatmap": [
           {
            "colorbar": {
             "outlinewidth": 0,
             "ticks": ""
            },
            "colorscale": [
             [
              0,
              "#0d0887"
             ],
             [
              0.1111111111111111,
              "#46039f"
             ],
             [
              0.2222222222222222,
              "#7201a8"
             ],
             [
              0.3333333333333333,
              "#9c179e"
             ],
             [
              0.4444444444444444,
              "#bd3786"
             ],
             [
              0.5555555555555556,
              "#d8576b"
             ],
             [
              0.6666666666666666,
              "#ed7953"
             ],
             [
              0.7777777777777778,
              "#fb9f3a"
             ],
             [
              0.8888888888888888,
              "#fdca26"
             ],
             [
              1,
              "#f0f921"
             ]
            ],
            "type": "heatmap"
           }
          ],
          "heatmapgl": [
           {
            "colorbar": {
             "outlinewidth": 0,
             "ticks": ""
            },
            "colorscale": [
             [
              0,
              "#0d0887"
             ],
             [
              0.1111111111111111,
              "#46039f"
             ],
             [
              0.2222222222222222,
              "#7201a8"
             ],
             [
              0.3333333333333333,
              "#9c179e"
             ],
             [
              0.4444444444444444,
              "#bd3786"
             ],
             [
              0.5555555555555556,
              "#d8576b"
             ],
             [
              0.6666666666666666,
              "#ed7953"
             ],
             [
              0.7777777777777778,
              "#fb9f3a"
             ],
             [
              0.8888888888888888,
              "#fdca26"
             ],
             [
              1,
              "#f0f921"
             ]
            ],
            "type": "heatmapgl"
           }
          ],
          "histogram": [
           {
            "marker": {
             "pattern": {
              "fillmode": "overlay",
              "size": 10,
              "solidity": 0.2
             }
            },
            "type": "histogram"
           }
          ],
          "histogram2d": [
           {
            "colorbar": {
             "outlinewidth": 0,
             "ticks": ""
            },
            "colorscale": [
             [
              0,
              "#0d0887"
             ],
             [
              0.1111111111111111,
              "#46039f"
             ],
             [
              0.2222222222222222,
              "#7201a8"
             ],
             [
              0.3333333333333333,
              "#9c179e"
             ],
             [
              0.4444444444444444,
              "#bd3786"
             ],
             [
              0.5555555555555556,
              "#d8576b"
             ],
             [
              0.6666666666666666,
              "#ed7953"
             ],
             [
              0.7777777777777778,
              "#fb9f3a"
             ],
             [
              0.8888888888888888,
              "#fdca26"
             ],
             [
              1,
              "#f0f921"
             ]
            ],
            "type": "histogram2d"
           }
          ],
          "histogram2dcontour": [
           {
            "colorbar": {
             "outlinewidth": 0,
             "ticks": ""
            },
            "colorscale": [
             [
              0,
              "#0d0887"
             ],
             [
              0.1111111111111111,
              "#46039f"
             ],
             [
              0.2222222222222222,
              "#7201a8"
             ],
             [
              0.3333333333333333,
              "#9c179e"
             ],
             [
              0.4444444444444444,
              "#bd3786"
             ],
             [
              0.5555555555555556,
              "#d8576b"
             ],
             [
              0.6666666666666666,
              "#ed7953"
             ],
             [
              0.7777777777777778,
              "#fb9f3a"
             ],
             [
              0.8888888888888888,
              "#fdca26"
             ],
             [
              1,
              "#f0f921"
             ]
            ],
            "type": "histogram2dcontour"
           }
          ],
          "mesh3d": [
           {
            "colorbar": {
             "outlinewidth": 0,
             "ticks": ""
            },
            "type": "mesh3d"
           }
          ],
          "parcoords": [
           {
            "line": {
             "colorbar": {
              "outlinewidth": 0,
              "ticks": ""
             }
            },
            "type": "parcoords"
           }
          ],
          "pie": [
           {
            "automargin": true,
            "type": "pie"
           }
          ],
          "scatter": [
           {
            "fillpattern": {
             "fillmode": "overlay",
             "size": 10,
             "solidity": 0.2
            },
            "type": "scatter"
           }
          ],
          "scatter3d": [
           {
            "line": {
             "colorbar": {
              "outlinewidth": 0,
              "ticks": ""
             }
            },
            "marker": {
             "colorbar": {
              "outlinewidth": 0,
              "ticks": ""
             }
            },
            "type": "scatter3d"
           }
          ],
          "scattercarpet": [
           {
            "marker": {
             "colorbar": {
              "outlinewidth": 0,
              "ticks": ""
             }
            },
            "type": "scattercarpet"
           }
          ],
          "scattergeo": [
           {
            "marker": {
             "colorbar": {
              "outlinewidth": 0,
              "ticks": ""
             }
            },
            "type": "scattergeo"
           }
          ],
          "scattergl": [
           {
            "marker": {
             "colorbar": {
              "outlinewidth": 0,
              "ticks": ""
             }
            },
            "type": "scattergl"
           }
          ],
          "scattermapbox": [
           {
            "marker": {
             "colorbar": {
              "outlinewidth": 0,
              "ticks": ""
             }
            },
            "type": "scattermapbox"
           }
          ],
          "scatterpolar": [
           {
            "marker": {
             "colorbar": {
              "outlinewidth": 0,
              "ticks": ""
             }
            },
            "type": "scatterpolar"
           }
          ],
          "scatterpolargl": [
           {
            "marker": {
             "colorbar": {
              "outlinewidth": 0,
              "ticks": ""
             }
            },
            "type": "scatterpolargl"
           }
          ],
          "scatterternary": [
           {
            "marker": {
             "colorbar": {
              "outlinewidth": 0,
              "ticks": ""
             }
            },
            "type": "scatterternary"
           }
          ],
          "surface": [
           {
            "colorbar": {
             "outlinewidth": 0,
             "ticks": ""
            },
            "colorscale": [
             [
              0,
              "#0d0887"
             ],
             [
              0.1111111111111111,
              "#46039f"
             ],
             [
              0.2222222222222222,
              "#7201a8"
             ],
             [
              0.3333333333333333,
              "#9c179e"
             ],
             [
              0.4444444444444444,
              "#bd3786"
             ],
             [
              0.5555555555555556,
              "#d8576b"
             ],
             [
              0.6666666666666666,
              "#ed7953"
             ],
             [
              0.7777777777777778,
              "#fb9f3a"
             ],
             [
              0.8888888888888888,
              "#fdca26"
             ],
             [
              1,
              "#f0f921"
             ]
            ],
            "type": "surface"
           }
          ],
          "table": [
           {
            "cells": {
             "fill": {
              "color": "#EBF0F8"
             },
             "line": {
              "color": "white"
             }
            },
            "header": {
             "fill": {
              "color": "#C8D4E3"
             },
             "line": {
              "color": "white"
             }
            },
            "type": "table"
           }
          ]
         },
         "layout": {
          "annotationdefaults": {
           "arrowcolor": "#2a3f5f",
           "arrowhead": 0,
           "arrowwidth": 1
          },
          "autotypenumbers": "strict",
          "coloraxis": {
           "colorbar": {
            "outlinewidth": 0,
            "ticks": ""
           }
          },
          "colorscale": {
           "diverging": [
            [
             0,
             "#8e0152"
            ],
            [
             0.1,
             "#c51b7d"
            ],
            [
             0.2,
             "#de77ae"
            ],
            [
             0.3,
             "#f1b6da"
            ],
            [
             0.4,
             "#fde0ef"
            ],
            [
             0.5,
             "#f7f7f7"
            ],
            [
             0.6,
             "#e6f5d0"
            ],
            [
             0.7,
             "#b8e186"
            ],
            [
             0.8,
             "#7fbc41"
            ],
            [
             0.9,
             "#4d9221"
            ],
            [
             1,
             "#276419"
            ]
           ],
           "sequential": [
            [
             0,
             "#0d0887"
            ],
            [
             0.1111111111111111,
             "#46039f"
            ],
            [
             0.2222222222222222,
             "#7201a8"
            ],
            [
             0.3333333333333333,
             "#9c179e"
            ],
            [
             0.4444444444444444,
             "#bd3786"
            ],
            [
             0.5555555555555556,
             "#d8576b"
            ],
            [
             0.6666666666666666,
             "#ed7953"
            ],
            [
             0.7777777777777778,
             "#fb9f3a"
            ],
            [
             0.8888888888888888,
             "#fdca26"
            ],
            [
             1,
             "#f0f921"
            ]
           ],
           "sequentialminus": [
            [
             0,
             "#0d0887"
            ],
            [
             0.1111111111111111,
             "#46039f"
            ],
            [
             0.2222222222222222,
             "#7201a8"
            ],
            [
             0.3333333333333333,
             "#9c179e"
            ],
            [
             0.4444444444444444,
             "#bd3786"
            ],
            [
             0.5555555555555556,
             "#d8576b"
            ],
            [
             0.6666666666666666,
             "#ed7953"
            ],
            [
             0.7777777777777778,
             "#fb9f3a"
            ],
            [
             0.8888888888888888,
             "#fdca26"
            ],
            [
             1,
             "#f0f921"
            ]
           ]
          },
          "colorway": [
           "#636efa",
           "#EF553B",
           "#00cc96",
           "#ab63fa",
           "#FFA15A",
           "#19d3f3",
           "#FF6692",
           "#B6E880",
           "#FF97FF",
           "#FECB52"
          ],
          "font": {
           "color": "#2a3f5f"
          },
          "geo": {
           "bgcolor": "white",
           "lakecolor": "white",
           "landcolor": "#E5ECF6",
           "showlakes": true,
           "showland": true,
           "subunitcolor": "white"
          },
          "hoverlabel": {
           "align": "left"
          },
          "hovermode": "closest",
          "mapbox": {
           "style": "light"
          },
          "paper_bgcolor": "white",
          "plot_bgcolor": "#E5ECF6",
          "polar": {
           "angularaxis": {
            "gridcolor": "white",
            "linecolor": "white",
            "ticks": ""
           },
           "bgcolor": "#E5ECF6",
           "radialaxis": {
            "gridcolor": "white",
            "linecolor": "white",
            "ticks": ""
           }
          },
          "scene": {
           "xaxis": {
            "backgroundcolor": "#E5ECF6",
            "gridcolor": "white",
            "gridwidth": 2,
            "linecolor": "white",
            "showbackground": true,
            "ticks": "",
            "zerolinecolor": "white"
           },
           "yaxis": {
            "backgroundcolor": "#E5ECF6",
            "gridcolor": "white",
            "gridwidth": 2,
            "linecolor": "white",
            "showbackground": true,
            "ticks": "",
            "zerolinecolor": "white"
           },
           "zaxis": {
            "backgroundcolor": "#E5ECF6",
            "gridcolor": "white",
            "gridwidth": 2,
            "linecolor": "white",
            "showbackground": true,
            "ticks": "",
            "zerolinecolor": "white"
           }
          },
          "shapedefaults": {
           "line": {
            "color": "#2a3f5f"
           }
          },
          "ternary": {
           "aaxis": {
            "gridcolor": "white",
            "linecolor": "white",
            "ticks": ""
           },
           "baxis": {
            "gridcolor": "white",
            "linecolor": "white",
            "ticks": ""
           },
           "bgcolor": "#E5ECF6",
           "caxis": {
            "gridcolor": "white",
            "linecolor": "white",
            "ticks": ""
           }
          },
          "title": {
           "x": 0.05
          },
          "xaxis": {
           "automargin": true,
           "gridcolor": "white",
           "linecolor": "white",
           "ticks": "",
           "title": {
            "standoff": 15
           },
           "zerolinecolor": "white",
           "zerolinewidth": 2
          },
          "yaxis": {
           "automargin": true,
           "gridcolor": "white",
           "linecolor": "white",
           "ticks": "",
           "title": {
            "standoff": 15
           },
           "zerolinecolor": "white",
           "zerolinewidth": 2
          }
         }
        },
        "xaxis": {
         "anchor": "y",
         "domain": [
          0,
          0.7363
         ],
         "title": {
          "text": "x"
         }
        },
        "xaxis2": {
         "anchor": "y2",
         "domain": [
          0.7413,
          1
         ],
         "matches": "x2",
         "showgrid": true,
         "showline": false,
         "showticklabels": false,
         "ticks": ""
        },
        "xaxis3": {
         "anchor": "y3",
         "domain": [
          0,
          0.7363
         ],
         "matches": "x",
         "showgrid": true,
         "showticklabels": false
        },
        "xaxis4": {
         "anchor": "y4",
         "domain": [
          0.7413,
          1
         ],
         "matches": "x2",
         "showgrid": true,
         "showline": false,
         "showticklabels": false,
         "ticks": ""
        },
        "yaxis": {
         "anchor": "x",
         "domain": [
          0,
          0.7326
         ],
         "title": {
          "text": "y"
         }
        },
        "yaxis2": {
         "anchor": "x2",
         "domain": [
          0,
          0.7326
         ],
         "matches": "y",
         "showgrid": true,
         "showticklabels": false
        },
        "yaxis3": {
         "anchor": "x3",
         "domain": [
          0.7426,
          1
         ],
         "matches": "y3",
         "showgrid": true,
         "showline": false,
         "showticklabels": false,
         "ticks": ""
        },
        "yaxis4": {
         "anchor": "x4",
         "domain": [
          0.7426,
          1
         ],
         "matches": "y3",
         "showgrid": true,
         "showline": false,
         "showticklabels": false,
         "ticks": ""
        }
       }
      }
     },
     "metadata": {},
     "output_type": "display_data"
    }
   ],
   "source": [
    "px.density_heatmap(x=us_and_vs[:, 0], y=us_and_vs[:, 1], marginal_x=\"histogram\", marginal_y=\"histogram\")"
   ]
  },
  {
   "cell_type": "code",
   "execution_count": null,
   "metadata": {},
   "outputs": [],
   "source": [
    "(probs * (2 ** (32 - 1))).astype(np.int32) / "
   ]
  },
  {
   "cell_type": "code",
   "execution_count": null,
   "metadata": {},
   "outputs": [],
   "source": [
    "(probs / probs.sum())"
   ]
  },
  {
   "cell_type": "code",
   "execution_count": null,
   "metadata": {},
   "outputs": [],
   "source": [
    "# The copula itself can be found by applying Sklar's Theorem.\n",
    "# That is,  "
   ]
  },
  {
   "cell_type": "code",
   "execution_count": null,
   "metadata": {},
   "outputs": [],
   "source": [
    "0 - sys.float_info.epsilon"
   ]
  },
  {
   "cell_type": "code",
   "execution_count": null,
   "metadata": {},
   "outputs": [],
   "source": [
    "stochastic_func(\n",
    "    x=np.array([7, 8, 1, 3, 2, 5, 4, 6]),\n",
    "    b=4,\n",
    "    corr=0.5\n",
    ")"
   ]
  },
  {
   "cell_type": "code",
   "execution_count": null,
   "metadata": {},
   "outputs": [],
   "source": [
    "def surjective_stochastic_func(\n",
    "    x,\n",
    "    b,\n",
    "    _lambda\n",
    "):\n",
    "    \"\"\"\n",
    "    Args:\n",
    "        x: numpy.ndarray. A one-dimensional numpy.ndarray\n",
    "            whose elements are elements in the domain of \n",
    "            the form [x0, x1, x2, . . .]\n",
    "        b: int. The least upper bound of the range.\n",
    "        _lambda: float. Should be greater than 0.\n",
    "\n",
    "    Returns:\n",
    "        A numpy.ndarray whose elements are integers of the form\n",
    "            [f(x0), f(x1), f(x2), . . .]\n",
    "    \"\"\"\n",
    "    \n",
    "    num_x_obs = len(x)\n",
    "    # y will hold the outputs of the function\n",
    "    y = np.empty(shape=num_x_obs, dtype=np.int32)\n",
    "    is_surjective = False\n",
    "    # How high x is should influence how high\n",
    "    # p is for drawing from a binomial distribution\n",
    "    # to finally get y = f(x).\n",
    "\n",
    "    # Repeatedly generate possible realizations for y\n",
    "    # until surjectivity is achieved.\n",
    "    while is_surjective is False:\n",
    "        # Initialize variable for indexing into y.\n",
    "        j = 0\n",
    "        for i, x_i in enumerate(x):\n",
    "            # Sample from a PERT distribution\n",
    "            # with most likely value p_most_likely\n",
    "            p_most_likely = (x_i + 1) / (num_x_obs + 2)\n",
    "\n",
    "            p = PERT(\n",
    "                min_val=0,\n",
    "                ml_val=p_most_likely,\n",
    "                max_val=1,\n",
    "                lamb=_lambda\n",
    "            ).rvs(size=1)\n",
    "            # This binomial random variable is supported from 0\n",
    "            # to b - 1.  However, for all i, f(x_i) should be anything\n",
    "            # between 1 and b.  Thus, we add 1 at the end.\n",
    "            y[i] = stats.binom.rvs(n=b - 1, p=p, size=1).item() + 1\n",
    "        \n",
    "        # Test for surjectivity after building out y\n",
    "        is_surjective = bool(np.isin(element=np.arange(1, b + 1, 1), test_elements=y).all())\n",
    "\n",
    "    return y"
   ]
  },
  {
   "cell_type": "code",
   "execution_count": null,
   "metadata": {},
   "outputs": [],
   "source": [
    "np.isin(element=np.arange(1, 9 + 1, 1), test_elements=np.array([3, 7, 4, 7, 2, 6, 4, 4])).all()"
   ]
  },
  {
   "cell_type": "code",
   "execution_count": null,
   "metadata": {},
   "outputs": [],
   "source": [
    "surjective_stochastic_func(\n",
    "    x = np.array([7, 8, 1, 3, 2, 5, 4, 6]), \n",
    "    b = 4,\n",
    "    _lambda = 10\n",
    ")"
   ]
  },
  {
   "cell_type": "code",
   "execution_count": null,
   "metadata": {},
   "outputs": [],
   "source": [
    "def get_correlated_ranks(\n",
    "    x_ranks,\n",
    "    num_y_obs\n",
    "):\n",
    "    \"\"\"Suppose that the ranks of observations for some variable X (x_ranks)\n",
    "    are available.  We assume that X has a high Spearman's correlation \n",
    "    coefficient with an unobserved variable Y.  We would like to sample\n",
    "    from the conditional distribution of Rank(Y)|Rank(X).  \n",
    "    \n",
    "    \n",
    "    samples have been taken from the joint distribution\n",
    "    of ordinal or quantitative factors X and Y.  \n",
    "    \n",
    "    For each rank in x_ranks, return \n",
    "    \n",
    "    Given the ranks of observations for some variable X (x_ranks),\n",
    "    return \n",
    "    randomly generated ranks for observations of some other Y.\n",
    "\n",
    "    The ranks for observations of Y are generated such that\n",
    "    the Spearman rank correlation\n",
    "    coefficient between X and Y is high.\n",
    "\n",
    "    Args:\n",
    "        x_ranks: list. This should be non-empty.\n",
    "            The maximum element should be no larger than\n",
    "            the length of the list.\n",
    "\n",
    "    Returns:\n",
    "        list. The elements of the returned list correspond to \n",
    "            ranks for observations of Y.  The returned list\n",
    "            should have a length of len(x_ranks) because we\n",
    "            assume that for every observation of X, there is\n",
    "            exactly one observation of Y.\n",
    "    \"\"\"\n",
    "\n",
    "    num_x_obs = len(x_ranks)\n",
    "    num_y_obs = num_x_obs\n",
    "\n",
    "    y_ranks = []\n",
    "    for x_rank in x_ranks:\n",
    "        # Sample from a PERT distribution\n",
    "        # with most likely value p_most_likely\n",
    "        p_most_likely = (x_rank + 1) / (num_x_obs + 2)\n",
    "\n",
    "        p = PERT(\n",
    "            min_val=0,\n",
    "            ml_val=p_most_likely,\n",
    "            max_val=1\n",
    "        ).rvs(size=1)\n",
    "        # This binomial random variable can be anything from 0\n",
    "        # to num_y_obs.  However, y_ranks should be anything\n",
    "        # between 1 and num_y_obs.\n",
    "        # The minus 1 ensures us that \n",
    "        y_ranks.append(stats.binom.rvs(n=num_y_obs - 1, p=p, size=1).item() + 1)\n",
    "    \n",
    "    return y_ranks"
   ]
  },
  {
   "cell_type": "code",
   "execution_count": null,
   "metadata": {},
   "outputs": [],
   "source": [
    "thingys = get_correlated_ranks(x_ranks=[3, 1.5, 1.5, 4.5, 4.5, 6], num_y_obs=3)\n",
    "thingys"
   ]
  },
  {
   "cell_type": "code",
   "execution_count": null,
   "metadata": {},
   "outputs": [],
   "source": [
    "# We plan on assigning biomes to the nodes in our world.\n",
    "# But, we must consider that some biomes are more likely\n",
    "# to be connected.  Thus, we assign the biomes randomly\n",
    "# while taking account of the betweenness centralities.\n",
    "# With probability 0.5, we assign neighbors the same\n",
    "# biome, while with probability 0.5, we assign neighbors\n",
    "# a new biome of similar betweenness centrality.\n",
    "1.0 / NUM_WORLD_LOCATIONS\n",
    "sorted(pre_biomes_betweenness_centralities.values())\n",
    "# Given a value of the ECDF of pre_world_betweenness_centralities\n",
    "# generate an appropriately positioned random rank\n",
    "# within pre_biomes_betweenness_centralities.\n",
    "# First, rank the pre_world_betweenness_centralities.\n",
    "sorted(pre_world_betweenness_centralities.values())\n",
    "# Second, find the find the value of the ECDF for each rank."
   ]
  },
  {
   "cell_type": "code",
   "execution_count": null,
   "metadata": {},
   "outputs": [],
   "source": [
    "np.quantile(\n",
    "    a=list(pre_world_betweenness_centralities.values()),\n",
    "    q=0.5\n",
    ")"
   ]
  },
  {
   "cell_type": "code",
   "execution_count": null,
   "metadata": {},
   "outputs": [],
   "source": [
    "for id in pre_biomes.neighbors(starting_node_biome_id):\n",
    "    print(id)"
   ]
  },
  {
   "cell_type": "code",
   "execution_count": null,
   "metadata": {},
   "outputs": [],
   "source": [
    "# Loop through nodes and set initial parameters.\n",
    "for node in nx.nodes(G=pre_world):\n",
    "    nx.set_node_attributes(\n",
    "        G=pre_world, \n",
    "        values={node: {\"carrying_capacity\": 1000000}}\n",
    "    )"
   ]
  },
  {
   "cell_type": "code",
   "execution_count": null,
   "metadata": {},
   "outputs": [],
   "source": [
    "world.from_nx(nx_graph=pre_world, show_edge_weights=True)\n",
    "world.show(\"world.html\")"
   ]
  },
  {
   "cell_type": "markdown",
   "metadata": {},
   "source": []
  }
 ],
 "metadata": {
  "kernelspec": {
   "display_name": "doe_group_project",
   "language": "python",
   "name": "python3"
  },
  "language_info": {
   "codemirror_mode": {
    "name": "ipython",
    "version": 3
   },
   "file_extension": ".py",
   "mimetype": "text/x-python",
   "name": "python",
   "nbconvert_exporter": "python",
   "pygments_lexer": "ipython3",
   "version": "3.11.6"
  }
 },
 "nbformat": 4,
 "nbformat_minor": 2
}
