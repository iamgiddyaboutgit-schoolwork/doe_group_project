{
 "cells": [
  {
   "cell_type": "markdown",
   "metadata": {},
   "source": [
    "# Human Population Size on an Earth-like Planet--a Computer Experiment"
   ]
  },
  {
   "cell_type": "code",
   "execution_count": 1,
   "metadata": {},
   "outputs": [],
   "source": [
    "import sim_world_functions as swf\n",
    "\n",
    "from pathlib import Path\n",
    "import sys\n",
    "\n",
    "import networkx as nx\n",
    "from pyvis.network import Network\n",
    "import numpy as np\n",
    "import polars as pl\n",
    "from polars import DataFrame\n",
    "import pyarrow\n",
    "from scipy import stats\n",
    "from pert import PERT\n",
    "from shapely.geometry import Point\n",
    "import geopandas\n",
    "import plotly.express as px"
   ]
  },
  {
   "cell_type": "code",
   "execution_count": 2,
   "metadata": {},
   "outputs": [],
   "source": [
    "rng = np.random.default_rng()\n",
    "pl.Config.set_fmt_str_lengths(n=100)\n",
    "DATA_PATH = Path(\"../data/\")"
   ]
  },
  {
   "cell_type": "markdown",
   "metadata": {},
   "source": [
    "The response variable is the arithmetic mean of the normalized coefficients of variation for the population sizes.\n",
    "\n",
    "$$\n",
    "z_{i} = \\frac{1}{T + 1}\n",
    "\\sum_{t=0}^{T}\n",
    "    \\frac{\n",
    "        \\sqrt{\n",
    "            \\hat{V} \\left(\n",
    "            \\mathrm{logpopsize}_{i,t}\n",
    "            \\right)\n",
    "        }\n",
    "    }\n",
    "    {\n",
    "        \\underset{j}{\\mathrm{median}}\\left(\\mathrm{logpopsize}_{i,j,t}\\right)\n",
    "    } \n",
    "         \n",
    "                \n",
    "$$\n",
    "\n",
    "where $i=1,2,\\dots,k$ indexes the treatment, $j=1,2,\\dots n_i$ indexes the replicate for the $i^{\\text{th}}$ treatment, and $t=1,2,\\dots,T$ indexes the time.\n",
    "\n",
    "$\\hat{V}$ denotes the unbiased sample variance which is taken of the natural logarithms of the population sizes observed for treatment $i$ at time $t$."
   ]
  },
  {
   "cell_type": "markdown",
   "metadata": {},
   "source": [
    "## Demographic Balancing Equation:"
   ]
  },
  {
   "cell_type": "markdown",
   "metadata": {},
   "source": [
    "$$\n",
    "x_{i,t} = b_{i, t-1} + \\sum_{j}{m_{j, i, t-1}} - \\sum_{j}{m_{i,j,t-1}} - d_{1, t-1}\n",
    "$$\n",
    "\n",
    "where\n",
    "\n",
    "$$\n",
    "\\begin{aligned}\n",
    "x_{i,t} &= \\text{population size at location } i \\text{ at time } t\\\\\n",
    "b_{i, t-1} &= \\text{number of births at location } i \\text{ at time } t-1 \\\\\n",
    "m_{j, i, t-1} &= \\text{number of people immigrating to } i \\text{ from } j \\text{ at time } t-1 \\\\\n",
    "m_{i, j, t-1} &= \\text{number of people emigrating from } i \\text{ to } j \\text{ at time } t-1 \\\\\n",
    "d_{1, t-1} &= \\text{number of deaths at location } i \\text{ at time } t-1\n",
    "\\end{aligned}\n",
    "$$"
   ]
  },
  {
   "cell_type": "code",
   "execution_count": 3,
   "metadata": {},
   "outputs": [],
   "source": [
    "SIMULATION_YEARS = 10\n",
    "# Because the maximum sustainable population density \n",
    "# (per square mile) on the planet for a hunter-gatherer society\n",
    "# is about 20, keep the below densities kind of small to start.\n",
    "# https://en.wikipedia.org/wiki/Hunter-gatherer#:~:text=One%20group%2C%20the%20Chumash%2C%20had,21.6%20persons%20per%20square%20mile.\n",
    "\n",
    "# All of the following initial average\n",
    "# population densities per square mile\n",
    "# should be set between 0 and 5.\n",
    "BOREAL_FORESTS_TAIGA_INITIAL_AVG_POP_DENSITY = 0.1\n",
    "DESERTS_AND_XERIC_SHRUBLANDS_INITIAL_AVG_POP_DENSITY = 0.1\n",
    "FLOODED_GRASSLANDS_AND_SAVANNAS_INITIAL_AVG_POP_DENSITY = 0.5\n",
    "MANGROVES_INITIAL_AVG_POP_DENSITY = 0.5\n",
    "MEDITERRANEAN_FORESTS_WOODLANDS_AND_SCRUB_INITIAL_AVG_POP_DENSITY = 0.5\n",
    "MONTANE_GRASSLANDS_AND_SHRUBLANDS_INITIAL_AVG_POP_DENSITY = 0.5\n",
    "TEMPERATE_BROADLEAF_AND_MIXED_FORESTS_INITIAL_AVG_POP_DENSITY = 0.5\n",
    "TEMPERATE_CONIFER_FORESTS_INITIAL_AVG_POP_DENSITY = 0.5\n",
    "TEMPERATE_GRASSLANDS_SAVANNAS_AND_SHRUBLANDS_INITIAL_AVG_POP_DENSITY = 0.5\n",
    "TROPICAL_AND_SUBTROPICAL_CONIFEROUS_FORESTS_INITIAL_AVG_POP_DENSITY = 0.5\n",
    "TROPICAL_AND_SUBTROPICAL_DRY_BROADLEAF_FORESTS_INITIAL_AVG_POP_DENSITY = 0.5\n",
    "TROPICAL_AND_SUBTROPICAL_GRASSLANDS_SAVANNAS_AND_SHRUBLANDS_INITIAL_AVG_POP_DENSITY = 0.5\n",
    "TROPICAL_AND_SUBTROPICAL_MOIST_BROADLEAF_FORESTS_INITIAL_AVG_POP_DENSITY = 0.5\n",
    "TUNDRA_INITIAL_AVG_POP_DENSITY = 0.1\n",
    "\n",
    "# The following are the initial carrying capacities for each biome in\n",
    "# units of people per square mile.\n",
    "# These should be in the interval [0, 20].\n",
    "# (The current population density of the West Saraha Desert\n",
    "# is about 3.5 people per square mile.)\n",
    "# These are called unaided because the actual initial\n",
    "# carrying capacities will be calculated later as a function\n",
    "# of other relevant variables.\n",
    "BOREAL_FORESTS_TAIGA_INITIAL_UNAIDED_CARRYING_CAP = 10\n",
    "DESERTS_AND_XERIC_SHRUBLANDS_INITIAL_UNAIDED_CARRYING_CAP = 3\n",
    "FLOODED_GRASSLANDS_AND_SAVANNAS_INITIAL_UNAIDED_CARRYING_CAP = 20\n",
    "MANGROVES_INITIAL_UNAIDED_CARRYING_CAP = 20\n",
    "MEDITERRANEAN_FORESTS_WOODLANDS_AND_SCRUB_INITIAL_UNAIDED_CARRYING_CAP = 20\n",
    "MONTANE_GRASSLANDS_AND_SHRUBLANDS_INITIAL_UNAIDED_CARRYING_CAP = 20\n",
    "TEMPERATE_BROADLEAF_AND_MIXED_FORESTS_INITIAL_UNAIDED_CARRYING_CAP = 20\n",
    "TEMPERATE_CONIFER_FORESTS_INITIAL_UNAIDED_CARRYING_CAP = 20\n",
    "TEMPERATE_GRASSLANDS_SAVANNAS_AND_SHRUBLANDS_INITIAL_UNAIDED_CARRYING_CAP = 20\n",
    "TROPICAL_AND_SUBTROPICAL_CONIFEROUS_FORESTS_INITIAL_UNAIDED_CARRYING_CAP = 20\n",
    "TROPICAL_AND_SUBTROPICAL_DRY_BROADLEAF_FORESTS_INITIAL_UNAIDED_CARRYING_CAP = 20\n",
    "TROPICAL_AND_SUBTROPICAL_GRASSLANDS_SAVANNAS_AND_SHRUBLANDS_INITIAL_UNAIDED_CARRYING_CAP = 20\n",
    "TROPICAL_AND_SUBTROPICAL_MOIST_BROADLEAF_FORESTS_INITIAL_UNAIDED_CARRYING_CAP = 20\n",
    "TUNDRA_INITIAL_UNAIDED_CARRYING_CAP = 10\n",
    "# Specifying the following as distributions saves\n",
    "# us from having to specifying them separately\n",
    "# for each location.  The most likely value becomes\n",
    "# a parameter for a PERT distribution.\n",
    "########################################################\n",
    "# TRANSPORTATION_TECH_LEVEL_IN_USE\n",
    "########################################################\n",
    "# Valid interval: [0, 0.5]\n",
    "BOREAL_FORESTS_TAIGA_INITIAL_MOST_LIKELY_TRANSPORTATION_TECH_LEVEL_IN_USE = 0.1\n",
    "DESERTS_AND_XERIC_SHRUBLANDS_INITIAL_MOST_LIKELY_TRANSPORTATION_TECH_LEVEL_IN_USE = 0\n",
    "FLOODED_GRASSLANDS_AND_SAVANNAS_INITIAL_MOST_LIKELY_TRANSPORTATION_TECH_LEVEL_IN_USE = 0\n",
    "MANGROVES_INITIAL_MOST_LIKELY_TRANSPORTATION_TECH_LEVEL_IN_USE = 0\n",
    "MEDITERRANEAN_FORESTS_WOODLANDS_AND_SCRUB_INITIAL_MOST_LIKELY_TRANSPORTATION_TECH_LEVEL_IN_USE = 0\n",
    "MONTANE_GRASSLANDS_AND_SHRUBLANDS_INITIAL_MOST_LIKELY_TRANSPORTATION_TECH_LEVEL_IN_USE = 0\n",
    "TEMPERATE_BROADLEAF_AND_MIXED_FORESTS_INITIAL_MOST_LIKELY_TRANSPORTATION_TECH_LEVEL_IN_USE = 0\n",
    "TEMPERATE_CONIFER_FORESTS_INITIAL_MOST_LIKELY_TRANSPORTATION_TECH_LEVEL_IN_USE = 0\n",
    "TEMPERATE_GRASSLANDS_SAVANNAS_AND_SHRUBLANDS_INITIAL_MOST_LIKELY_TRANSPORTATION_TECH_LEVEL_IN_USE = 0\n",
    "TROPICAL_AND_SUBTROPICAL_CONIFEROUS_FORESTS_INITIAL_MOST_LIKELY_TRANSPORTATION_TECH_LEVEL_IN_USE = 0\n",
    "TROPICAL_AND_SUBTROPICAL_DRY_BROADLEAF_FORESTS_INITIAL_MOST_LIKELY_TRANSPORTATION_TECH_LEVEL_IN_USE = 0\n",
    "TROPICAL_AND_SUBTROPICAL_GRASSLANDS_SAVANNAS_AND_SHRUBLANDS_INITIAL_MOST_LIKELY_TRANSPORTATION_TECH_LEVEL_IN_USE = 0\n",
    "TROPICAL_AND_SUBTROPICAL_MOIST_BROADLEAF_FORESTS_INITIAL_MOST_LIKELY_TRANSPORTATION_TECH_LEVEL_IN_USE = 0\n",
    "TUNDRA_INITIAL_MOST_LIKELY_TRANSPORTATION_TECH_LEVEL_IN_USE = 0.3\n",
    "\n",
    "########################################################\n",
    "# HEALTHCARE_TECH_LEVEL_IN_USE\n",
    "########################################################\n",
    "# Valid interval: [0, 0.3]\n",
    "BOREAL_FORESTS_TAIGA_INITIAL_MOST_LIKELY_HEALTHCARE_TECH_LEVEL_IN_USE = 0\n",
    "DESERTS_AND_XERIC_SHRUBLANDS_INITIAL_MOST_LIKELY_HEALTHCARE_TECH_LEVEL_IN_USE = 0\n",
    "FLOODED_GRASSLANDS_AND_SAVANNAS_INITIAL_MOST_LIKELY_HEALTHCARE_TECH_LEVEL_IN_USE = 0\n",
    "MANGROVES_INITIAL_MOST_LIKELY_HEALTHCARE_TECH_LEVEL_IN_USE = 0\n",
    "MEDITERRANEAN_FORESTS_WOODLANDS_AND_SCRUB_INITIAL_MOST_LIKELY_HEALTHCARE_TECH_LEVEL_IN_USE = 0\n",
    "MONTANE_GRASSLANDS_AND_SHRUBLANDS_INITIAL_MOST_LIKELY_HEALTHCARE_TECH_LEVEL_IN_USE = 0\n",
    "TEMPERATE_BROADLEAF_AND_MIXED_FORESTS_INITIAL_MOST_LIKELY_HEALTHCARE_TECH_LEVEL_IN_USE = 0\n",
    "TEMPERATE_CONIFER_FORESTS_INITIAL_MOST_LIKELY_HEALTHCARE_TECH_LEVEL_IN_USE = 0\n",
    "TEMPERATE_GRASSLANDS_SAVANNAS_AND_SHRUBLANDS_INITIAL_MOST_LIKELY_HEALTHCARE_TECH_LEVEL_IN_USE = 0\n",
    "TROPICAL_AND_SUBTROPICAL_CONIFEROUS_FORESTS_INITIAL_MOST_LIKELY_HEALTHCARE_TECH_LEVEL_IN_USE = 0\n",
    "TROPICAL_AND_SUBTROPICAL_DRY_BROADLEAF_FORESTS_INITIAL_MOST_LIKELY_HEALTHCARE_TECH_LEVEL_IN_USE = 0\n",
    "TROPICAL_AND_SUBTROPICAL_GRASSLANDS_SAVANNAS_AND_SHRUBLANDS_INITIAL_MOST_LIKELY_HEALTHCARE_TECH_LEVEL_IN_USE = 0\n",
    "TROPICAL_AND_SUBTROPICAL_MOIST_BROADLEAF_FORESTS_INITIAL_MOST_LIKELY_HEALTHCARE_TECH_LEVEL_IN_USE = 0\n",
    "TUNDRA_INITIAL_MOST_LIKELY_HEALTHCARE_TECH_LEVEL_IN_USE = 0\n",
    "\n",
    "\n",
    "\n",
    "# Now, create objects for the relevant distributions\n",
    "# using the supplied parameters.\n",
    "INITIAL_HEALTHCARE_TECH_LEVEL_IN_USE = PERT(min_val=0, ml_val=0, max_val=1, lamb=40)\n",
    "INITIAL_WARFARE_TECH_LEVEL_IN_USE = PERT(min_val=0, ml_val=0, max_val=1, lamb=40)\n",
    "INITIAL_AGRICULTURAL_TECH_LEVEL_IN_USE = PERT(min_val=0, ml_val=0, max_val=1, lamb=40)\n",
    "INITIAL_HOUSING_TECH_LEVEL_IN_USE = PERT(min_val=0, ml_val=0, max_val=1, lamb=40)\n",
    "# Should be a positive number. Larger values indicate increased relevance.\n",
    "RELEVANCE_OF_DIST_BASED_ON_TRANSPORTATION_TECH_LEVEL = 5"
   ]
  },
  {
   "cell_type": "markdown",
   "metadata": {},
   "source": [
    "# Get Data from Other Scripts"
   ]
  },
  {
   "cell_type": "code",
   "execution_count": 4,
   "metadata": {},
   "outputs": [],
   "source": [
    "# ETL for distance matrix:\n",
    "dist_mat = np.loadtxt(Path(DATA_PATH, \"dist_matrix.csv\"), delimiter=\",\")\n",
    "# Set num_world_locations according to pre-made\n",
    "# dist_mat.\n",
    "num_world_locations = dist_mat.shape[0]\n",
    "# Manipulate dist_mat \n",
    "# https://stackoverflow.com/questions/16444930/copy-upper-triangle-to-lower-triangle-in-a-python-matrix\n",
    "dist_mat = np.triu(dist_mat)\n",
    "dist_mat = dist_mat + dist_mat.T\n",
    "np.fill_diagonal(a=dist_mat, val=0)"
   ]
  },
  {
   "cell_type": "markdown",
   "metadata": {},
   "source": [
    "## Get geographic data that goes along with the distance matrix."
   ]
  },
  {
   "cell_type": "code",
   "execution_count": 5,
   "metadata": {},
   "outputs": [],
   "source": [
    "# This takes 3 min on my computer.\n",
    "# https://ecoregions.appspot.com/\n",
    "ecoregions_2017_with_more_points = geopandas.read_file(filename=Path(DATA_PATH, \"ecoregions_2017_with_more_points.shp\"))"
   ]
  },
  {
   "cell_type": "code",
   "execution_count": 6,
   "metadata": {},
   "outputs": [],
   "source": [
    "# Convert to an equal-area CRS so that we can find\n",
    "# the areas of the ecoregions.\n",
    "# https://gis.stackexchange.com/questions/285266/geopandas-proj4-reproject-to-global-equal-area-projection\n",
    "ecoregions_2017_with_more_points.to_crs(crs=\"+proj=eck4 +lon_0=0 +x_0=0 +y_0=0 +datum=WGS84 +ellps=WGS84 +units=m +no_defs\", inplace=True)\n",
    "# Get the area of each ecoregion in square meters.\n",
    "ecoregions_2017_with_more_points[\"ecoregion_area_in_sq_m\"] = ecoregions_2017_with_more_points.area\n",
    "# Create a polars dataframe without the geometry info.\n",
    "# for performance reasons.\n",
    "ecoregions_2017_with_more_points_no_geo = pl.from_pandas(\n",
    "    data=ecoregions_2017_with_more_points.loc[:, [\"ECO_NAME\", \"BIOME_NAME\", \"REALM\", \"ecoregion_area_in_sq_m\"]]\n",
    ")\n",
    "# Convert the area of each ecoregion to square miles.\n",
    "ecoregions_2017_with_more_points_no_geo = (ecoregions_2017_with_more_points_no_geo\n",
    "    .with_columns([\n",
    "        (pl.col(\"ecoregion_area_in_sq_m\") / (1609.34**2)).alias(\"ecoregion_area_in_sq_mi\")\n",
    "    ])\n",
    "    .drop(\"ecoregion_area_in_sq_m\")\n",
    ")"
   ]
  },
  {
   "cell_type": "code",
   "execution_count": 7,
   "metadata": {},
   "outputs": [
    {
     "data": {
      "text/html": [
       "<div><style>\n",
       ".dataframe > thead > tr,\n",
       ".dataframe > tbody > tr {\n",
       "  text-align: right;\n",
       "  white-space: pre-wrap;\n",
       "}\n",
       "</style>\n",
       "<small>shape: (19, 2)</small><table border=\"1\" class=\"dataframe\"><thead><tr><th>ECO_NAME</th><th>BIOME_NAME</th></tr><tr><td>str</td><td>str</td></tr></thead><tbody><tr><td>&quot;Northeast Antarctic Peninsula tundra&quot;</td><td>&quot;Tundra&quot;</td></tr><tr><td>&quot;Marie Byrd Land tundra&quot;</td><td>&quot;Tundra&quot;</td></tr><tr><td>&quot;Ellsworth Land tundra&quot;</td><td>&quot;Tundra&quot;</td></tr><tr><td>&quot;Prince Charles Mountains tundra&quot;</td><td>&quot;Tundra&quot;</td></tr><tr><td>&quot;South Orkney Islands tundra&quot;</td><td>&quot;Tundra&quot;</td></tr><tr><td>&quot;Transantarctic Mountains tundra&quot;</td><td>&quot;Tundra&quot;</td></tr><tr><td>&quot;Rock and Ice&quot;</td><td>&quot;N/A&quot;</td></tr><tr><td>&quot;East Antarctic tundra&quot;</td><td>&quot;Tundra&quot;</td></tr><tr><td>&quot;Ellsworth Mountains tundra&quot;</td><td>&quot;Tundra&quot;</td></tr><tr><td>&quot;Enderby Land tundra&quot;</td><td>&quot;Tundra&quot;</td></tr><tr><td>&quot;Northwest Antarctic Peninsula tundra&quot;</td><td>&quot;Tundra&quot;</td></tr><tr><td>&quot;Scotia Sea Islands tundra&quot;</td><td>&quot;Tundra&quot;</td></tr><tr><td>&quot;South Victoria Land tundra&quot;</td><td>&quot;Tundra&quot;</td></tr><tr><td>&quot;Southern Indian Ocean Islands tundra&quot;</td><td>&quot;Tundra&quot;</td></tr><tr><td>&quot;Adelie Land tundra&quot;</td><td>&quot;Tundra&quot;</td></tr><tr><td>&quot;Central South Antarctic Peninsula tundra&quot;</td><td>&quot;Tundra&quot;</td></tr><tr><td>&quot;Dronning Maud Land tundra&quot;</td><td>&quot;Tundra&quot;</td></tr><tr><td>&quot;North Victoria Land tundra&quot;</td><td>&quot;Tundra&quot;</td></tr><tr><td>&quot;South Antarctic Peninsula tundra&quot;</td><td>&quot;Tundra&quot;</td></tr></tbody></table></div>"
      ],
      "text/plain": [
       "shape: (19, 2)\n",
       "┌──────────────────────────────────────────┬────────────┐\n",
       "│ ECO_NAME                                 ┆ BIOME_NAME │\n",
       "│ ---                                      ┆ ---        │\n",
       "│ str                                      ┆ str        │\n",
       "╞══════════════════════════════════════════╪════════════╡\n",
       "│ Northeast Antarctic Peninsula tundra     ┆ Tundra     │\n",
       "│ Marie Byrd Land tundra                   ┆ Tundra     │\n",
       "│ Ellsworth Land tundra                    ┆ Tundra     │\n",
       "│ Prince Charles Mountains tundra          ┆ Tundra     │\n",
       "│ …                                        ┆ …          │\n",
       "│ Central South Antarctic Peninsula tundra ┆ Tundra     │\n",
       "│ Dronning Maud Land tundra                ┆ Tundra     │\n",
       "│ North Victoria Land tundra               ┆ Tundra     │\n",
       "│ South Antarctic Peninsula tundra         ┆ Tundra     │\n",
       "└──────────────────────────────────────────┴────────────┘"
      ]
     },
     "execution_count": 7,
     "metadata": {},
     "output_type": "execute_result"
    }
   ],
   "source": [
    "(ecoregions_2017_with_more_points_no_geo\n",
    "    .filter((pl.col(\"REALM\") == \"Antarctica\") | (pl.col(\"REALM\") == \"N/A\"))\n",
    "    .select([\"ECO_NAME\", \"BIOME_NAME\"])\n",
    "    .unique()\n",
    ")"
   ]
  },
  {
   "cell_type": "code",
   "execution_count": 8,
   "metadata": {},
   "outputs": [
    {
     "data": {
      "text/html": [
       "<div><style>\n",
       ".dataframe > thead > tr,\n",
       ".dataframe > tbody > tr {\n",
       "  text-align: right;\n",
       "  white-space: pre-wrap;\n",
       "}\n",
       "</style>\n",
       "<small>shape: (1, 1)</small><table border=\"1\" class=\"dataframe\"><thead><tr><th>ECO_NAME</th></tr><tr><td>str</td></tr></thead><tbody><tr><td>&quot;Rock and Ice&quot;</td></tr></tbody></table></div>"
      ],
      "text/plain": [
       "shape: (1, 1)\n",
       "┌──────────────┐\n",
       "│ ECO_NAME     │\n",
       "│ ---          │\n",
       "│ str          │\n",
       "╞══════════════╡\n",
       "│ Rock and Ice │\n",
       "└──────────────┘"
      ]
     },
     "execution_count": 8,
     "metadata": {},
     "output_type": "execute_result"
    }
   ],
   "source": [
    "(ecoregions_2017_with_more_points_no_geo\n",
    "    .filter(pl.col(\"REALM\") == \"N/A\")\n",
    "    .select(\"ECO_NAME\")\n",
    "    .unique()\n",
    ")"
   ]
  },
  {
   "cell_type": "markdown",
   "metadata": {},
   "source": [
    "How many ecoregions are there?"
   ]
  },
  {
   "cell_type": "code",
   "execution_count": 9,
   "metadata": {},
   "outputs": [
    {
     "data": {
      "text/html": [
       "<div><style>\n",
       ".dataframe > thead > tr,\n",
       ".dataframe > tbody > tr {\n",
       "  text-align: right;\n",
       "  white-space: pre-wrap;\n",
       "}\n",
       "</style>\n",
       "<small>shape: (1, 1)</small><table border=\"1\" class=\"dataframe\"><thead><tr><th>ECO_NAME</th></tr><tr><td>u32</td></tr></thead><tbody><tr><td>847</td></tr></tbody></table></div>"
      ],
      "text/plain": [
       "shape: (1, 1)\n",
       "┌──────────┐\n",
       "│ ECO_NAME │\n",
       "│ ---      │\n",
       "│ u32      │\n",
       "╞══════════╡\n",
       "│ 847      │\n",
       "└──────────┘"
      ]
     },
     "execution_count": 9,
     "metadata": {},
     "output_type": "execute_result"
    }
   ],
   "source": [
    "(ecoregions_2017_with_more_points_no_geo\n",
    "    .select(\"ECO_NAME\")\n",
    "    .unique()\n",
    "    .select(pl.col(\"ECO_NAME\").count())\n",
    ")"
   ]
  },
  {
   "cell_type": "markdown",
   "metadata": {},
   "source": [
    "What are the names of the biomes?"
   ]
  },
  {
   "cell_type": "code",
   "execution_count": 10,
   "metadata": {},
   "outputs": [
    {
     "data": {
      "text/html": [
       "<div><style>\n",
       ".dataframe > thead > tr,\n",
       ".dataframe > tbody > tr {\n",
       "  text-align: right;\n",
       "  white-space: pre-wrap;\n",
       "}\n",
       "</style>\n",
       "<small>shape: (15, 1)</small><table border=\"1\" class=\"dataframe\"><thead><tr><th>BIOME_NAME</th></tr><tr><td>str</td></tr></thead><tbody><tr><td>&quot;Boreal Forests/Taiga&quot;</td></tr><tr><td>&quot;Deserts &amp; Xeric Shrublands&quot;</td></tr><tr><td>&quot;Flooded Grasslands &amp; Savannas&quot;</td></tr><tr><td>&quot;Mangroves&quot;</td></tr><tr><td>&quot;Mediterranean Forests, Woodlands &amp; Scrub&quot;</td></tr><tr><td>&quot;Montane Grasslands &amp; Shrublands&quot;</td></tr><tr><td>&quot;N/A&quot;</td></tr><tr><td>&quot;Temperate Broadleaf &amp; Mixed Forests&quot;</td></tr><tr><td>&quot;Temperate Conifer Forests&quot;</td></tr><tr><td>&quot;Temperate Grasslands, Savannas &amp; Shrublands&quot;</td></tr><tr><td>&quot;Tropical &amp; Subtropical Coniferous Forests&quot;</td></tr><tr><td>&quot;Tropical &amp; Subtropical Dry Broadleaf Forests&quot;</td></tr><tr><td>&quot;Tropical &amp; Subtropical Grasslands, Savannas &amp; Shrublands&quot;</td></tr><tr><td>&quot;Tropical &amp; Subtropical Moist Broadleaf Forests&quot;</td></tr><tr><td>&quot;Tundra&quot;</td></tr></tbody></table></div>"
      ],
      "text/plain": [
       "shape: (15, 1)\n",
       "┌──────────────────────────────────────────────────────────┐\n",
       "│ BIOME_NAME                                               │\n",
       "│ ---                                                      │\n",
       "│ str                                                      │\n",
       "╞══════════════════════════════════════════════════════════╡\n",
       "│ Boreal Forests/Taiga                                     │\n",
       "│ Deserts & Xeric Shrublands                               │\n",
       "│ Flooded Grasslands & Savannas                            │\n",
       "│ Mangroves                                                │\n",
       "│ …                                                        │\n",
       "│ Tropical & Subtropical Dry Broadleaf Forests             │\n",
       "│ Tropical & Subtropical Grasslands, Savannas & Shrublands │\n",
       "│ Tropical & Subtropical Moist Broadleaf Forests           │\n",
       "│ Tundra                                                   │\n",
       "└──────────────────────────────────────────────────────────┘"
      ]
     },
     "execution_count": 10,
     "metadata": {},
     "output_type": "execute_result"
    }
   ],
   "source": [
    "(ecoregions_2017_with_more_points_no_geo\n",
    "    .select(\"BIOME_NAME\")\n",
    "    .unique()\n",
    "    .sort(\"BIOME_NAME\")\n",
    ")"
   ]
  },
  {
   "cell_type": "markdown",
   "metadata": {},
   "source": [
    "Use ecoregions_2017_with_more_points_no_geo to store data about each location."
   ]
  },
  {
   "cell_type": "code",
   "execution_count": 11,
   "metadata": {},
   "outputs": [
    {
     "data": {
      "text/html": [
       "<div><style>\n",
       ".dataframe > thead > tr,\n",
       ".dataframe > tbody > tr {\n",
       "  text-align: right;\n",
       "  white-space: pre-wrap;\n",
       "}\n",
       "</style>\n",
       "<small>shape: (5, 4)</small><table border=\"1\" class=\"dataframe\"><thead><tr><th>ECO_NAME</th><th>BIOME_NAME</th><th>REALM</th><th>ecoregion_area_in_sq_mi</th></tr><tr><td>str</td><td>str</td><td>str</td><td>f64</td></tr></thead><tbody><tr><td>&quot;Adelie Land tundra&quot;</td><td>&quot;Tundra&quot;</td><td>&quot;Antarctica&quot;</td><td>68.246199</td></tr><tr><td>&quot;Admiralty Islands lowland rain forests&quot;</td><td>&quot;Tropical &amp; Subtropical Moist Broadleaf Forests&quot;</td><td>&quot;Australasia&quot;</td><td>815.701401</td></tr><tr><td>&quot;Aegean and Western Turkey sclerophyllous and mixed forests&quot;</td><td>&quot;Mediterranean Forests, Woodlands &amp; Scrub&quot;</td><td>&quot;Palearctic&quot;</td><td>51643.0957</td></tr><tr><td>&quot;Aegean and Western Turkey sclerophyllous and mixed forests&quot;</td><td>&quot;Mediterranean Forests, Woodlands &amp; Scrub&quot;</td><td>&quot;Palearctic&quot;</td><td>51643.0957</td></tr><tr><td>&quot;Aegean and Western Turkey sclerophyllous and mixed forests&quot;</td><td>&quot;Mediterranean Forests, Woodlands &amp; Scrub&quot;</td><td>&quot;Palearctic&quot;</td><td>51643.0957</td></tr></tbody></table></div>"
      ],
      "text/plain": [
       "shape: (5, 4)\n",
       "┌────────────────────────────────┬─────────────────────────┬─────────────┬─────────────────────────┐\n",
       "│ ECO_NAME                       ┆ BIOME_NAME              ┆ REALM       ┆ ecoregion_area_in_sq_mi │\n",
       "│ ---                            ┆ ---                     ┆ ---         ┆ ---                     │\n",
       "│ str                            ┆ str                     ┆ str         ┆ f64                     │\n",
       "╞════════════════════════════════╪═════════════════════════╪═════════════╪═════════════════════════╡\n",
       "│ Adelie Land tundra             ┆ Tundra                  ┆ Antarctica  ┆ 68.246199               │\n",
       "│ Admiralty Islands lowland rain ┆ Tropical & Subtropical  ┆ Australasia ┆ 815.701401              │\n",
       "│ forests                        ┆ Moist Broadleaf Forests ┆             ┆                         │\n",
       "│ Aegean and Western Turkey      ┆ Mediterranean Forests,  ┆ Palearctic  ┆ 51643.0957              │\n",
       "│ sclerophyllous and mixed       ┆ Woodlands & Scrub       ┆             ┆                         │\n",
       "│ forests                        ┆                         ┆             ┆                         │\n",
       "│ Aegean and Western Turkey      ┆ Mediterranean Forests,  ┆ Palearctic  ┆ 51643.0957              │\n",
       "│ sclerophyllous and mixed       ┆ Woodlands & Scrub       ┆             ┆                         │\n",
       "│ forests                        ┆                         ┆             ┆                         │\n",
       "│ Aegean and Western Turkey      ┆ Mediterranean Forests,  ┆ Palearctic  ┆ 51643.0957              │\n",
       "│ sclerophyllous and mixed       ┆ Woodlands & Scrub       ┆             ┆                         │\n",
       "│ forests                        ┆                         ┆             ┆                         │\n",
       "└────────────────────────────────┴─────────────────────────┴─────────────┴─────────────────────────┘"
      ]
     },
     "execution_count": 11,
     "metadata": {},
     "output_type": "execute_result"
    }
   ],
   "source": [
    "# Each row in ecoregions_2017_with_more_points_no_geo corresponds to a different\n",
    "# world location.  Some of the locations are in the same ecoregion.\n",
    "ecoregions_2017_with_more_points_no_geo.head()"
   ]
  },
  {
   "cell_type": "code",
   "execution_count": 12,
   "metadata": {},
   "outputs": [],
   "source": [
    "# What are the areas of each location\n",
    "# if each ecoregion in which they are located\n",
    "# is divided into equal area sections according\n",
    "# to the number of locations in that ecoregion?\n",
    "ecoregions_2017_with_more_points_no_geo = (ecoregions_2017_with_more_points_no_geo\n",
    "    .with_columns([\n",
    "        (pl.col(\"ecoregion_area_in_sq_mi\") / pl.count(\"ECO_NAME\").over(\"ECO_NAME\"))\n",
    "        .alias(\"location_area_in_sq_mi\")\n",
    "    ])\n",
    ")"
   ]
  },
  {
   "cell_type": "markdown",
   "metadata": {},
   "source": [
    "Google says that the total land area of the earth is about $57268900$ square miles.\n",
    "What is our total land area?"
   ]
  },
  {
   "cell_type": "code",
   "execution_count": 13,
   "metadata": {},
   "outputs": [
    {
     "data": {
      "text/html": [
       "<div><style>\n",
       ".dataframe > thead > tr,\n",
       ".dataframe > tbody > tr {\n",
       "  text-align: right;\n",
       "  white-space: pre-wrap;\n",
       "}\n",
       "</style>\n",
       "<small>shape: (1, 1)</small><table border=\"1\" class=\"dataframe\"><thead><tr><th>total_land_area</th></tr><tr><td>f64</td></tr></thead><tbody><tr><td>5.6624e7</td></tr></tbody></table></div>"
      ],
      "text/plain": [
       "shape: (1, 1)\n",
       "┌─────────────────┐\n",
       "│ total_land_area │\n",
       "│ ---             │\n",
       "│ f64             │\n",
       "╞═════════════════╡\n",
       "│ 5.6624e7        │\n",
       "└─────────────────┘"
      ]
     },
     "execution_count": 13,
     "metadata": {},
     "output_type": "execute_result"
    }
   ],
   "source": [
    "(ecoregions_2017_with_more_points_no_geo\n",
    "    .unique()\n",
    "    .group_by(\"BIOME_NAME\")\n",
    "    .agg([\n",
    "        pl.sum(\"ecoregion_area_in_sq_mi\").alias(\"total_biome_area_in_sq_mi\")\n",
    "    ])\n",
    "    .select(pl.col(\"total_biome_area_in_sq_mi\").sum().alias(\"total_land_area\"))\n",
    ")"
   ]
  },
  {
   "cell_type": "markdown",
   "metadata": {},
   "source": [
    "## Incorporation of Factors"
   ]
  },
  {
   "cell_type": "code",
   "execution_count": 14,
   "metadata": {},
   "outputs": [
    {
     "data": {
      "text/html": [
       "<div><style>\n",
       ".dataframe > thead > tr,\n",
       ".dataframe > tbody > tr {\n",
       "  text-align: right;\n",
       "  white-space: pre-wrap;\n",
       "}\n",
       "</style>\n",
       "<small>shape: (5, 6)</small><table border=\"1\" class=\"dataframe\"><thead><tr><th>ECO_NAME</th><th>BIOME_NAME</th><th>REALM</th><th>ecoregion_area_in_sq_mi</th><th>location_area_in_sq_mi</th><th>pop_size</th></tr><tr><td>str</td><td>str</td><td>str</td><td>f64</td><td>f64</td><td>f64</td></tr></thead><tbody><tr><td>&quot;Adelie Land tundra&quot;</td><td>&quot;Tundra&quot;</td><td>&quot;Antarctica&quot;</td><td>68.246199</td><td>68.246199</td><td>0.0</td></tr><tr><td>&quot;Admiralty Islands lowland rain forests&quot;</td><td>&quot;Tropical &amp; Subtropical Moist Broadleaf Forests&quot;</td><td>&quot;Australasia&quot;</td><td>815.701401</td><td>815.701401</td><td>408.0</td></tr><tr><td>&quot;Aegean and Western Turkey sclerophyllous and mixed forests&quot;</td><td>&quot;Mediterranean Forests, Woodlands &amp; Scrub&quot;</td><td>&quot;Palearctic&quot;</td><td>51643.0957</td><td>17214.365233</td><td>8607.0</td></tr><tr><td>&quot;Aegean and Western Turkey sclerophyllous and mixed forests&quot;</td><td>&quot;Mediterranean Forests, Woodlands &amp; Scrub&quot;</td><td>&quot;Palearctic&quot;</td><td>51643.0957</td><td>17214.365233</td><td>8607.0</td></tr><tr><td>&quot;Aegean and Western Turkey sclerophyllous and mixed forests&quot;</td><td>&quot;Mediterranean Forests, Woodlands &amp; Scrub&quot;</td><td>&quot;Palearctic&quot;</td><td>51643.0957</td><td>17214.365233</td><td>8607.0</td></tr></tbody></table></div>"
      ],
      "text/plain": [
       "shape: (5, 6)\n",
       "┌──────────────────┬──────────────────┬─────────────┬─────────────────┬─────────────────┬──────────┐\n",
       "│ ECO_NAME         ┆ BIOME_NAME       ┆ REALM       ┆ ecoregion_area_ ┆ location_area_i ┆ pop_size │\n",
       "│ ---              ┆ ---              ┆ ---         ┆ in_sq_mi        ┆ n_sq_mi         ┆ ---      │\n",
       "│ str              ┆ str              ┆ str         ┆ ---             ┆ ---             ┆ f64      │\n",
       "│                  ┆                  ┆             ┆ f64             ┆ f64             ┆          │\n",
       "╞══════════════════╪══════════════════╪═════════════╪═════════════════╪═════════════════╪══════════╡\n",
       "│ Adelie Land      ┆ Tundra           ┆ Antarctica  ┆ 68.246199       ┆ 68.246199       ┆ 0.0      │\n",
       "│ tundra           ┆                  ┆             ┆                 ┆                 ┆          │\n",
       "│ Admiralty        ┆ Tropical &       ┆ Australasia ┆ 815.701401      ┆ 815.701401      ┆ 408.0    │\n",
       "│ Islands lowland  ┆ Subtropical      ┆             ┆                 ┆                 ┆          │\n",
       "│ rain forests     ┆ Moist Broadleaf  ┆             ┆                 ┆                 ┆          │\n",
       "│                  ┆ Forests          ┆             ┆                 ┆                 ┆          │\n",
       "│ Aegean and       ┆ Mediterranean    ┆ Palearctic  ┆ 51643.0957      ┆ 17214.365233    ┆ 8607.0   │\n",
       "│ Western Turkey   ┆ Forests,         ┆             ┆                 ┆                 ┆          │\n",
       "│ sclerophyllous   ┆ Woodlands &      ┆             ┆                 ┆                 ┆          │\n",
       "│ and mixed        ┆ Scrub            ┆             ┆                 ┆                 ┆          │\n",
       "│ forests          ┆                  ┆             ┆                 ┆                 ┆          │\n",
       "│ Aegean and       ┆ Mediterranean    ┆ Palearctic  ┆ 51643.0957      ┆ 17214.365233    ┆ 8607.0   │\n",
       "│ Western Turkey   ┆ Forests,         ┆             ┆                 ┆                 ┆          │\n",
       "│ sclerophyllous   ┆ Woodlands &      ┆             ┆                 ┆                 ┆          │\n",
       "│ and mixed        ┆ Scrub            ┆             ┆                 ┆                 ┆          │\n",
       "│ forests          ┆                  ┆             ┆                 ┆                 ┆          │\n",
       "│ Aegean and       ┆ Mediterranean    ┆ Palearctic  ┆ 51643.0957      ┆ 17214.365233    ┆ 8607.0   │\n",
       "│ Western Turkey   ┆ Forests,         ┆             ┆                 ┆                 ┆          │\n",
       "│ sclerophyllous   ┆ Woodlands &      ┆             ┆                 ┆                 ┆          │\n",
       "│ and mixed        ┆ Scrub            ┆             ┆                 ┆                 ┆          │\n",
       "│ forests          ┆                  ┆             ┆                 ┆                 ┆          │\n",
       "└──────────────────┴──────────────────┴─────────────┴─────────────────┴─────────────────┴──────────┘"
      ]
     },
     "execution_count": 14,
     "metadata": {},
     "output_type": "execute_result"
    }
   ],
   "source": [
    "# Store info. based on treatments for use later.\n",
    "ecoregions_2017_with_more_points_no_geo = (ecoregions_2017_with_more_points_no_geo\n",
    "    .with_columns([\n",
    "        pl.when(\n",
    "            # Don't have people here to start.\n",
    "            (pl.col(\"REALM\") == \"N/A\")\n",
    "            |\n",
    "            (pl.col(\"REALM\") == \"Antarctica\")\n",
    "        )\n",
    "        .then(\n",
    "            pl.lit(value=0, dtype=pl.Int64)\n",
    "        )\n",
    "        .when(\n",
    "            (pl.col(\"BIOME_NAME\") == \"Boreal Forests/Taiga\")\n",
    "        )\n",
    "        .then(\n",
    "            BOREAL_FORESTS_TAIGA_INITIAL_AVG_POP_DENSITY * pl.col(\"location_area_in_sq_mi\")\n",
    "        )\n",
    "        .when(\n",
    "            (pl.col(\"BIOME_NAME\") == \"Deserts & Xeric Shrublands\")\n",
    "        )\n",
    "        .then(\n",
    "            DESERTS_AND_XERIC_SHRUBLANDS_INITIAL_AVG_POP_DENSITY * pl.col(\"location_area_in_sq_mi\")\n",
    "        )\n",
    "        .when(\n",
    "            (pl.col(\"BIOME_NAME\") == \"Flooded Grasslands & Savannas\")\n",
    "        )\n",
    "        .then(\n",
    "            FLOODED_GRASSLANDS_AND_SAVANNAS_INITIAL_AVG_POP_DENSITY * pl.col(\"location_area_in_sq_mi\")\n",
    "        )\n",
    "        .when(\n",
    "            (pl.col(\"BIOME_NAME\") == \"Mangroves\")\n",
    "        )\n",
    "        .then(\n",
    "            MANGROVES_INITIAL_AVG_POP_DENSITY * pl.col(\"location_area_in_sq_mi\")\n",
    "        )\n",
    "        .when(\n",
    "            (pl.col(\"BIOME_NAME\") == \"Mediterranean Forests, Woodlands & Scrub\")\n",
    "        )\n",
    "        .then(\n",
    "            MEDITERRANEAN_FORESTS_WOODLANDS_AND_SCRUB_INITIAL_AVG_POP_DENSITY * pl.col(\"location_area_in_sq_mi\")\n",
    "        )\n",
    "        .when(\n",
    "            (pl.col(\"BIOME_NAME\") == \"Montane Grasslands & Shrublands\")\n",
    "        )\n",
    "        .then(\n",
    "            MONTANE_GRASSLANDS_AND_SHRUBLANDS_INITIAL_AVG_POP_DENSITY * pl.col(\"location_area_in_sq_mi\")\n",
    "        )\n",
    "        .when(\n",
    "            (pl.col(\"BIOME_NAME\") == \"Temperate Broadleaf & Mixed Forests\")\n",
    "        )\n",
    "        .then(\n",
    "            TEMPERATE_BROADLEAF_AND_MIXED_FORESTS_INITIAL_AVG_POP_DENSITY * pl.col(\"location_area_in_sq_mi\")\n",
    "        )\n",
    "        .when(\n",
    "            (pl.col(\"BIOME_NAME\") == \"Temperate Conifer Forests\")\n",
    "        )\n",
    "        .then(\n",
    "            TEMPERATE_CONIFER_FORESTS_INITIAL_AVG_POP_DENSITY * pl.col(\"location_area_in_sq_mi\")\n",
    "        )\n",
    "        .when(\n",
    "            (pl.col(\"BIOME_NAME\") == \"Temperate Grasslands, Savannas & Shrublands\")\n",
    "        )\n",
    "        .then(\n",
    "            TEMPERATE_GRASSLANDS_SAVANNAS_AND_SHRUBLANDS_INITIAL_AVG_POP_DENSITY * pl.col(\"location_area_in_sq_mi\")\n",
    "        )\n",
    "        .when(\n",
    "            (pl.col(\"BIOME_NAME\") == \"Tropical & Subtropical Coniferous Forests\")\n",
    "        )\n",
    "        .then(\n",
    "            TROPICAL_AND_SUBTROPICAL_CONIFEROUS_FORESTS_INITIAL_AVG_POP_DENSITY * pl.col(\"location_area_in_sq_mi\")\n",
    "        )\n",
    "        .when(\n",
    "            (pl.col(\"BIOME_NAME\") == \"Tropical & Subtropical Dry Broadleaf Forests\")\n",
    "        )\n",
    "        .then(\n",
    "            TROPICAL_AND_SUBTROPICAL_DRY_BROADLEAF_FORESTS_INITIAL_AVG_POP_DENSITY * pl.col(\"location_area_in_sq_mi\")\n",
    "        )\n",
    "        .when(\n",
    "            (pl.col(\"BIOME_NAME\") == \"Tropical & Subtropical Grasslands, Savannas & Shrublands\")\n",
    "        )\n",
    "        .then(\n",
    "            TROPICAL_AND_SUBTROPICAL_GRASSLANDS_SAVANNAS_AND_SHRUBLANDS_INITIAL_AVG_POP_DENSITY * pl.col(\"location_area_in_sq_mi\")\n",
    "        )\n",
    "        .when(\n",
    "            (pl.col(\"BIOME_NAME\") == \"Tropical & Subtropical Moist Broadleaf Forests\")\n",
    "        )\n",
    "        .then(\n",
    "            TROPICAL_AND_SUBTROPICAL_MOIST_BROADLEAF_FORESTS_INITIAL_AVG_POP_DENSITY * pl.col(\"location_area_in_sq_mi\")\n",
    "        )\n",
    "        .when(\n",
    "            (pl.col(\"BIOME_NAME\") == \"Tundra\")\n",
    "        )\n",
    "        .then(\n",
    "            TUNDRA_INITIAL_AVG_POP_DENSITY * pl.col(\"location_area_in_sq_mi\")\n",
    "        )\n",
    "        .round(0)\n",
    "        .alias(\"pop_size\")\n",
    "    ])\n",
    ")\n",
    "\n",
    "ecoregions_2017_with_more_points_no_geo.head()"
   ]
  },
  {
   "cell_type": "markdown",
   "metadata": {},
   "source": [
    "# Construct Complete Graph and Initialize it With Starting Attributes for Experiment"
   ]
  },
  {
   "cell_type": "code",
   "execution_count": 15,
   "metadata": {},
   "outputs": [],
   "source": [
    "pre_world = nx.complete_graph(num_world_locations)"
   ]
  },
  {
   "cell_type": "code",
   "execution_count": 16,
   "metadata": {},
   "outputs": [],
   "source": [
    "# Make edge weights between the world locations\n",
    "# to represent the distance between those locations.\n",
    "# https://stackoverflow.com/questions/17051589/parsing-through-edges-in-networkx-graph\n",
    "for (v1, v2, weight) in pre_world.edges.data('weight'):\n",
    "    # https://trenton3983.github.io/files/projects/2020-05-21_intro_to_network_analysis_in_python/2020-05-21_intro_to_network_analysis_in_python.html\n",
    "    # https://stackoverflow.com/questions/40128692/networkx-how-to-add-weights-to-an-existing-g-edges\n",
    "\n",
    "    pre_world[v1][v2][\"weight\"] = dist_mat[v1, v2]"
   ]
  },
  {
   "cell_type": "code",
   "execution_count": 19,
   "metadata": {},
   "outputs": [
    {
     "data": {
      "text/plain": [
       "['ECO_NAME',\n",
       " 'BIOME_NAME',\n",
       " 'REALM',\n",
       " 'ecoregion_area_in_sq_mi',\n",
       " 'location_area_in_sq_mi',\n",
       " 'pop_size']"
      ]
     },
     "execution_count": 19,
     "metadata": {},
     "output_type": "execute_result"
    }
   ],
   "source": [
    "ecoregions_2017_with_more_points_no_geo.columns"
   ]
  },
  {
   "cell_type": "code",
   "execution_count": null,
   "metadata": {},
   "outputs": [],
   "source": [
    "# Update initial node attributes\n",
    "pre_world_node_attributes = {}\n",
    "for node_id in range(num_world_locations):\n",
    "    pre_world_node_attributes[node_id] = {\n",
    "        \"pop_size\": ecoregions_2017_with_more_points_no_geo[node_id, \"pop_size\"], \n",
    "        \"carrying_capacity\": round(initial_avg_carrying_capacity_per_location),\n",
    "        \"transportation_technology_level_in_use\": INITIAL_TRANSPORTATION_TECH_LEVEL_IN_USE.rvs().item(),\n",
    "        \"sortino_ratio\": 0.5,\n",
    "        # 0 = no knowledge\n",
    "        # 1 = perfect knowledge\n",
    "        \"knowledge_of_neighbors\": np.zeros(shape=num_world_locations),\n",
    "        # calculate this as a softargmax of sortino ratios \n",
    "        \"proportion_desirous_to_emigrate\": 0.2,\n",
    "        \"emigration_success_rate\": 0.5,\n",
    "        \"energy_hills_to_neighbors\": np.zeros(shape=num_world_locations)\n",
    "    }\n",
    "    for neighbor in pre_world.neighbors(node_id):\n",
    "        # Calculate stuff we need to store in the current \n",
    "        # node in relation to its neighbors.\n",
    "        relevance_of_dist = swf.weight_0_more(\n",
    "            x=pre_world_node_attributes[node_id][\"transportation_technology_level_in_use\"],\n",
    "            b=RELEVANCE_OF_DIST_BASED_ON_TRANSPORTATION_TECH_LEVEL\n",
    "        )\n",
    "        energy_hill_to_neighbor = relevance_of_dist * pre_world[node_id][neighbor][\"weight\"] \n",
    "        # Add info. to attribute dict for node_id.\n",
    "        pre_world_node_attributes[node_id][\"energy_hills_to_neighbors\"][neighbor] = energy_hill_to_neighbor\n",
    "\n",
    "# Set our node attributes.\n",
    "nx.set_node_attributes(pre_world, pre_world_node_attributes)"
   ]
  },
  {
   "cell_type": "markdown",
   "metadata": {},
   "source": [
    "# Test Run"
   ]
  },
  {
   "cell_type": "code",
   "execution_count": null,
   "metadata": {},
   "outputs": [],
   "source": [
    "# Test looping structure\n",
    "# https://stackoverflow.com/questions/53508805/simple-way-for-modifying-attributes-of-single-nodes-in-networkx-2-1?rq=3\n",
    "for t in range(SIMULATION_YEARS):\n",
    "    for node_id in range(num_world_locations):\n",
    "        carrying_cap = pre_world_node_attributes[node_id][\"carrying_capacity\"]\n",
    "        pop_size = pre_world_node_attributes[node_id][\"pop_size\"]\n",
    "\n",
    "        pre_world_node_attributes[node_id][\"pop_size\"] = swf.logistic_growth(\n",
    "            previous_pop=pop_size,\n",
    "            r=0.05,\n",
    "            carrying_cap=carrying_cap\n",
    "        )\n",
    "        \n",
    "        \n",
    "# Set our node attributes.\n",
    "nx.set_node_attributes(pre_world, pre_world_node_attributes)"
   ]
  },
  {
   "cell_type": "code",
   "execution_count": null,
   "metadata": {},
   "outputs": [],
   "source": [
    "pre_world_betweenness_centralities = nx.betweenness_centrality(\n",
    "    G=pre_world,\n",
    "    weight=\"weight\"\n",
    ")\n",
    "\n",
    "pre_biomes_betweenness_centralities = nx.betweenness_centrality(\n",
    "    G=pre_biomes\n",
    ")\n",
    "\n",
    "# Get a node with a maximal betweenness centrality.\n",
    "# This node will hold our starting population.\n",
    "# https://stackoverflow.com/a/280156/8423001\n",
    "starting_node = max(\n",
    "    pre_world_betweenness_centralities, \n",
    "    key=pre_world_betweenness_centralities.get\n",
    ")\n",
    "\n",
    "starting_node_biome_id = max(\n",
    "    pre_biomes_betweenness_centralities, \n",
    "    key=pre_biomes_betweenness_centralities.get\n",
    ")\n",
    "\n",
    "starting_node_biome = BIOMES[starting_node_biome_id]"
   ]
  },
  {
   "cell_type": "code",
   "execution_count": null,
   "metadata": {},
   "outputs": [],
   "source": [
    "sorted(list(pre_biomes_betweenness_centralities.values()))"
   ]
  },
  {
   "cell_type": "code",
   "execution_count": null,
   "metadata": {},
   "outputs": [],
   "source": [
    "# https://stackoverflow.com/a/3071441/8423001\n",
    "(\n",
    "    stats.rankdata(\n",
    "        a=list(pre_biomes_betweenness_centralities.values()),\n",
    "        method=\"dense\"\n",
    "    )\n",
    "    # Because the ranks start at 1 but Python is 0-indexed,\n",
    "    # subtract 1.\n",
    "    - 1\n",
    ")"
   ]
  },
  {
   "cell_type": "code",
   "execution_count": null,
   "metadata": {},
   "outputs": [],
   "source": [
    "sum(np.array(list(pre_biomes_betweenness_centralities.values())) <= 0.01)"
   ]
  },
  {
   "cell_type": "code",
   "execution_count": null,
   "metadata": {},
   "outputs": [],
   "source": [
    "stats.rankdata(\n",
    "        a=[-2, 0, 3, 3, 3],\n",
    "        method=\"max\"\n",
    "    )"
   ]
  },
  {
   "cell_type": "code",
   "execution_count": null,
   "metadata": {},
   "outputs": [],
   "source": [
    "# def stochastic_func(\n",
    "#     x,\n",
    "#     b,\n",
    "#     corr\n",
    "# ):\n",
    "#     rng = np.random.default_rng()\n",
    "#     std_x = np.std(x)\n",
    "#     if std_x == 0:\n",
    "#         y = rng.choice(np.arange(b + 1))\n",
    "#     else:\n",
    "#         x_normalized = (x - np.mean(x))/np.std(x)\n",
    " \n",
    "#         y_normalized = corr * x_normalized\n",
    "#         std_ints = np.std(np.arange(b + 1))\n",
    "#         mean_ints = (1 + b)/2\n",
    "#         y = y_normalized * std_ints + mean_ints\n",
    "#     return y"
   ]
  },
  {
   "cell_type": "markdown",
   "metadata": {},
   "source": [
    "Copula Stuff"
   ]
  },
  {
   "cell_type": "code",
   "execution_count": null,
   "metadata": {},
   "outputs": [],
   "source": [
    "def gaussian_copula(*args, **kwargs):\n",
    "    \"\"\"Get the value of a Gaussian Copula.\"\"\"\n",
    "    # https://en.wikipedia.org/wiki/Copula_(probability_theory)#Gaussian_copula\n",
    "    # Arguments provided via position should be \n",
    "    # real numbers in [0, 1].  \n",
    "    # kwargs should contain a key=value combination\n",
    "    # where the key is cov.\n",
    "    #\n",
    "    # The multivariate_normal.cdf returns nan when the corresponding\n",
    "    # probability law is at least two dimensional and at least one of \n",
    "    # the values supplied to x is -inf.  However, we think that it is\n",
    "    # reasonable for it just to return 0 instead of nan.\n",
    "    x = stats.norm.ppf(q=args)\n",
    "    if (x == float(\"-inf\")).any():\n",
    "        cdf = 0\n",
    "    else:\n",
    "        cdf = stats.multivariate_normal.cdf(\n",
    "            x=stats.norm.ppf(q=args),\n",
    "            mean=np.zeros(shape=len(args)),\n",
    "            allow_singular=True,\n",
    "            **kwargs      \n",
    "        )\n",
    "\n",
    "    return cdf"
   ]
  },
  {
   "cell_type": "code",
   "execution_count": null,
   "metadata": {},
   "outputs": [],
   "source": [
    "def bivariate_discrete_copula_pmf(C, u:int, v:int, R:int, S:int, **kwargs) -> float:\n",
    "    \"\"\"Get the value of the probability mass function\n",
    "    at (u, v) using the copula function C.\n",
    "\n",
    "    source: https://doi.org/10.1515/demo-2020-0022\n",
    "    see: equation 7.1\n",
    "    \"\"\"\n",
    "    if (u < 0) or (u > (R - 1)):\n",
    "        raise ValueError(\"u must be in {0, 1, ..., R - 1}\")\n",
    "    if (v < 0) or (v > (S - 1)):\n",
    "        raise ValueError(\"v must be in {0, 1, ..., S - 1}\")\n",
    "\n",
    "    pmf = C((u + 1)/R, (v + 1)/S, **kwargs) \\\n",
    "        - C(u/R, (v + 1)/S, **kwargs) \\\n",
    "        - C((u + 1)/R, v/S, **kwargs) \\\n",
    "        + C(u/R, v/S, **kwargs)\n",
    "    \n",
    "    if (pmf < (0 - sys.float_info.epsilon)) or (pmf > (1 + sys.float_info.epsilon)):\n",
    "        raise RuntimeError(\"C appears to be an invalid copula.\")\n",
    "    \n",
    "    return pmf"
   ]
  },
  {
   "cell_type": "code",
   "execution_count": null,
   "metadata": {},
   "outputs": [],
   "source": [
    "def make_conditional_pmf(C, R:int, S:int, **kwargs):\n",
    "    \"\"\"Make conditional PMF array.  \n",
    "    \n",
    "    For all u in {0, 1, ..., R - 1},\n",
    "    determine the conditional distribution:\n",
    "    P(V=v|U=u).\n",
    "    Save this as a two-dimensional array\n",
    "    where the (i, j) entry in the array\n",
    "    represents P(V=j|U=i).\n",
    "\n",
    "    Args:\n",
    "        C: function. This is the function for a copula.\n",
    "\n",
    "        **kwargs: additional name=value pairs that can\n",
    "            be passed to C.\n",
    "  \n",
    "    Returns:\n",
    "        numpy.ndarray.    \n",
    "    \"\"\"\n",
    "    \n",
    "    conditional_pmf_array = np.empty(shape=(R, S))\n",
    "    for u in range(R):\n",
    "        for v in range(S):\n",
    "            # Save a preliminary value.\n",
    "            conditional_pmf_array[u, v] = bivariate_discrete_copula_pmf(\n",
    "                C=gaussian_copula, \n",
    "                u=u, \n",
    "                v=v, \n",
    "                R=R, \n",
    "                S=S, \n",
    "                **kwargs\n",
    "            )\n",
    "        # Now, after getting part of the array filled out,\n",
    "        # do some rescaling to make sure we are\n",
    "        # constructing a valid probability distribution.\n",
    "        probs_as_ints = (conditional_pmf_array[u, :] * (2 ** (32 - 1))).astype(np.int32)\n",
    "        probs_as_probs = (probs_as_ints / probs_as_ints.sum())\n",
    "        conditional_pmf_array[u, :] = probs_as_probs\n",
    "\n",
    "    return conditional_pmf_array"
   ]
  },
  {
   "cell_type": "code",
   "execution_count": null,
   "metadata": {},
   "outputs": [],
   "source": [
    "num_biomes = len(BIOMES)\n",
    "corr = np.array([\n",
    "    [1, 0.9],\n",
    "    [0.9, 1]\n",
    "])\n",
    "\n",
    "conditional_pmf = make_conditional_pmf(\n",
    "    C=gaussian_copula,\n",
    "    R=NUM_WORLD_LOCATIONS,\n",
    "    S=num_biomes,\n",
    "    cov=corr\n",
    ")"
   ]
  },
  {
   "cell_type": "code",
   "execution_count": null,
   "metadata": {},
   "outputs": [],
   "source": [
    "def get_correlated_ranks(\n",
    "    conditional_pmf,\n",
    "    rng\n",
    "):\n",
    "    \"\"\"Given a bivariate conditional_pmf formatted\n",
    "    as an array, return 0-index-based ranks.\n",
    "\n",
    "    Args:\n",
    "        conditional_pmf: numpy.ndarray\n",
    "        rng: numpy.random._generator.Generator\n",
    "    \n",
    "    Returns:\n",
    "        numpy.ndarray. The order of the elements\n",
    "        in the 1-dimensional array is significant.\n",
    "    \"\"\"\n",
    "    conditional_pmf_shape = conditional_pmf.shape\n",
    "    num_x_ranks = conditional_pmf_shape[0]\n",
    "    num_y_ranks = conditional_pmf_shape[1]\n",
    "\n",
    "    if num_x_ranks < num_y_ranks:\n",
    "        raise NotImplementedError(\n",
    "\"num_y_ranks must be <= num_x_ranks\\n \\\n",
    "Please make sure that conditional_pmf has a \\\n",
    "number of rows greater than or equal to its \\\n",
    "number of columns.  Also, make sure that \\\n",
    "each row is a valid probability distribution.\"\n",
    "        )  \n",
    "      \n",
    "    y_ranks = np.empty(shape=num_x_ranks, dtype=int)\n",
    "    \n",
    "    # Before loop\n",
    "    is_surjective = False\n",
    "\n",
    "    # Repeatedly generate possible realizations of \n",
    "    # ranks for the Y random variable\n",
    "    # until surjectivity is achieved.\n",
    "    while is_surjective is False:\n",
    "        for x_rank in range(num_x_ranks):\n",
    "            # Choose y_ranks[x_rank] based on \n",
    "            # the conditional PMF for \n",
    "            # the current value of x_rank.\n",
    "            y_ranks[x_rank] = rng.choice(\n",
    "                # Choose from all of the possible\n",
    "                # Y ranks.\n",
    "                a=num_y_ranks, \n",
    "                # Weight the choice according to\n",
    "                # the conditional_pmf.\n",
    "                p=conditional_pmf[x_rank, :], \n",
    "                size=1,\n",
    "                replace=True,\n",
    "                shuffle=False\n",
    "            ).item()\n",
    "\n",
    "        # Test for surjectivity after building out y_ranks\n",
    "        is_surjective = bool(\n",
    "            np.isin(\n",
    "                element=np.arange(num_y_ranks), \n",
    "                test_elements=y_ranks\n",
    "            ).all()\n",
    "        )\n",
    "\n",
    "    return y_ranks"
   ]
  },
  {
   "cell_type": "code",
   "execution_count": null,
   "metadata": {},
   "outputs": [],
   "source": [
    "biome_indices_for_world_locations = get_correlated_ranks(\n",
    "    conditional_pmf=conditional_pmf,\n",
    "    rng=rng\n",
    ")\n",
    "\n",
    "biomes_for_world_locations = [BIOMES[b] for b in biome_indices_for_world_locations]"
   ]
  },
  {
   "cell_type": "code",
   "execution_count": null,
   "metadata": {},
   "outputs": [],
   "source": [
    "# https://realpython.com/iterate-through-dictionary-python/#iterating-through-dictionaries-comprehension-examples\n",
    "{n: {\"biome\": biomes_for_world_locations[n]} for n in range(NUM_WORLD_LOCATIONS)}"
   ]
  },
  {
   "cell_type": "code",
   "execution_count": null,
   "metadata": {},
   "outputs": [],
   "source": [
    "# We plan on assigning biomes to the nodes in our world.\n",
    "# But, we must consider that some biomes are more likely\n",
    "# to be connected.  Thus, we assign the biomes randomly\n",
    "# while taking account of the betweenness centralities.\n",
    "# With probability 0.5, we assign neighbors the same\n",
    "# biome, while with probability 0.5, we assign neighbors\n",
    "# a new biome of similar betweenness centrality.\n",
    "1.0 / NUM_WORLD_LOCATIONS\n",
    "sorted(pre_biomes_betweenness_centralities.values())\n",
    "# Given a value of the ECDF of pre_world_betweenness_centralities\n",
    "# generate an appropriately positioned random rank\n",
    "# within pre_biomes_betweenness_centralities.\n",
    "# First, rank the pre_world_betweenness_centralities.\n",
    "sorted(pre_world_betweenness_centralities.values())\n",
    "# Second, find the find the value of the ECDF for each rank."
   ]
  },
  {
   "cell_type": "code",
   "execution_count": null,
   "metadata": {},
   "outputs": [],
   "source": [
    "np.quantile(\n",
    "    a=list(pre_world_betweenness_centralities.values()),\n",
    "    q=0.5\n",
    ")"
   ]
  },
  {
   "cell_type": "code",
   "execution_count": null,
   "metadata": {},
   "outputs": [],
   "source": [
    "for id in pre_biomes.neighbors(starting_node_biome_id):\n",
    "    print(id)"
   ]
  },
  {
   "cell_type": "code",
   "execution_count": null,
   "metadata": {},
   "outputs": [],
   "source": [
    "# Loop through nodes and set initial parameters.\n",
    "for node in nx.nodes(G=pre_world):\n",
    "    nx.set_node_attributes(\n",
    "        G=pre_world, \n",
    "        # https://realpython.com/iterate-through-dictionary-python/#iterating-through-dictionaries-comprehension-examples\n",
    "        values={n: {\"biome\": biomes_for_world_locations[n]} for n in range(NUM_WORLD_LOCATIONS)}\n",
    "        # {\n",
    "        #     node: {\"carrying_capacity\": 1000000},\n",
    "        # }\n",
    "    )"
   ]
  },
  {
   "cell_type": "code",
   "execution_count": null,
   "metadata": {},
   "outputs": [],
   "source": [
    "# https://github.com/WestHealth/pyvis/issues/48\n",
    "world_layout = nx.spring_layout(G=pre_world, iterations=1, threshold=0.01)"
   ]
  },
  {
   "cell_type": "code",
   "execution_count": null,
   "metadata": {},
   "outputs": [],
   "source": [
    "world.from_nx(nx_graph=pre_world, show_edge_weights=True)\n",
    "for node in world.nodes:\n",
    "    node[\"x\"] = world_layout[node[\"id\"]][0] * 1000\n",
    "    node[\"y\"] = world_layout[node[\"id\"]][1] * 1000\n",
    "world.toggle_physics(False)\n",
    "world.show(\"fast_world.html\")"
   ]
  },
  {
   "cell_type": "code",
   "execution_count": null,
   "metadata": {},
   "outputs": [],
   "source": [
    "world.from_nx(nx_graph=pre_world, show_edge_weights=True)\n",
    "world.show(\"world.html\")"
   ]
  },
  {
   "cell_type": "markdown",
   "metadata": {},
   "source": []
  }
 ],
 "metadata": {
  "kernelspec": {
   "display_name": "doe_group_project",
   "language": "python",
   "name": "python3"
  },
  "language_info": {
   "codemirror_mode": {
    "name": "ipython",
    "version": 3
   },
   "file_extension": ".py",
   "mimetype": "text/x-python",
   "name": "python",
   "nbconvert_exporter": "python",
   "pygments_lexer": "ipython3",
   "version": "3.11.6"
  }
 },
 "nbformat": 4,
 "nbformat_minor": 2
}
