{
 "cells": [
  {
   "cell_type": "code",
   "execution_count": 4,
   "metadata": {},
   "outputs": [],
   "source": [
    "import numpyro\n",
    "from numpyro.distributions import constraints"
   ]
  },
  {
   "cell_type": "code",
   "execution_count": null,
   "metadata": {},
   "outputs": [],
   "source": [
    "# https://forum.pyro.ai/t/creating-a-custom-distribution-in-numpyro/3332\n",
    "class CustomDistribution(numpyro.Distribution):\n",
    "    support = constraints.positive\n",
    "    def __init__(self, L):\n",
    "        self.L = L\n",
    "        super().__init__(batch_shape=jnp.shape(L), event_shape=())\n",
    "\n",
    "    def sample(self, key, sample_shape=()):\n",
    "        raise NotImplementedError\n",
    "\n",
    "    def log_prob(self, value):\n",
    "        return bailerjones_lpdf(self.L).lpdf(value)"
   ]
  }
 ],
 "metadata": {
  "kernelspec": {
   "display_name": "doe_group_project",
   "language": "python",
   "name": "python3"
  },
  "language_info": {
   "codemirror_mode": {
    "name": "ipython",
    "version": 3
   },
   "file_extension": ".py",
   "mimetype": "text/x-python",
   "name": "python",
   "nbconvert_exporter": "python",
   "pygments_lexer": "ipython3",
   "version": "3.11.6"
  }
 },
 "nbformat": 4,
 "nbformat_minor": 2
}
