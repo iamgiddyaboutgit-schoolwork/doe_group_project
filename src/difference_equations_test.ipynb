{
 "cells": [
  {
   "cell_type": "code",
   "execution_count": 7,
   "metadata": {},
   "outputs": [],
   "source": [
    "import numpy as np\n",
    "from scipy import stats"
   ]
  },
  {
   "cell_type": "code",
   "execution_count": 6,
   "metadata": {},
   "outputs": [],
   "source": [
    "NUM_WORLD_LOCATIONS = 100\n",
    "SIMULATION_YEARS = 10000\n",
    "INITIAL_POP = 100"
   ]
  },
  {
   "cell_type": "code",
   "execution_count": 8,
   "metadata": {},
   "outputs": [],
   "source": [
    "rng = np.random.default_rng()"
   ]
  },
  {
   "cell_type": "code",
   "execution_count": 2,
   "metadata": {},
   "outputs": [],
   "source": [
    "def push_1(t):\n",
    "    return 0.7"
   ]
  },
  {
   "cell_type": "code",
   "execution_count": 32,
   "metadata": {},
   "outputs": [
    {
     "data": {
      "text/plain": [
       "0.9810164192954853"
      ]
     },
     "execution_count": 32,
     "metadata": {},
     "output_type": "execute_result"
    }
   ],
   "source": [
    "temp = 0.01\n",
    "np.exp(-0.01/temp) / (np.exp(-0.1/temp) + np.exp(-0.05/temp) + np.exp(-0.08/temp) + np.exp(-0.01/temp))"
   ]
  },
  {
   "cell_type": "code",
   "execution_count": 3,
   "metadata": {},
   "outputs": [],
   "source": [
    "def pull_2(t):\n",
    "    return 0.3"
   ]
  },
  {
   "cell_type": "code",
   "execution_count": 4,
   "metadata": {},
   "outputs": [],
   "source": [
    "def stay_1(t):\n",
    "    return 0.5 * t"
   ]
  },
  {
   "cell_type": "code",
   "execution_count": 7,
   "metadata": {},
   "outputs": [],
   "source": [
    "def x(a_1_2_1, a_1_2_2, a_1_2_3, a_1_2_4, a_1_2_5, a_1_2_6, x_0, x_1, x_2, push_1_t, pull_2_t, stay_1_t, t):\n",
    "    if t == 0:\n",
    "        x = x_0\n",
    "        return x\n",
    "    elif t == 1:\n",
    "        x = x_1\n",
    "        return x\n",
    "    elif t == 2:\n",
    "        x = x_2\n",
    "        return x\n",
    "    \n",
    "    x = (a_1_2_3 * (a_1_2_1 * x_t(a_1_2_1, a_1_2_2, a_1_2_3, a_1_2_4, a_1_2_5, a_1_2_6, x_0, x_1, x_2, push_1_t, pull_2_t, stay_1_t, t - 1) \\\n",
    "                      + a_1_2_2 * x_t(a_1_2_1, a_1_2_2, a_1_2_3, a_1_2_4, a_1_2_5, a_1_2_6, x_0, x_1, x_2, push_1_t, pull_2_t, stay_1_t, t - 2)) + \\\n",
    "                      (1 - a_1_2_3) * (a_1_2_4 * push_1_t(t) + a_1_2_5 * pull_2_t(t))**2) / (a_1_2_6 * stay_1_t(t)**2)\n",
    "    \n",
    "    return x"
   ]
  },
  {
   "cell_type": "code",
   "execution_count": 15,
   "metadata": {},
   "outputs": [
    {
     "name": "stdout",
     "output_type": "stream",
     "text": [
      "0\n",
      "10\n",
      "30\n",
      "340864.97222222225\n",
      "204987.48307291666\n",
      "140262.6333810764\n",
      "93103.34605857567\n",
      "67611.68148826547\n",
      "51198.62667460585\n",
      "39442.18396906444\n",
      "30736.802646514043\n",
      "24809.958974826033\n",
      "21030.696332483567\n",
      "18600.38598357508\n",
      "16434.72441744982\n",
      "14100.811907985168\n",
      "11796.524739642338\n",
      "10003.081160770647\n",
      "9000.317393858704\n",
      "8524.940634920124\n",
      "8111.507557175122\n",
      "7327.099368033563\n",
      "6276.29717372562\n",
      "5367.630571357897\n",
      "4888.7621876775065\n",
      "4794.794323539386\n",
      "4789.487955518242\n",
      "4527.842469533852\n",
      "3961.4609308771282\n",
      "3358.9312582255548\n",
      "3024.871843749496\n",
      "3007.8354163798517\n",
      "3127.172605865268\n",
      "3088.5302707720653\n",
      "2767.138901651336\n",
      "2337.105415875111\n",
      "2046.025438243486\n",
      "2021.7515518586981\n",
      "2164.7169938380453\n",
      "2239.201537999498\n",
      "2072.652573842086\n",
      "1744.8101968877936\n",
      "1480.5024150915579\n",
      "1427.0456663105497\n",
      "1549.0246831946408\n",
      "1681.367439100596\n",
      "1624.016564396276\n",
      "1378.9857989417826\n",
      "1137.4054930180566\n"
     ]
    }
   ],
   "source": [
    "t = 0\n",
    "while t <= 48:\n",
    "    x = x_t(\n",
    "        a_1_2_1=3, \n",
    "        a_1_2_2=4, \n",
    "        a_1_2_3=0.5, \n",
    "        a_1_2_4=6, \n",
    "        a_1_2_5=7, \n",
    "        a_1_2_6=8, \n",
    "        x_0=0, \n",
    "        x_1=10, \n",
    "        x_2=30, \n",
    "        push_1_t=push_1_t, \n",
    "        pull_2_t=pull_2_t, \n",
    "        stay_1_t=stay_1_t, \n",
    "        t=t)\n",
    "    print(x)\n",
    "    t += 1\n",
    "\n"
   ]
  },
  {
   "cell_type": "markdown",
   "metadata": {},
   "source": [
    "# New Try"
   ]
  },
  {
   "cell_type": "code",
   "execution_count": 18,
   "metadata": {},
   "outputs": [],
   "source": [
    "x = np.zeros(shape=SIMULATION_YEARS, dtype=np.int64)"
   ]
  },
  {
   "cell_type": "code",
   "execution_count": 21,
   "metadata": {},
   "outputs": [],
   "source": [
    "# https://www.khanacademy.org/computing/computer-science/algorithms/recursive-algorithms/a/improving-efficiency-of-recursive-functions\n",
    "x[0] = INITIAL_POP\n",
    "# Just pretend that x[-1] = x[0]\n",
    "# https://stackoverflow.com/questions/51734416/cannot-cast-array-data-from-dtypefloat64-to-dtypeint32-according-to-the\n",
    "# * stats.binom.rvs(n=x[0], p=0.5).astype(\"float64\")\n",
    "x[1] = max(0, round(1.4 * x[0] + rng.choice(a=np.array([-1, 1])) * stats.binom.rvs(n=x[0], p=0.5)))"
   ]
  },
  {
   "cell_type": "code",
   "execution_count": 22,
   "metadata": {},
   "outputs": [
    {
     "data": {
      "text/plain": [
       "192"
      ]
     },
     "execution_count": 22,
     "metadata": {},
     "output_type": "execute_result"
    }
   ],
   "source": [
    "def get_pop(t, x):\n",
    "    \"\"\"Get the population size at time t.\n",
    "    \n",
    "    See: https://www.khanacademy.org/computing/computer-science/algorithms/recursive-algorithms/a/improving-efficiency-of-recursive-functions\n",
    "    \"\"\"\n",
    "    if t > 1:\n",
    "        for update_needed in range(t - 1):\n",
    "            x[the_time] = max(0, 0.1 * x[the_time - 1] + 1.3 * x[the_time - 2] + rng.choice(a=np.array([-1, 1])) * stats.binom.rvs(n=x[the_time - 2], p=0.5))\n",
    "            \n",
    "    elif t == 1:\n",
    "        return x[1]\n",
    "    else:\n",
    "        # t == 0\n",
    "        return x[0]\n",
    "  \n"
   ]
  },
  {
   "cell_type": "code",
   "execution_count": 20,
   "metadata": {},
   "outputs": [
    {
     "data": {
      "text/plain": [
       "int"
      ]
     },
     "execution_count": 20,
     "metadata": {},
     "output_type": "execute_result"
    }
   ],
   "source": [
    "type(stats.binom.rvs(n=x[0], p=0.5))"
   ]
  }
 ],
 "metadata": {
  "kernelspec": {
   "display_name": "doe_group_project",
   "language": "python",
   "name": "python3"
  },
  "language_info": {
   "codemirror_mode": {
    "name": "ipython",
    "version": 3
   },
   "file_extension": ".py",
   "mimetype": "text/x-python",
   "name": "python",
   "nbconvert_exporter": "python",
   "pygments_lexer": "ipython3",
   "version": "3.11.6"
  }
 },
 "nbformat": 4,
 "nbformat_minor": 2
}
