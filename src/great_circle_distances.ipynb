{
 "cells": [
  {
   "cell_type": "code",
   "execution_count": 1,
   "metadata": {},
   "outputs": [],
   "source": [
    "import numpy as np\n",
    "from scipy import stats"
   ]
  },
  {
   "cell_type": "code",
   "execution_count": 7,
   "metadata": {},
   "outputs": [],
   "source": [
    "# https://math.stackexchange.com/q/444700/593484\n",
    "# See alternative method 1: https://corysimon.github.io/articles/uniformdistn-on-sphere/\n",
    "NUM_WORLD_LOCATIONS = 37067\n",
    "# in miles:\n",
    "MEAN_RADIUS_OF_EARTH = 3958.7613\n",
    "\n",
    "vecs_on_sphere = np.empty(shape=(3, NUM_WORLD_LOCATIONS))\n",
    "# Loop as many times as we want to get a vector\n",
    "# on the unit-sphere.\n",
    "for i in range(NUM_WORLD_LOCATIONS):\n",
    "    # Try to get a vector long enough so\n",
    "    # that it is easy to rescale it\n",
    "    # to land on the unit-sphere.\n",
    "    \n",
    "    # Before loop\n",
    "    norm_of_v = 0\n",
    "    while (norm_of_v < 0.0001):\n",
    "        # We have to try getting more numerically\n",
    "        # stable random normal deviates.\n",
    "        x = stats.norm.rvs(size=1).item()\n",
    "        y = stats.norm.rvs(size=1).item()\n",
    "        z = stats.norm.rvs(size=1).item()\n",
    "        \n",
    "        norm_of_v = np.sqrt(x**2 + y**2 + z**2)\n",
    "\n",
    "    # We found a long enough vector that can now\n",
    "    # be stretched so that it lands on the unit-sphere\n",
    "    # without any numerical problems.\n",
    "    vecs_on_sphere[0, i] = x / norm_of_v\n",
    "    vecs_on_sphere[1, i] = y / norm_of_v\n",
    "    vecs_on_sphere[2, i] = z / norm_of_v\n",
    "    \n"
   ]
  },
  {
   "cell_type": "code",
   "execution_count": 8,
   "metadata": {},
   "outputs": [],
   "source": [
    "# https://en.m.wikipedia.org/wiki/Great-circle_distance\n",
    "# Before loop:\n",
    "# Fix a point on the unit-sphere.\n",
    "fixed_point = vecs_on_sphere[:, 0]\n",
    "\n",
    "delta_sigma = np.empty(shape=vecs_on_sphere.shape[1] - 1)\n",
    "# Get a vector of greatest-circle\n",
    "# distances to the other points.\n",
    "for j in range(1, vecs_on_sphere.shape[1]):\n",
    "    delta_sigma[j - 1] = np.arctan2(\n",
    "        np.linalg.norm(np.cross(fixed_point, vecs_on_sphere[:, j]), ord=2),\n",
    "        np.dot(fixed_point, vecs_on_sphere[:, j])\n",
    "    )"
   ]
  },
  {
   "cell_type": "code",
   "execution_count": 9,
   "metadata": {},
   "outputs": [],
   "source": [
    "# Now, scale to the size of the Earth.\n",
    "distances = MEAN_RADIUS_OF_EARTH * np.abs(delta_sigma)"
   ]
  },
  {
   "cell_type": "code",
   "execution_count": 11,
   "metadata": {},
   "outputs": [],
   "source": [
    "distances.sort()\n",
    "delta_sigma.sort()"
   ]
  },
  {
   "cell_type": "code",
   "execution_count": 12,
   "metadata": {},
   "outputs": [
    {
     "data": {
      "text/plain": [
       "array([12290.86136627, 12307.2787999 , 12311.68616744, 12314.81963336,\n",
       "       12316.77920186, 12322.82925048, 12338.33403214, 12371.92356364,\n",
       "       12387.32573402])"
      ]
     },
     "execution_count": 12,
     "metadata": {},
     "output_type": "execute_result"
    }
   ],
   "source": [
    "distances[NUM_WORLD_LOCATIONS - 10: ]"
   ]
  }
 ],
 "metadata": {
  "kernelspec": {
   "display_name": "doe_group_project",
   "language": "python",
   "name": "python3"
  },
  "language_info": {
   "codemirror_mode": {
    "name": "ipython",
    "version": 3
   },
   "file_extension": ".py",
   "mimetype": "text/x-python",
   "name": "python",
   "nbconvert_exporter": "python",
   "pygments_lexer": "ipython3",
   "version": "3.11.6"
  }
 },
 "nbformat": 4,
 "nbformat_minor": 2
}
