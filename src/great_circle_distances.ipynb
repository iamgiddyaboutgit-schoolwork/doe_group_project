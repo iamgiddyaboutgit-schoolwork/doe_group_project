{
 "cells": [
  {
   "cell_type": "code",
   "execution_count": 181,
   "metadata": {},
   "outputs": [],
   "source": [
    "from pathlib import Path\n",
    "\n",
    "import numpy as np\n",
    "import pandas as pd\n",
    "from scipy import stats\n",
    "from shapely.geometry import Point\n",
    "import geopandas\n",
    "import matplotlib.pyplot as plt"
   ]
  },
  {
   "cell_type": "code",
   "execution_count": 182,
   "metadata": {},
   "outputs": [
    {
     "name": "stdout",
     "output_type": "stream",
     "text": [
      "DATA_PATH: ../data\n"
     ]
    }
   ],
   "source": [
    "# https://math.stackexchange.com/q/444700/593484\n",
    "# See alternative method 1: https://corysimon.github.io/articles/uniformdistn-on-sphere/\n",
    "# NUM_WORLD_LOCATIONS = 37067\n",
    "NUM_WORLD_LOCATIONS = 1200\n",
    "# in miles:\n",
    "MEAN_RADIUS_OF_EARTH = 3958.7613\n",
    "DATA_PATH = Path(\"../data/\")\n",
    "print(f\"DATA_PATH: {DATA_PATH}\")\n"
   ]
  },
  {
   "cell_type": "code",
   "execution_count": 183,
   "metadata": {},
   "outputs": [],
   "source": [
    "def get_uniformly_distributed_points_on_sphere(n:int):\n",
    "    \"\"\"The points are returned with respect to the\n",
    "    standard basis for R^3 as an numpy.ndarray.\n",
    "    x, y, and z-coordinates are in the 0, 1, and 2 columns,\n",
    "    respectively. \n",
    "    Each row represents a different point.\n",
    "\n",
    "    References:\n",
    "    https://math.stackexchange.com/q/444700/593484\n",
    "    See alternative method 1: https://corysimon.github.io/articles/uniformdistn-on-sphere/\n",
    "    https://gis.stackexchange.com/a/356502\n",
    "    \"\"\"\n",
    "    # The user desires n points.  However, it is hard to generate\n",
    "    # exactly n points in a numerically stable way.  Therefore,\n",
    "    # we try to generate int(n * n_safety) points.\n",
    "    vecs_on_sphere = np.empty(shape=(n, 3))\n",
    "    n_safety = 1.01\n",
    "    num_points_generated = 0\n",
    "\n",
    "    while num_points_generated < n:\n",
    "        # Generate int(n * n_safety) vectors.\n",
    "        # Store these vectors as columns in a matrix V\n",
    "        # for further manipulation.\n",
    "        # Only take those columns with a large enough norm.\n",
    "        V = stats.norm.rvs(size=(int(n * n_safety), 3))\n",
    "        norms_of_V_rows = np.linalg.norm(x=V, ord=2, axis=1, keepdims=False)\n",
    "        good_rows_of_V = norms_of_V_rows > 0.0001\n",
    "\n",
    "        # https://stackoverflow.com/a/49763264/8423001\n",
    "        num_points_generated = np.count_nonzero(good_rows_of_V)\n",
    "        if num_points_generated < n:\n",
    "            n_safety = n_safety + 0.01\n",
    "            # continue with next iteration of loop\n",
    "            continue\n",
    "        # We found the number of vectors required by n\n",
    "        # that meet our numerical requirement of being long enough.\n",
    "        # Save them.\n",
    "        vecs = V[good_rows_of_V, :][0:n, :] \n",
    "        norms_of_vecs = norms_of_V_rows[good_rows_of_V][0:n]\n",
    "        # https://stackoverflow.com/questions/19602187/numpy-divide-each-row-by-a-vector-element\n",
    "        vecs_on_sphere = vecs / norms_of_vecs.reshape(-1, 1)\n",
    "        # The vectors can now\n",
    "        # be stretched so that they land on the unit-sphere.\n",
    "        \n",
    "    return vecs_on_sphere\n",
    "\n",
    "    # np.apply_along_axis(\n",
    "    #     func1d=cartesian_to_gcs,\n",
    "    #     axis=0,\n",
    "    #     arr=vecs_on_sphere\n",
    "    # )\n",
    "\n",
    "def get_central_angle(n1, n2):\n",
    "    \"\"\"Given the so-called n-vectors n1 and n2,\n",
    "    find the central angle between them.\n",
    "    Returns the angle in radians.\n",
    "    \n",
    "    Args:\n",
    "        n1: numpy.ndarray\n",
    "        n2: numpy.ndarray\n",
    "\n",
    "    See: https://en.m.wikipedia.org/wiki/N-vector\n",
    "    \"\"\"\n",
    "    delta_sigma = np.arctan2(\n",
    "        np.linalg.norm(\n",
    "            np.abs(np.cross(n1, n2)), \n",
    "            ord=2\n",
    "        ),\n",
    "        np.dot(n1, n2)\n",
    "    ) \n",
    "\n",
    "    return delta_sigma\n",
    "\n",
    "def great_circle_dist(p, q, r):\n",
    "    \"\"\"Given points p and q represented\n",
    "    as n-vectors on a sphere\n",
    "    with radius r, find the great-circle\n",
    "    distance between them.\n",
    "\n",
    "    Args:\n",
    "        p: numpy.ndarray\n",
    "        q: numpy.ndarray\n",
    "\n",
    "    See: https://en.m.wikipedia.org/wiki/N-vector\n",
    "    \"\"\"\n",
    "    delta_sigma = get_central_angle(n1=p, n2=q)\n",
    "    d = r * np.abs(delta_sigma)\n",
    "\n",
    "    return d\n",
    "\n",
    "def great_circle_dist_matrix(vecs, r):\n",
    "    \"\"\"Given a set of n-vectors on a sphere of\n",
    "    radius r, construct the symmetric matrix \n",
    "    showing all of their\n",
    "    pair-wise great-circle distances.\n",
    "    For simplicity, garbage is returned along\n",
    "    the main diagonal and the lower triangular matrix.\n",
    "    Only refer to the upper triangular matrix of the\n",
    "    output.\n",
    "\n",
    "    Args:\n",
    "        vecs: numpy.ndarray. This should be a \n",
    "        matrix with each row representing an\n",
    "        n-vector. It should have 3 columns\n",
    "        for the x, y, and z coordinates of\n",
    "        each point.\n",
    "    Returns:\n",
    "        numpy.ndarray\n",
    "    \"\"\"\n",
    "    num_vecs = vecs.shape[0]\n",
    "    dist_mat = np.empty(shape=(num_vecs, num_vecs))\n",
    "\n",
    "    # Fill upper triangle.\n",
    "    for i in range(num_vecs):\n",
    "        for j in range(i + 1, num_vecs, 1):\n",
    "            # Get distance for ith row and jth col.\n",
    "            dist_mat[i, j] = great_circle_dist(p=vecs[i], q=vecs[j], r=r)\n",
    "\n",
    "    return dist_mat\n",
    "\n",
    "def to_lat_long(v):\n",
    "    \"\"\"Convert n-vectors to their two-dimensional\n",
    "    representation on a sphere.\n",
    "    \n",
    "    Converts to latitudes and longitudes.\n",
    "\n",
    "    Args:\n",
    "        v: numpy.ndarray.  This should be a matrix\n",
    "        with rows representing n-vectors and columns\n",
    "        representing x, y, and z coordinates.\n",
    "\n",
    "    Returns:\n",
    "        numpy.ndarray with two columns and the same\n",
    "        number of rows as v.  The 1st column is the\n",
    "        latitude and the 2nd col is the longitude.\n",
    "\n",
    "    See: https://en.m.wikipedia.org/wiki/N-vector\n",
    "    \"\"\"\n",
    "    n_x = v[:, 0]\n",
    "    n_y = v[:, 1]\n",
    "    n_z = v[:, 2]\n",
    "    latitude = np.arctan2(n_z, np.sqrt(n_x**2 + n_y**2)) * 180 / np.pi\n",
    "    longitude = np.arctan2(n_y, n_x) * 180 / np.pi\n",
    "\n",
    "    return np.column_stack((latitude, longitude))\n",
    "\n",
    "def to_n_vector(p):\n",
    "    \"\"\"Given a matrix p \n",
    "    where each row of p represents a point\n",
    "    in geocentric coordinates (such as in the WGS 84 CRS),\n",
    "    and where the 0th column is the latitude\n",
    "    and the 1st column is the longitude,\n",
    "    find the associated n-vector for each row of p.\n",
    "    Everything should be in degrees.\n",
    "\n",
    "    Args:\n",
    "        p: numpy.ndarray\n",
    "\n",
    "    Returns:\n",
    "        numpy.ndarray\n",
    "\n",
    "    See: \n",
    "    https://en.wikipedia.org/wiki/N-vector#Converting_latitude/longitude_to_n-vector\n",
    "    https://en.wikipedia.org/wiki/Geographic_coordinate_conversion#From_ECEF_to_geodetic_coordinates\n",
    "    \"\"\"\n",
    "    latitude = p[:, 0]\n",
    "    longitude = p[:, 1]\n",
    "\n",
    "    latitude_in_radians = latitude * np.pi / 180\n",
    "    longitude_in_radians = longitude * np.pi / 180\n",
    "    # trig functions are in radians\n",
    "    x = np.cos(latitude_in_radians) * np.cos(longitude_in_radians)\n",
    "    y = np.cos(latitude_in_radians) * np.sin(longitude_in_radians)\n",
    "    z = np.sin(latitude_in_radians)\n",
    "\n",
    "    return np.column_stack((x, y, z))\n",
    "\n"
   ]
  },
  {
   "cell_type": "markdown",
   "metadata": {},
   "source": [
    "# Test Functions"
   ]
  },
  {
   "cell_type": "code",
   "execution_count": 184,
   "metadata": {},
   "outputs": [
    {
     "data": {
      "text/plain": [
       "array([[-0.34210557, -0.60102518, -0.72231053],\n",
       "       [ 0.86328881, -0.50427111, -0.02104947],\n",
       "       [ 0.53034867,  0.32909314, -0.78129891],\n",
       "       [-0.49563744, -0.07549561, -0.86524213],\n",
       "       [ 0.85733416,  0.36379488, -0.36418598],\n",
       "       [-0.75759651, -0.48946284, -0.43182594],\n",
       "       [-0.48071551,  0.71122459,  0.51290562],\n",
       "       [-0.8705039 , -0.34681683, -0.34920058],\n",
       "       [ 0.75930271,  0.5595534 ,  0.33220384],\n",
       "       [-0.72699064,  0.68262821, -0.07418452]])"
      ]
     },
     "execution_count": 184,
     "metadata": {},
     "output_type": "execute_result"
    }
   ],
   "source": [
    "my_points = get_uniformly_distributed_points_on_sphere(10)\n",
    "my_points"
   ]
  },
  {
   "cell_type": "code",
   "execution_count": 185,
   "metadata": {},
   "outputs": [
    {
     "data": {
      "text/plain": [
       "array([[ -46.24557334, -119.64867899],\n",
       "       [  -1.20613508,  -30.29039408],\n",
       "       [ -51.37965706,   31.82052092],\n",
       "       [ -59.91036479, -171.33926486],\n",
       "       [ -21.35749532,   22.99309806],\n",
       "       [ -25.58349512, -147.13457871],\n",
       "       [  30.85756632,  124.05469468],\n",
       "       [ -20.43842694, -158.27720382],\n",
       "       [  19.40259416,   36.38763771],\n",
       "       [  -4.254368  ,  136.80257318]])"
      ]
     },
     "execution_count": 185,
     "metadata": {},
     "output_type": "execute_result"
    }
   ],
   "source": [
    "my_points_as_lat_long = to_lat_long(my_points)\n",
    "my_points_as_lat_long"
   ]
  },
  {
   "cell_type": "code",
   "execution_count": 186,
   "metadata": {},
   "outputs": [
    {
     "data": {
      "text/plain": [
       "array([[-0.34210557, -0.60102518, -0.72231053],\n",
       "       [ 0.86328881, -0.50427111, -0.02104947],\n",
       "       [ 0.53034867,  0.32909314, -0.78129891],\n",
       "       [-0.49563744, -0.07549561, -0.86524213],\n",
       "       [ 0.85733416,  0.36379488, -0.36418598],\n",
       "       [-0.75759651, -0.48946284, -0.43182594],\n",
       "       [-0.48071551,  0.71122459,  0.51290562],\n",
       "       [-0.8705039 , -0.34681683, -0.34920058],\n",
       "       [ 0.75930271,  0.5595534 ,  0.33220384],\n",
       "       [-0.72699064,  0.68262821, -0.07418452]])"
      ]
     },
     "execution_count": 186,
     "metadata": {},
     "output_type": "execute_result"
    }
   ],
   "source": [
    "my_points_as_n_vec = to_n_vector(my_points_as_lat_long)\n",
    "my_points_as_n_vec"
   ]
  },
  {
   "cell_type": "code",
   "execution_count": 187,
   "metadata": {},
   "outputs": [
    {
     "data": {
      "text/plain": [
       "1.5478463339106672"
      ]
     },
     "execution_count": 187,
     "metadata": {},
     "output_type": "execute_result"
    }
   ],
   "source": [
    "get_central_angle(my_points_as_n_vec[0, :], my_points_as_n_vec[1, :])"
   ]
  },
  {
   "cell_type": "code",
   "execution_count": 188,
   "metadata": {},
   "outputs": [
    {
     "data": {
      "text/plain": [
       "array([[0.00000000e+000, 6.12755417e+003, 5.48134271e+003,\n",
       "        2.27106828e+003, 7.21418437e+003, 2.07877637e+003,\n",
       "        8.93431470e+003, 2.80999609e+003, 1.01375506e+004,\n",
       "        6.64672949e+003],\n",
       "       [4.94065646e-323, 5.43472210e-323, 4.97755280e+003,\n",
       "        7.72561331e+003, 3.84459363e+003, 7.83935730e+003,\n",
       "        9.78840710e+003, 8.61583644e+003, 4.73359282e+003,\n",
       "        1.14691034e+004],\n",
       "       [9.88131292e-323, 1.03753786e-322, 1.08694442e-322,\n",
       "        4.63967860e+003, 2.12818055e+003, 7.11878770e+003,\n",
       "        7.94138521e+003, 7.43696771e+003, 4.89842189e+003,\n",
       "        6.62668547e+003],\n",
       "       [1.48219694e-322, 1.53160350e-322, 1.58101007e-322,\n",
       "        1.63041663e-322, 6.76359914e+003, 2.63794332e+003,\n",
       "        7.25645762e+003, 2.80209374e+003, 9.32152866e+003,\n",
       "        4.70531247e+003],\n",
       "       [1.97626258e-322, 2.02566915e-322, 2.07507571e-322,\n",
       "        2.12448228e-322, 2.17388884e-322, 9.12663175e+003,\n",
       "        7.59255610e+003, 9.54771851e+003, 2.95821804e+003,\n",
       "        7.62516103e+003],\n",
       "       [2.47032823e-322, 2.51973479e-322, 2.56914136e-322,\n",
       "        2.61854792e-322, 2.66795449e-322, 2.71736105e-322,\n",
       "        7.03742917e+003, 7.92310689e+002, 1.19542596e+004,\n",
       "        5.22350606e+003],\n",
       "       [2.96439388e-322, 3.01380044e-322, 3.06320700e-322,\n",
       "        3.11261357e-322, 3.16202013e-322, 3.21142670e-322,\n",
       "        3.26083326e-322, 6.24733415e+003, 5.40774468e+003,\n",
       "        2.56766759e+003],\n",
       "       [3.45845952e-322, 3.50786609e-322, 3.55727265e-322,\n",
       "        3.60667921e-322, 3.65608578e-322, 3.70549234e-322,\n",
       "        3.75489891e-322, 3.80430547e-322, 1.14818337e+004,\n",
       "        4.49374397e+003],\n",
       "       [3.95252517e-322, 4.00193173e-322, 4.05133830e-322,\n",
       "        4.10074486e-322, 4.15015143e-322, 4.19955799e-322,\n",
       "        4.24896455e-322, 4.29837112e-322, 4.34777768e-322,\n",
       "        6.99406630e+003],\n",
       "       [4.44659081e-322, 4.49599738e-322, 4.54540394e-322,\n",
       "        4.59481051e-322, 4.64421707e-322, 4.69362364e-322,\n",
       "        4.74303020e-322, 4.79243676e-322, 4.84184333e-322,\n",
       "        4.89124989e-322]])"
      ]
     },
     "execution_count": 188,
     "metadata": {},
     "output_type": "execute_result"
    }
   ],
   "source": [
    "great_circle_dist_matrix(my_points_as_n_vec, MEAN_RADIUS_OF_EARTH)"
   ]
  },
  {
   "cell_type": "markdown",
   "metadata": {},
   "source": [
    "# Get and Plot World Locations"
   ]
  },
  {
   "cell_type": "code",
   "execution_count": 8,
   "metadata": {},
   "outputs": [],
   "source": [
    "# https://ecoregions.appspot.com/\n",
    "ecoregions_2017 = geopandas.read_file(filename=Path(DATA_PATH, \"raw_data\", \"Ecoregions2017\"))"
   ]
  },
  {
   "cell_type": "code",
   "execution_count": null,
   "metadata": {},
   "outputs": [
    {
     "data": {
      "text/plain": [
       "geopandas.geodataframe.GeoDataFrame"
      ]
     },
     "execution_count": 105,
     "metadata": {},
     "output_type": "execute_result"
    }
   ],
   "source": [
    "type(ecoregions_2017)"
   ]
  },
  {
   "cell_type": "code",
   "execution_count": 9,
   "metadata": {},
   "outputs": [
    {
     "data": {
      "text/plain": [
       "<Geographic 2D CRS: EPSG:4326>\n",
       "Name: WGS 84\n",
       "Axis Info [ellipsoidal]:\n",
       "- Lat[north]: Geodetic latitude (degree)\n",
       "- Lon[east]: Geodetic longitude (degree)\n",
       "Area of Use:\n",
       "- name: World.\n",
       "- bounds: (-180.0, -90.0, 180.0, 90.0)\n",
       "Datum: World Geodetic System 1984 ensemble\n",
       "- Ellipsoid: WGS 84\n",
       "- Prime Meridian: Greenwich"
      ]
     },
     "execution_count": 9,
     "metadata": {},
     "output_type": "execute_result"
    }
   ],
   "source": [
    "ecoregions_2017.crs"
   ]
  },
  {
   "cell_type": "code",
   "execution_count": null,
   "metadata": {},
   "outputs": [
    {
     "data": {
      "text/plain": [
       "<Axes: >"
      ]
     },
     "execution_count": 103,
     "metadata": {},
     "output_type": "execute_result"
    },
    {
     "data": {
      "image/png": "[encoded data removed]",
      "text/plain": [
       "<Figure size 640x480 with 1 Axes>"
      ]
     },
     "metadata": {},
     "output_type": "display_data"
    }
   ],
   "source": [
    "ecoregions_2017.plot()"
   ]
  },
  {
   "cell_type": "code",
   "execution_count": null,
   "metadata": {},
   "outputs": [],
   "source": [
    "ecoregions_2017.drop(\n",
    "    columns=[\n",
    "        \"NNH\",\n",
    "        \"SHAPE_LENG\",\n",
    "        \"NNH_NAME\",\n",
    "        \"COLOR_BIO\",\n",
    "        \"COLOR_NNH\",\n",
    "        \"LICENSE\"\n",
    "    ],\n",
    "    inplace = True\n",
    ")"
   ]
  },
  {
   "cell_type": "code",
   "execution_count": 189,
   "metadata": {},
   "outputs": [
    {
     "data": {
      "text/plain": [
       "<bound method NDFrame.head of      OBJECTID                                           ECO_NAME  BIOME_NUM  \\\n",
       "0         1.0                                 Adelie Land tundra       11.0   \n",
       "1         2.0             Admiralty Islands lowland rain forests        1.0   \n",
       "2         3.0  Aegean and Western Turkey sclerophyllous and m...       12.0   \n",
       "3         4.0                       Afghan Mountains semi-desert       13.0   \n",
       "4         5.0                   Ahklun and Kilbuck Upland Tundra       11.0   \n",
       "..        ...                                                ...        ...   \n",
       "842     848.0                      Sulawesi lowland rain forests        1.0   \n",
       "843     212.0                       East African montane forests        1.0   \n",
       "844     224.0                                Eastern Arc forests        1.0   \n",
       "845      79.0                        Borneo montane rain forests        1.0   \n",
       "846     376.0                    Kinabalu montane alpine meadows       10.0   \n",
       "\n",
       "                                         BIOME_NAME        REALM ECO_BIOME_  \\\n",
       "0                                            Tundra   Antarctica       AN11   \n",
       "1    Tropical & Subtropical Moist Broadleaf Forests  Australasia       AU01   \n",
       "2          Mediterranean Forests, Woodlands & Scrub   Palearctic       PA12   \n",
       "3                        Deserts & Xeric Shrublands   Palearctic       PA13   \n",
       "4                                            Tundra     Nearctic       NE11   \n",
       "..                                              ...          ...        ...   \n",
       "842  Tropical & Subtropical Moist Broadleaf Forests  Australasia       AU01   \n",
       "843  Tropical & Subtropical Moist Broadleaf Forests   Afrotropic       AF01   \n",
       "844  Tropical & Subtropical Moist Broadleaf Forests   Afrotropic       AF01   \n",
       "845  Tropical & Subtropical Moist Broadleaf Forests  Indomalayan       IN01   \n",
       "846                 Montane Grasslands & Shrublands  Indomalayan       IN10   \n",
       "\n",
       "     ECO_ID  SHAPE_AREA    COLOR  \\\n",
       "0       117    0.038948  #63CFAB   \n",
       "1       135    0.170599  #70A800   \n",
       "2       785   13.844952  #FF7F7C   \n",
       "3       807    1.355536  #FA774D   \n",
       "4       404    8.196573  #4C82B6   \n",
       "..      ...         ...      ...   \n",
       "842     156    9.422097  #70A800   \n",
       "843       8    5.010930  #13ED00   \n",
       "844       9    0.890325  #267400   \n",
       "845     220    9.358407  #23DB01   \n",
       "846     313    0.352694  #C48832   \n",
       "\n",
       "                                      ecoregion_border  \\\n",
       "0    MULTIPOLYGON (((158.71410 -69.60657, 158.71264...   \n",
       "1    MULTIPOLYGON (((147.28819 -2.57589, 147.27150 ...   \n",
       "2    MULTIPOLYGON (((26.88659 35.32161, 26.88297 35...   \n",
       "3    MULTIPOLYGON (((65.48655 34.71401, 65.52872 34...   \n",
       "4    MULTIPOLYGON (((-160.26404 58.64097, -160.2673...   \n",
       "..                                                 ...   \n",
       "842  MULTIPOLYGON (((117.33111 -7.53306, 117.30525 ...   \n",
       "843  MULTIPOLYGON (((36.73750 -3.13000, 36.73750 -3...   \n",
       "844  MULTIPOLYGON (((36.38000 -8.96583, 36.38000 -8...   \n",
       "845  MULTIPOLYGON (((112.82394 -0.50660, 112.82298 ...   \n",
       "846  MULTIPOLYGON (((116.52616 6.11011, 116.52734 6...   \n",
       "\n",
       "             ecoregion_rep_point  \n",
       "0    POINT (149.78004 -68.39917)  \n",
       "1     POINT (146.93374 -2.10620)  \n",
       "2      POINT (22.23609 37.36933)  \n",
       "3      POINT (65.19977 34.56284)  \n",
       "4    POINT (-159.90268 60.04211)  \n",
       "..                           ...  \n",
       "842   POINT (124.82377 -1.83335)  \n",
       "843     POINT (33.72785 4.21125)  \n",
       "844    POINT (36.89917 -6.39917)  \n",
       "845    POINT (115.19245 2.45332)  \n",
       "846    POINT (116.58859 6.10447)  \n",
       "\n",
       "[847 rows x 11 columns]>"
      ]
     },
     "execution_count": 189,
     "metadata": {},
     "output_type": "execute_result"
    }
   ],
   "source": [
    "ecoregions_2017.head"
   ]
  },
  {
   "cell_type": "code",
   "execution_count": 190,
   "metadata": {},
   "outputs": [],
   "source": [
    "# https://geopandas.org/en/stable/docs/user_guide/data_structures.html\n",
    "ecoregions_2017 = ecoregions_2017.rename(columns={'geometry': 'ecoregion_border'}).set_geometry('ecoregion_border')"
   ]
  },
  {
   "cell_type": "code",
   "execution_count": 191,
   "metadata": {},
   "outputs": [],
   "source": [
    "# Find a representative point within each ecoregion.\n",
    "ecoregion_rep_points = ecoregions_2017.representative_point()"
   ]
  },
  {
   "cell_type": "code",
   "execution_count": 192,
   "metadata": {},
   "outputs": [
    {
     "data": {
      "text/plain": [
       "<bound method NDFrame.head of      OBJECTID                                           ECO_NAME  BIOME_NUM  \\\n",
       "0         1.0                                 Adelie Land tundra       11.0   \n",
       "1         2.0             Admiralty Islands lowland rain forests        1.0   \n",
       "2         3.0  Aegean and Western Turkey sclerophyllous and m...       12.0   \n",
       "3         4.0                       Afghan Mountains semi-desert       13.0   \n",
       "4         5.0                   Ahklun and Kilbuck Upland Tundra       11.0   \n",
       "..        ...                                                ...        ...   \n",
       "842     848.0                      Sulawesi lowland rain forests        1.0   \n",
       "843     212.0                       East African montane forests        1.0   \n",
       "844     224.0                                Eastern Arc forests        1.0   \n",
       "845      79.0                        Borneo montane rain forests        1.0   \n",
       "846     376.0                    Kinabalu montane alpine meadows       10.0   \n",
       "\n",
       "                                         BIOME_NAME        REALM ECO_BIOME_  \\\n",
       "0                                            Tundra   Antarctica       AN11   \n",
       "1    Tropical & Subtropical Moist Broadleaf Forests  Australasia       AU01   \n",
       "2          Mediterranean Forests, Woodlands & Scrub   Palearctic       PA12   \n",
       "3                        Deserts & Xeric Shrublands   Palearctic       PA13   \n",
       "4                                            Tundra     Nearctic       NE11   \n",
       "..                                              ...          ...        ...   \n",
       "842  Tropical & Subtropical Moist Broadleaf Forests  Australasia       AU01   \n",
       "843  Tropical & Subtropical Moist Broadleaf Forests   Afrotropic       AF01   \n",
       "844  Tropical & Subtropical Moist Broadleaf Forests   Afrotropic       AF01   \n",
       "845  Tropical & Subtropical Moist Broadleaf Forests  Indomalayan       IN01   \n",
       "846                 Montane Grasslands & Shrublands  Indomalayan       IN10   \n",
       "\n",
       "     ECO_ID  SHAPE_AREA    COLOR  \\\n",
       "0       117    0.038948  #63CFAB   \n",
       "1       135    0.170599  #70A800   \n",
       "2       785   13.844952  #FF7F7C   \n",
       "3       807    1.355536  #FA774D   \n",
       "4       404    8.196573  #4C82B6   \n",
       "..      ...         ...      ...   \n",
       "842     156    9.422097  #70A800   \n",
       "843       8    5.010930  #13ED00   \n",
       "844       9    0.890325  #267400   \n",
       "845     220    9.358407  #23DB01   \n",
       "846     313    0.352694  #C48832   \n",
       "\n",
       "                                      ecoregion_border  \\\n",
       "0    MULTIPOLYGON (((158.71410 -69.60657, 158.71264...   \n",
       "1    MULTIPOLYGON (((147.28819 -2.57589, 147.27150 ...   \n",
       "2    MULTIPOLYGON (((26.88659 35.32161, 26.88297 35...   \n",
       "3    MULTIPOLYGON (((65.48655 34.71401, 65.52872 34...   \n",
       "4    MULTIPOLYGON (((-160.26404 58.64097, -160.2673...   \n",
       "..                                                 ...   \n",
       "842  MULTIPOLYGON (((117.33111 -7.53306, 117.30525 ...   \n",
       "843  MULTIPOLYGON (((36.73750 -3.13000, 36.73750 -3...   \n",
       "844  MULTIPOLYGON (((36.38000 -8.96583, 36.38000 -8...   \n",
       "845  MULTIPOLYGON (((112.82394 -0.50660, 112.82298 ...   \n",
       "846  MULTIPOLYGON (((116.52616 6.11011, 116.52734 6...   \n",
       "\n",
       "             ecoregion_rep_point  \n",
       "0    POINT (149.78004 -68.39917)  \n",
       "1     POINT (146.93374 -2.10620)  \n",
       "2      POINT (22.23609 37.36933)  \n",
       "3      POINT (65.19977 34.56284)  \n",
       "4    POINT (-159.90268 60.04211)  \n",
       "..                           ...  \n",
       "842   POINT (124.82377 -1.83335)  \n",
       "843     POINT (33.72785 4.21125)  \n",
       "844    POINT (36.89917 -6.39917)  \n",
       "845    POINT (115.19245 2.45332)  \n",
       "846    POINT (116.58859 6.10447)  \n",
       "\n",
       "[847 rows x 11 columns]>"
      ]
     },
     "execution_count": 192,
     "metadata": {},
     "output_type": "execute_result"
    }
   ],
   "source": [
    "ecoregions_2017.head"
   ]
  },
  {
   "cell_type": "code",
   "execution_count": 193,
   "metadata": {},
   "outputs": [],
   "source": [
    "num_ecoregions = ecoregions_2017.shape[0]\n"
   ]
  },
  {
   "cell_type": "code",
   "execution_count": 194,
   "metadata": {},
   "outputs": [],
   "source": [
    "num_additional_spots_wanted = max(0, NUM_WORLD_LOCATIONS - num_ecoregions)\n",
    "# Get even more locations than we want because\n",
    "# some will land in the ocean.\n",
    "possible_additional_spots = get_uniformly_distributed_points_on_sphere(n=6*num_additional_spots_wanted)\n",
    "\n",
    "# Convert to geographic coordinate system\n",
    "possible_additional_spots_lat_long = to_lat_long(possible_additional_spots)\n",
    "\n",
    "# Important!\n",
    "# Point objects have longitude first and latitude second.\n",
    "# x represents longitude.\n",
    "# y represents latitude.\n",
    "possible_additional_spots_geom_array = geopandas.points_from_xy(x=possible_additional_spots_lat_long[:, 1], y=possible_additional_spots_lat_long[:, 0], crs=\"EPSG:4326\")\n",
    "# additional_spots_with_rep_points = pd.concat((additional_points_on_earth, ecoregion_rep_points))"
   ]
  },
  {
   "cell_type": "code",
   "execution_count": 195,
   "metadata": {},
   "outputs": [
    {
     "data": {
      "text/plain": [
       "353"
      ]
     },
     "execution_count": 195,
     "metadata": {},
     "output_type": "execute_result"
    }
   ],
   "source": [
    "num_additional_spots_wanted"
   ]
  },
  {
   "cell_type": "code",
   "execution_count": 196,
   "metadata": {},
   "outputs": [],
   "source": [
    "possible_additional_spots_geoseries = geopandas.GeoSeries(data=possible_additional_spots_geom_array, crs=\"EPSG:4326\")"
   ]
  },
  {
   "cell_type": "code",
   "execution_count": 197,
   "metadata": {},
   "outputs": [],
   "source": [
    "rep_and_additional_points = pd.concat((ecoregion_rep_points, possible_additional_spots_geoseries))"
   ]
  },
  {
   "cell_type": "code",
   "execution_count": 198,
   "metadata": {},
   "outputs": [],
   "source": [
    "rep_and_additional_points_gdf = geopandas.GeoDataFrame(geometry=rep_and_additional_points, crs=\"EPSG:4326\")\n",
    "# https://gis.stackexchange.com/a/393428/234035\n",
    "# Save the geometry for access after the join.\n",
    "rep_and_additional_points_gdf[\"extra_points_geom\"] = rep_and_additional_points"
   ]
  },
  {
   "cell_type": "code",
   "execution_count": 199,
   "metadata": {},
   "outputs": [
    {
     "data": {
      "text/plain": [
       "<Axes: >"
      ]
     },
     "execution_count": 199,
     "metadata": {},
     "output_type": "execute_result"
    },
    {
     "data": {
      "image/png": "[encoded data removed]",
      "text/plain": [
       "<Figure size 640x480 with 1 Axes>"
      ]
     },
     "metadata": {},
     "output_type": "display_data"
    }
   ],
   "source": [
    "rep_and_additional_points_gdf.plot()"
   ]
  },
  {
   "cell_type": "code",
   "execution_count": 214,
   "metadata": {},
   "outputs": [],
   "source": [
    "# https://geopandas.org/en/stable/gallery/spatial_joins.html\n",
    "# The advantage of doing it this way is that I have the points\n",
    "# and I have meta-information about them.\n",
    "ecoregions_2017_with_more_points = ecoregions_2017.sjoin(rep_and_additional_points_gdf, predicate=\"contains\", how=\"inner\")"
   ]
  },
  {
   "cell_type": "code",
   "execution_count": 215,
   "metadata": {},
   "outputs": [
    {
     "name": "stdout",
     "output_type": "stream",
     "text": [
      "The actual number of total world locations:  1461\n"
     ]
    }
   ],
   "source": [
    "print(f\"The actual number of total world locations: \", ecoregions_2017_with_more_points.shape[0])"
   ]
  },
  {
   "cell_type": "code",
   "execution_count": 119,
   "metadata": {},
   "outputs": [],
   "source": [
    "# https://www.linkedin.com/pulse/geopandas-plotting-data-points-map-using-python-r%C3%A9gis-nisengwe/\n",
    "# https://stackoverflow.com/questions/9622163/save-plot-to-image-file-instead-of-displaying-it\n",
    "fig, ax = plt.subplots(figsize=(8,8))\n",
    "\n",
    "# https://gis.stackexchange.com/questions/336437/colorizing-polygons-based-on-color-values-in-dataframe-column\n",
    "ecoregions_2017_with_more_points.set_geometry(\"ecoregion_border\", inplace = True)\n",
    "ecoregions_2017_with_more_points.plot(ax=ax, color=ecoregions_2017_with_more_points[\"COLOR\"])\n",
    "# Change active geometry for next plot.\n",
    "# https://matplotlib.org/stable/api/_as_gen/matplotlib.pyplot.scatter.html#matplotlib.pyplot.scatter\n",
    "ecoregions_2017_with_more_points.set_geometry(\"extra_points_geom\", inplace = True)\n",
    "ecoregions_2017_with_more_points.plot(ax=ax, color='Red', marker=\".\", markersize=3, linewidth=0)\n",
    "fig.savefig(fname=Path(DATA_PATH, \"world_locations.png\"), dpi=600)  \n",
    "plt.close(fig)    "
   ]
  },
  {
   "cell_type": "code",
   "execution_count": 216,
   "metadata": {},
   "outputs": [],
   "source": [
    "# First, change the other geometry to a WKT string.\n",
    "# https://gis.stackexchange.com/questions/378549/quick-way-to-get-wkt-from-a-geodataframes-geometries-in-geopandas\n",
    "ecoregions_2017_with_more_points.set_geometry(\"ecoregion_border\", inplace = True)\n",
    "ecoregions_2017_with_more_points['extra_points_geom'] = ecoregions_2017_with_more_points['extra_points_geom'].to_wkt()"
   ]
  },
  {
   "cell_type": "code",
   "execution_count": 217,
   "metadata": {},
   "outputs": [],
   "source": [
    "ecoregions_2017_with_more_points.drop(\n",
    "    columns=[\n",
    "        \"ECO_BIOME_\",\n",
    "        \"ECO_BIOME_\",\n",
    "        \"SHAPE_AREA\",\n",
    "        \"ecoregion_rep_point\"\n",
    "    ],\n",
    "    inplace = True\n",
    ")"
   ]
  },
  {
   "cell_type": "code",
   "execution_count": 219,
   "metadata": {},
   "outputs": [
    {
     "name": "stderr",
     "output_type": "stream",
     "text": [
      "/tmp/ipykernel_4046/3689165235.py:3: UserWarning: Column names longer than 10 characters will be truncated when saved to ESRI Shapefile.\n",
      "  ecoregions_2017_with_more_points.to_file(filename=str(Path(DATA_PATH, \"ecoregions_2017_with_more_points.shp\")), encoding='utf-8')\n"
     ]
    }
   ],
   "source": [
    "# Save the GeoDataFrame to a file.\n",
    "# An ESRI shapefile is written.\n",
    "ecoregions_2017_with_more_points.to_file(filename=str(Path(DATA_PATH, \"ecoregions_2017_with_more_points.shp\")), encoding='utf-8')  "
   ]
  },
  {
   "cell_type": "code",
   "execution_count": 222,
   "metadata": {},
   "outputs": [
    {
     "name": "stdout",
     "output_type": "stream",
     "text": [
      "Index(['OBJECTID', 'ECO_NAME', 'BIOME_NUM', 'BIOME_NAME', 'REALM', 'ECO_ID',\n",
      "       'COLOR', 'ecoregion_border', 'index_right', 'extra_points_geom'],\n",
      "      dtype='object')\n",
      "[8, 8, 9, 10, 5, 6, 5, 16, 11, 17]\n"
     ]
    }
   ],
   "source": [
    "print(ecoregions_2017_with_more_points.columns)\n",
    "print([len(i) for i in ecoregions_2017_with_more_points.columns])"
   ]
  },
  {
   "cell_type": "markdown",
   "metadata": {},
   "source": [
    "# Get Efficient Distance Matrix for World Locations"
   ]
  },
  {
   "cell_type": "code",
   "execution_count": 223,
   "metadata": {},
   "outputs": [],
   "source": [
    "rep_and_additional_points_longs_lats = rep_and_additional_points.get_coordinates().to_numpy()\n",
    "# We have to switch it around. Annoying.\n",
    "rep_and_additional_points_lats_longs = np.column_stack((\n",
    "    rep_and_additional_points_longs_lats[:, 1],\n",
    "    rep_and_additional_points_longs_lats[:, 0]\n",
    "))\n",
    "\n",
    "rep_and_additional_points_n_vector = to_n_vector(rep_and_additional_points_lats_longs)\n",
    "dist_matrix = great_circle_dist_matrix(rep_and_additional_points_n_vector, r=MEAN_RADIUS_OF_EARTH)"
   ]
  },
  {
   "cell_type": "code",
   "execution_count": 224,
   "metadata": {},
   "outputs": [],
   "source": [
    "dist_mat = dist_matrix.round(decimals=0)"
   ]
  },
  {
   "cell_type": "code",
   "execution_count": 225,
   "metadata": {},
   "outputs": [],
   "source": [
    "neg_indices = np.argwhere(dist_mat < 0)\n",
    "problem_indices = np.argwhere(neg_indices[:, 1] > neg_indices[:, 0])"
   ]
  },
  {
   "cell_type": "code",
   "execution_count": 226,
   "metadata": {},
   "outputs": [
    {
     "data": {
      "text/plain": [
       "array([], shape=(0, 1), dtype=int64)"
      ]
     },
     "execution_count": 226,
     "metadata": {},
     "output_type": "execute_result"
    }
   ],
   "source": [
    "problem_indices"
   ]
  },
  {
   "cell_type": "code",
   "execution_count": 227,
   "metadata": {},
   "outputs": [],
   "source": [
    "np.savetxt(fname=Path(DATA_PATH, \"dist_matrix.csv\"), X=dist_mat, delimiter=\",\")"
   ]
  }
 ],
 "metadata": {
  "kernelspec": {
   "display_name": "doe_group_project",
   "language": "python",
   "name": "python3"
  },
  "language_info": {
   "codemirror_mode": {
    "name": "ipython",
    "version": 3
   },
   "file_extension": ".py",
   "mimetype": "text/x-python",
   "name": "python",
   "nbconvert_exporter": "python",
   "pygments_lexer": "ipython3",
   "version": "3.11.6"
  }
 },
 "nbformat": 4,
 "nbformat_minor": 2
}
