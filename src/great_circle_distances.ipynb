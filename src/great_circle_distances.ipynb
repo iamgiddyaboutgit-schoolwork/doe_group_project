{
 "cells": [
  {
   "cell_type": "code",
   "execution_count": 23,
   "metadata": {},
   "outputs": [],
   "source": [
    "from pathlib import Path\n",
    "\n",
    "import numpy as np\n",
    "from scipy import stats\n",
    "import shapely\n",
    "import shapely.geometry\n",
    "from cartopy.io import shapereader"
   ]
  },
  {
   "cell_type": "code",
   "execution_count": 16,
   "metadata": {},
   "outputs": [],
   "source": [
    "# https://math.stackexchange.com/q/444700/593484\n",
    "# See alternative method 1: https://corysimon.github.io/articles/uniformdistn-on-sphere/\n",
    "NUM_WORLD_LOCATIONS = 37067\n",
    "# in miles:\n",
    "MEAN_RADIUS_OF_EARTH = 3958.7613\n",
    "DATA_PATH = Path(\"../data/\")\n"
   ]
  },
  {
   "cell_type": "code",
   "execution_count": null,
   "metadata": {},
   "outputs": [],
   "source": [
    "\n",
    "vecs_on_sphere = np.empty(shape=(3, NUM_WORLD_LOCATIONS))\n",
    "# Loop as many times as we want to get a vector\n",
    "# on the unit-sphere.\n",
    "for i in range(NUM_WORLD_LOCATIONS):\n",
    "    # Try to get a vector long enough so\n",
    "    # that it is easy to rescale it\n",
    "    # to land on the unit-sphere.\n",
    "    \n",
    "    # Before loop\n",
    "    norm_of_v = 0\n",
    "    while (norm_of_v < 0.0001):\n",
    "        # We have to try getting more numerically\n",
    "        # stable random normal deviates.\n",
    "        x = stats.norm.rvs(size=1).item()\n",
    "        y = stats.norm.rvs(size=1).item()\n",
    "        z = stats.norm.rvs(size=1).item()\n",
    "        \n",
    "        norm_of_v = np.sqrt(x**2 + y**2 + z**2)\n",
    "\n",
    "    # We found a long enough vector that can now\n",
    "    # be stretched so that it lands on the unit-sphere\n",
    "    # without any numerical problems.\n",
    "    vecs_on_sphere[0, i] = x / norm_of_v\n",
    "    vecs_on_sphere[1, i] = y / norm_of_v\n",
    "    vecs_on_sphere[2, i] = z / norm_of_v\n",
    "    \n"
   ]
  },
  {
   "cell_type": "code",
   "execution_count": 8,
   "metadata": {},
   "outputs": [],
   "source": [
    "# https://en.m.wikipedia.org/wiki/Great-circle_distance\n",
    "# Before loop:\n",
    "# Fix a point on the unit-sphere.\n",
    "fixed_point = vecs_on_sphere[:, 0]\n",
    "\n",
    "delta_sigma = np.empty(shape=vecs_on_sphere.shape[1] - 1)\n",
    "# Get a vector of greatest-circle\n",
    "# distances to the other points.\n",
    "for j in range(1, vecs_on_sphere.shape[1]):\n",
    "    delta_sigma[j - 1] = np.arctan2(\n",
    "        np.linalg.norm(np.cross(fixed_point, vecs_on_sphere[:, j]), ord=2),\n",
    "        np.dot(fixed_point, vecs_on_sphere[:, j])\n",
    "    )"
   ]
  },
  {
   "cell_type": "code",
   "execution_count": 9,
   "metadata": {},
   "outputs": [],
   "source": [
    "# Now, scale to the size of the Earth.\n",
    "distances = MEAN_RADIUS_OF_EARTH * np.abs(delta_sigma)"
   ]
  },
  {
   "cell_type": "code",
   "execution_count": 11,
   "metadata": {},
   "outputs": [],
   "source": [
    "distances.sort()\n",
    "delta_sigma.sort()"
   ]
  },
  {
   "cell_type": "code",
   "execution_count": 12,
   "metadata": {},
   "outputs": [
    {
     "data": {
      "text/plain": [
       "array([12290.86136627, 12307.2787999 , 12311.68616744, 12314.81963336,\n",
       "       12316.77920186, 12322.82925048, 12338.33403214, 12371.92356364,\n",
       "       12387.32573402])"
      ]
     },
     "execution_count": 12,
     "metadata": {},
     "output_type": "execute_result"
    }
   ],
   "source": [
    "distances[NUM_WORLD_LOCATIONS - 10: ]"
   ]
  },
  {
   "cell_type": "code",
   "execution_count": 20,
   "metadata": {},
   "outputs": [],
   "source": [
    "# https://github.com/SciTools/cartopy/issues/1325\n",
    "cartopy.config[\"data_dir\"] = Path(DATA_PATH, \"raw_data\")"
   ]
  },
  {
   "cell_type": "code",
   "execution_count": 21,
   "metadata": {},
   "outputs": [
    {
     "name": "stderr",
     "output_type": "stream",
     "text": [
      "/home/justin/bin/mambaforge/envs/doe_group_project/lib/python3.11/site-packages/cartopy/io/__init__.py:241: DownloadWarning: Downloading: https://naturalearth.s3.amazonaws.com/10m_physical/ne_10m_land.zip\n",
      "  warnings.warn(f'Downloading: {url}', DownloadWarning)\n"
     ]
    }
   ],
   "source": [
    "# https://datascience.stackexchange.com/questions/112104/sampling-from-earths-landmass\n",
    "natural_earth_data = shapereader.natural_earth(\n",
    "    resolution=\"10m\",\n",
    "    category=\"physical\",\n",
    "    name=\"land\"\n",
    ")"
   ]
  },
  {
   "cell_type": "code",
   "execution_count": 24,
   "metadata": {},
   "outputs": [
    {
     "name": "stdout",
     "output_type": "stream",
     "text": [
      "../data/raw_data/shapefiles/natural_earth/physical/ne_10m_land.shp\n"
     ]
    }
   ],
   "source": [
    "print(natural_earth_data)"
   ]
  },
  {
   "cell_type": "code",
   "execution_count": 37,
   "metadata": {},
   "outputs": [],
   "source": [
    "land_on_earth = shapely.union_all(\n",
    "    geometries=list(shapereader.Reader(natural_earth_data).geometries())\n",
    ")\n",
    "\n",
    "shapely.prepare(\n",
    "    geometry=land_on_earth\n",
    ")"
   ]
  },
  {
   "cell_type": "code",
   "execution_count": 39,
   "metadata": {},
   "outputs": [
    {
     "data": {
      "text/plain": [
       "['__and__',\n",
       " '__bool__',\n",
       " '__class__',\n",
       " '__delattr__',\n",
       " '__dir__',\n",
       " '__doc__',\n",
       " '__eq__',\n",
       " '__format__',\n",
       " '__ge__',\n",
       " '__geo_interface__',\n",
       " '__getattribute__',\n",
       " '__getstate__',\n",
       " '__gt__',\n",
       " '__hash__',\n",
       " '__init__',\n",
       " '__init_subclass__',\n",
       " '__le__',\n",
       " '__lt__',\n",
       " '__module__',\n",
       " '__ne__',\n",
       " '__new__',\n",
       " '__nonzero__',\n",
       " '__or__',\n",
       " '__reduce__',\n",
       " '__reduce_ex__',\n",
       " '__repr__',\n",
       " '__setattr__',\n",
       " '__setstate__',\n",
       " '__sizeof__',\n",
       " '__slots__',\n",
       " '__str__',\n",
       " '__sub__',\n",
       " '__subclasshook__',\n",
       " '__xor__',\n",
       " '_geom',\n",
       " '_geom_prepared',\n",
       " '_ndim',\n",
       " '_repr_svg_',\n",
       " 'almost_equals',\n",
       " 'area',\n",
       " 'boundary',\n",
       " 'bounds',\n",
       " 'buffer',\n",
       " 'centroid',\n",
       " 'contains',\n",
       " 'contains_properly',\n",
       " 'convex_hull',\n",
       " 'coords',\n",
       " 'covered_by',\n",
       " 'covers',\n",
       " 'crosses',\n",
       " 'difference',\n",
       " 'disjoint',\n",
       " 'distance',\n",
       " 'dwithin',\n",
       " 'envelope',\n",
       " 'equals',\n",
       " 'equals_exact',\n",
       " 'geom_type',\n",
       " 'geometryType',\n",
       " 'geoms',\n",
       " 'has_z',\n",
       " 'hausdorff_distance',\n",
       " 'interpolate',\n",
       " 'intersection',\n",
       " 'intersects',\n",
       " 'is_closed',\n",
       " 'is_empty',\n",
       " 'is_ring',\n",
       " 'is_simple',\n",
       " 'is_valid',\n",
       " 'length',\n",
       " 'line_interpolate_point',\n",
       " 'line_locate_point',\n",
       " 'minimum_clearance',\n",
       " 'minimum_rotated_rectangle',\n",
       " 'normalize',\n",
       " 'oriented_envelope',\n",
       " 'overlaps',\n",
       " 'point_on_surface',\n",
       " 'project',\n",
       " 'relate',\n",
       " 'relate_pattern',\n",
       " 'representative_point',\n",
       " 'reverse',\n",
       " 'segmentize',\n",
       " 'simplify',\n",
       " 'svg',\n",
       " 'symmetric_difference',\n",
       " 'touches',\n",
       " 'type',\n",
       " 'union',\n",
       " 'within',\n",
       " 'wkb',\n",
       " 'wkb_hex',\n",
       " 'wkt',\n",
       " 'xy']"
      ]
     },
     "execution_count": 39,
     "metadata": {},
     "output_type": "execute_result"
    }
   ],
   "source": [
    "dir(land_on_earth)"
   ]
  },
  {
   "cell_type": "code",
   "execution_count": 42,
   "metadata": {},
   "outputs": [
    {
     "data": {
      "text/plain": [
       "True"
      ]
     },
     "execution_count": 42,
     "metadata": {},
     "output_type": "execute_result"
    }
   ],
   "source": [
    "land_on_earth.contains(shapely.geometry.Point(31.144318, -78.837661))"
   ]
  }
 ],
 "metadata": {
  "kernelspec": {
   "display_name": "doe_group_project",
   "language": "python",
   "name": "python3"
  },
  "language_info": {
   "codemirror_mode": {
    "name": "ipython",
    "version": 3
   },
   "file_extension": ".py",
   "mimetype": "text/x-python",
   "name": "python",
   "nbconvert_exporter": "python",
   "pygments_lexer": "ipython3",
   "version": "3.11.6"
  }
 },
 "nbformat": 4,
 "nbformat_minor": 2
}
