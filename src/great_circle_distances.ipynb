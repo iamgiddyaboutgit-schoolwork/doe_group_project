{
 "cells": [
  {
   "cell_type": "code",
   "execution_count": 1,
   "metadata": {},
   "outputs": [],
   "source": [
    "from pathlib import Path\n",
    "\n",
    "import numpy as np\n",
    "from scipy import stats\n",
    "from shapely.geometry import Point\n",
    "import geopandas"
   ]
  },
  {
   "cell_type": "code",
   "execution_count": 2,
   "metadata": {},
   "outputs": [],
   "source": [
    "# https://math.stackexchange.com/q/444700/593484\n",
    "# See alternative method 1: https://corysimon.github.io/articles/uniformdistn-on-sphere/\n",
    "NUM_WORLD_LOCATIONS = 37067\n",
    "# in miles:\n",
    "MEAN_RADIUS_OF_EARTH = 3958.7613\n",
    "DATA_PATH = Path(\"../data/\")\n"
   ]
  },
  {
   "cell_type": "code",
   "execution_count": 29,
   "metadata": {},
   "outputs": [],
   "source": [
    "def cartesian_to_gcs(v):\n",
    "    \"\"\"Change the basis used to represent\n",
    "    a *unit* vector in R^3 (3-dimensional Euclidean space)\n",
    "    from the standard basis for R^3 into a basis\n",
    "    for a geographical coordinate system (GCS).  Output is\n",
    "    in degrees. Only the latitude and longitude are returned\n",
    "    (in that order).\n",
    "\n",
    "    Args:\n",
    "        v: numpy.ndarray\n",
    "\n",
    "    Returns:\n",
    "        numpy.ndarray\n",
    "    \"\"\"\n",
    "    # https://en.wikipedia.org/wiki/Spherical_coordinate_system#In_geography\n",
    "    x = v[0]\n",
    "    y = v[1]\n",
    "    z = v[2]\n",
    "    # Assume v has L-2 norm of 1.\n",
    "    r = 1.0\n",
    "    # https://stackoverflow.com/questions/50906886/convert-spherical-to-geographical-coordinate-system\n",
    "    # Calculate the latitude\n",
    "    theta = np.arccos(z / r) * 180.0 / np.pi\n",
    "    latitude = theta - 90.0\n",
    "    # Calculate the longitude\n",
    "    phi = np.sign(y) * np.arccos(x / np.sqrt(x**2 + y**2)) * 180.0 / np.pi\n",
    "    longitude = phi\n",
    "    return np.array([latitude, longitude])\n",
    "\n",
    "def get_uniformly_distributed_points_on_sphere(n:int):\n",
    "    \"\"\"The points are returned with respect to the\n",
    "    standard basis for R^3 as an numpy.ndarray.\n",
    "    x, y, and z-coordinates are in the 0, 1, and 2 columns,\n",
    "    respectively. \n",
    "    Each row represents a different point.\n",
    "\n",
    "    References:\n",
    "    https://math.stackexchange.com/q/444700/593484\n",
    "    See alternative method 1: https://corysimon.github.io/articles/uniformdistn-on-sphere/\n",
    "    https://gis.stackexchange.com/a/356502\n",
    "    \"\"\"\n",
    "    # The user desires n points.  However, it is hard to generate\n",
    "    # exactly n points in a numerically stable way.  Therefore,\n",
    "    # we try to generate int(n * n_safety) points.\n",
    "    vecs_on_sphere = np.empty(shape=(n, 3))\n",
    "    n_safety = 1.01\n",
    "    num_points_generated = 0\n",
    "\n",
    "    while num_points_generated < n:\n",
    "        # Generate int(n * n_safety) vectors.\n",
    "        # Store these vectors as columns in a matrix V\n",
    "        # for further manipulation.\n",
    "        # Only take those columns with a large enough norm.\n",
    "        V = stats.norm.rvs(size=(int(n * n_safety), 3))\n",
    "        norms_of_V_rows = np.linalg.norm(x=V, ord=2, axis=1, keepdims=False)\n",
    "        good_rows_of_V = norms_of_V_rows > 0.0001\n",
    "\n",
    "        # https://stackoverflow.com/a/49763264/8423001\n",
    "        num_points_generated = np.count_nonzero(good_rows_of_V)\n",
    "        if num_points_generated < n:\n",
    "            n_safety = n_safety + 0.01\n",
    "            # continue with next iteration of loop\n",
    "            continue\n",
    "        # We found the number of vectors required by n\n",
    "        # that meet our numerical requirement of being long enough.\n",
    "        # Save them.\n",
    "        vecs = V[good_rows_of_V, :][0:n, :] \n",
    "        norms_of_vecs = norms_of_V_rows[good_rows_of_V][0:n]\n",
    "        # https://stackoverflow.com/questions/19602187/numpy-divide-each-row-by-a-vector-element\n",
    "        vecs_on_sphere = vecs / norms_of_vecs.reshape(-1, 1)\n",
    "        # The vectors can now\n",
    "        # be stretched so that they land on the unit-sphere.\n",
    "        \n",
    "    return vecs_on_sphere\n",
    "\n",
    "    # np.apply_along_axis(\n",
    "    #     func1d=cartesian_to_gcs,\n",
    "    #     axis=0,\n",
    "    #     arr=vecs_on_sphere\n",
    "    # )\n"
   ]
  },
  {
   "cell_type": "code",
   "execution_count": null,
   "metadata": {},
   "outputs": [],
   "source": [
    "def get_central_angle(n1, n2):\n",
    "    \"\"\"Given the so-called n-vectors n1 and n2,\n",
    "    find the central angle between them.\n",
    "    \n",
    "    Args:\n",
    "        n1: numpy.ndarray\n",
    "        n2: numpy.ndarray\n",
    "\n",
    "    See: https://en.m.wikipedia.org/wiki/N-vector\n",
    "    \"\"\"\n",
    "    delta_sigma = np.arctan2(\n",
    "        np.linalg.norm(\n",
    "            np.abs(np.cross(n1, n2)), \n",
    "            ord=2\n",
    "        ),\n",
    "        np.dot(n1, n2)\n",
    "    )\n",
    "\n",
    "    return delta_sigma"
   ]
  },
  {
   "cell_type": "code",
   "execution_count": null,
   "metadata": {},
   "outputs": [],
   "source": [
    "def greatest_circle_dist(p, q, r):\n",
    "    \"\"\"Given points p and q represented\n",
    "    as (latitude, longitude) on a sphere\n",
    "    with radius r, find the greatest circle\n",
    "    distance between them.\n",
    "    \"\"\""
   ]
  },
  {
   "cell_type": "markdown",
   "metadata": {},
   "source": [
    "# Test Functions"
   ]
  },
  {
   "cell_type": "code",
   "execution_count": 33,
   "metadata": {},
   "outputs": [
    {
     "data": {
      "text/plain": [
       "array([[-0.22334555,  0.31653128, -0.92191361],\n",
       "       [ 0.29217539,  0.59073047,  0.75211107],\n",
       "       [-0.08934994,  0.99598808,  0.00493251],\n",
       "       [-0.40372741,  0.84128935,  0.35949465],\n",
       "       [ 0.61762761,  0.10698024,  0.77916068],\n",
       "       [-0.1908254 ,  0.8183729 , -0.54208068],\n",
       "       [ 0.3821286 ,  0.30504709,  0.87230958],\n",
       "       [ 0.93398726, -0.35643555,  0.02492994],\n",
       "       [ 0.31394098, -0.01688162, -0.94929241],\n",
       "       [ 0.80006468,  0.14099125,  0.5831106 ],\n",
       "       [ 0.93852548,  0.04311535,  0.34250692],\n",
       "       [ 0.59796004,  0.58555144,  0.5473329 ],\n",
       "       [ 0.6698212 ,  0.53019784, -0.51983632]])"
      ]
     },
     "execution_count": 33,
     "metadata": {},
     "output_type": "execute_result"
    }
   ],
   "source": [
    "get_uniformly_distributed_points_on_sphere(13)"
   ]
  },
  {
   "cell_type": "code",
   "execution_count": null,
   "metadata": {},
   "outputs": [],
   "source": [
    "# https://en.m.wikipedia.org/wiki/Great-circle_distance\n",
    "# Before loop:\n",
    "# Fix a point on the unit-sphere.\n",
    "fixed_point = vecs_on_sphere[:, 0]\n",
    "\n",
    "delta_sigma = np.empty(shape=vecs_on_sphere.shape[1] - 1)\n",
    "# Get a vector of greatest-circle\n",
    "# distances to the other points.\n",
    "for j in range(1, vecs_on_sphere.shape[1]):\n",
    "    delta_sigma[j - 1] = np.arctan2(\n",
    "        np.linalg.norm(np.cross(fixed_point, vecs_on_sphere[:, j]), ord=2),\n",
    "        np.dot(fixed_point, vecs_on_sphere[:, j])\n",
    "    )"
   ]
  },
  {
   "cell_type": "code",
   "execution_count": null,
   "metadata": {},
   "outputs": [],
   "source": [
    "# Now, scale to the size of the Earth.\n",
    "distances = MEAN_RADIUS_OF_EARTH * np.abs(delta_sigma)"
   ]
  },
  {
   "cell_type": "code",
   "execution_count": null,
   "metadata": {},
   "outputs": [],
   "source": [
    "distances.sort()\n",
    "delta_sigma.sort()"
   ]
  },
  {
   "cell_type": "code",
   "execution_count": null,
   "metadata": {},
   "outputs": [],
   "source": [
    "distances[NUM_WORLD_LOCATIONS - 10: ]"
   ]
  },
  {
   "cell_type": "code",
   "execution_count": null,
   "metadata": {},
   "outputs": [],
   "source": [
    "# https://github.com/SciTools/cartopy/issues/1325\n",
    "cartopy.config[\"data_dir\"] = Path(DATA_PATH, \"raw_data\")"
   ]
  },
  {
   "cell_type": "code",
   "execution_count": null,
   "metadata": {},
   "outputs": [],
   "source": [
    "# https://datascience.stackexchange.com/questions/112104/sampling-from-earths-landmass\n",
    "natural_earth_data = shapereader.natural_earth(\n",
    "    resolution=\"10m\",\n",
    "    category=\"physical\",\n",
    "    name=\"land\"\n",
    ")"
   ]
  },
  {
   "cell_type": "code",
   "execution_count": null,
   "metadata": {},
   "outputs": [],
   "source": [
    "print(natural_earth_data)"
   ]
  },
  {
   "cell_type": "code",
   "execution_count": null,
   "metadata": {},
   "outputs": [],
   "source": [
    "land_on_earth = shapely.union_all(\n",
    "    geometries=list(shapereader.Reader(natural_earth_data).geometries())\n",
    ")\n",
    "\n",
    "shapely.prepare(\n",
    "    geometry=land_on_earth\n",
    ")"
   ]
  },
  {
   "cell_type": "code",
   "execution_count": null,
   "metadata": {},
   "outputs": [],
   "source": [
    "land_on_earth.contains(shapely.geometry.Point(33.792978, -84.412071))"
   ]
  },
  {
   "cell_type": "code",
   "execution_count": null,
   "metadata": {},
   "outputs": [],
   "source": [
    "ecoregions_2017 = geopandas.read_file(filename=Path(DATA_PATH, \"raw_data\", \"Ecoregions2017\"))"
   ]
  },
  {
   "cell_type": "code",
   "execution_count": null,
   "metadata": {},
   "outputs": [],
   "source": [
    "ecoregions_2017.crs"
   ]
  },
  {
   "cell_type": "code",
   "execution_count": null,
   "metadata": {},
   "outputs": [],
   "source": [
    "ecoregions_2017.plot()"
   ]
  },
  {
   "cell_type": "code",
   "execution_count": null,
   "metadata": {},
   "outputs": [],
   "source": [
    "ecoregions_2017.head"
   ]
  },
  {
   "cell_type": "code",
   "execution_count": null,
   "metadata": {},
   "outputs": [],
   "source": [
    "# Points have longitude first and latitude second.\n",
    "ecoregions_2017[\"geometry\"].representative_point()"
   ]
  },
  {
   "cell_type": "code",
   "execution_count": null,
   "metadata": {},
   "outputs": [],
   "source": [
    "ecoregions_2017[\"geometry\"]"
   ]
  },
  {
   "cell_type": "code",
   "execution_count": null,
   "metadata": {},
   "outputs": [],
   "source": [
    "additional_points_on_earth = geopandas.points_from_xy(x=np.array([27.099020]), y=np.array([37.640693]), crs=\"EPSG:4326\")"
   ]
  },
  {
   "cell_type": "code",
   "execution_count": null,
   "metadata": {},
   "outputs": [],
   "source": [
    "ecoregions_2017_geometry = ecoregions_2017[\"geometry\"]"
   ]
  },
  {
   "cell_type": "code",
   "execution_count": null,
   "metadata": {},
   "outputs": [],
   "source": [
    "ecoregions_2017_geometry_union = ecoregions_2017_geometry.unary_union"
   ]
  }
 ],
 "metadata": {
  "kernelspec": {
   "display_name": "doe_group_project",
   "language": "python",
   "name": "python3"
  },
  "language_info": {
   "codemirror_mode": {
    "name": "ipython",
    "version": 3
   },
   "file_extension": ".py",
   "mimetype": "text/x-python",
   "name": "python",
   "nbconvert_exporter": "python",
   "pygments_lexer": "ipython3",
   "version": "3.11.6"
  }
 },
 "nbformat": 4,
 "nbformat_minor": 2
}
